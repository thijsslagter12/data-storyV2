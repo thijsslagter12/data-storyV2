{
 "cells": [
  {
   "cell_type": "markdown",
   "metadata": {},
   "source": [
    "## Work distribution\n",
    "\n",
    "Throughout this project, we functioned as a collaborative unit.  In our online brainstorming sessions , we all brought datasets to the table, along with different viewpoints on potential topics. This team effort helped us identify the perfect fit for the project requirements.  Once the topic was chosen, we dove into data wrangling – cleaning and merging the datasets from each year into a single, unified source.\n",
    "\n",
    "In parallel, we began brainstorming visualizations. We tossed around ideas for graphs that would effectively showcase the various perspectives we planned to explore.  This was a dynamic process, with everyone contributing and refining ideas.\n",
    "\n",
    "With a clear vision for the data visualizations, we divided the tasks. Some team members focused on creating the graphs, while others started crafting the narrative that would tie them together, forming the initial draft.  We then came back together to refine both the visualizations and the story, ensuring a cohesive flow.\n",
    "\n",
    "The final stretch involved incorporating valuable peer feedback.  We used this input to polish the data story and its visual elements, resulting in the final product you see before you."
   ]
  },
  {
   "cell_type": "markdown",
   "metadata": {},
   "source": [
    "### Dario:\n",
    "\n",
    "empty"
   ]
  },
  {
   "cell_type": "markdown",
   "metadata": {},
   "source": [
    "### Tom:\n",
    "empty"
   ]
  },
  {
   "cell_type": "markdown",
   "metadata": {},
   "source": [
    "### Thijs:\n",
    "\n",
    "I focused on the setup of the notebook program and i've made some visual plots and text. I mainly focused on persective 2 in the datastory and overall layout and look of the story."
   ]
  },
  {
   "cell_type": "markdown",
   "metadata": {},
   "source": [
    "### Bibi:\n",
    "empty"
   ]
  }
 ],
 "metadata": {
  "kernelspec": {
   "display_name": "jupyterbook",
   "language": "python",
   "name": "python3"
  },
  "language_info": {
   "codemirror_mode": {
    "name": "ipython",
    "version": 3
   },
   "file_extension": ".py",
   "mimetype": "text/x-python",
   "name": "python",
   "nbconvert_exporter": "python",
   "pygments_lexer": "ipython3",
   "version": "3.10.14"
  }
 },
 "nbformat": 4,
 "nbformat_minor": 2
}