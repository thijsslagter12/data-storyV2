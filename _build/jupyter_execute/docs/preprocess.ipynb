{
 "cells": [
  {
   "cell_type": "markdown",
   "id": "3b46ee32",
   "metadata": {},
   "source": [
    "# Data Preprocessing\n",
    "\n",
    "Student names: FIRST_STUDENT, SECOND_STUDENT, THIRD_STUDENT, FORTH_STUDENT\n",
    "\n",
    "Team number: YOUR_REGISTERED_TEAM_NUMBER_ON_CANVAS"
   ]
  },
  {
   "cell_type": "markdown",
   "id": "54582175-0319-458b-b3f9-b6c8ef415196",
   "metadata": {},
   "source": [
    "The following code is used to preprocess the datasets into files that are used for the data story."
   ]
  },
  {
   "cell_type": "code",
   "execution_count": 1,
   "id": "e180382e",
   "metadata": {},
   "outputs": [],
   "source": [
    "# Step 1: Import necessary libraries\n",
    "# import pandas as pd\n",
    "\n",
    "# Step 2: Load and filter the datasets\n",
    "# data1 = load_dataset(\"path_to_dataset1.csv\")\n",
    "# filtered_data1 = filer_data1(data1)\n",
    "# data2 = load_dataset(\"path_to_dataset2.csv\")\n",
    "# filtered_data2 = filer_data2(data2)\n",
    "\n",
    "# Step 3: Merge datasets\n",
    "# merged_data = merge_datasets(filtered_data1, filtered_data2)\n",
    "\n",
    "# Step 4: Process the data for visualizations\n",
    "# first_result_for_vis = process_first_result(filtered_data1)\n",
    "# second_result_for_vis = process_second_result(filtered_data2)\n",
    "# third_result_for_vis = process_third_result(merged_data)\n",
    "\n",
    "# Step 5: Save the results into files\n",
    "# save_to_file(first_result_for_vis, \"table1.csv\")\n",
    "# save_to_file(second_result_for_vis, \"table2.csv\")\n",
    "# save_to_file(third_result_for_vis, \"table3.csv\")"
   ]
  },
  {
   "cell_type": "code",
   "execution_count": null,
   "id": "5777878e-d240-4c5e-81f2-b0431f20fa22",
   "metadata": {},
   "outputs": [],
   "source": []
  }
 ],
 "metadata": {
  "celltoolbar": "Tags",
  "kernelspec": {
   "display_name": "Python 3 (ipykernel)",
   "language": "python",
   "name": "python3"
  },
  "language_info": {
   "codemirror_mode": {
    "name": "ipython",
    "version": 3
   },
   "file_extension": ".py",
   "mimetype": "text/x-python",
   "name": "python",
   "nbconvert_exporter": "python",
   "pygments_lexer": "ipython3",
   "version": "3.10.14"
  }
 },
 "nbformat": 4,
 "nbformat_minor": 5
}