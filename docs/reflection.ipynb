{
 "cells": [
  {
   "cell_type": "markdown",
   "metadata": {},
   "source": [
    "## Reflection"
   ]
  },
  {
   "cell_type": "markdown",
   "metadata": {},
   "source": [
    "### Peer feedback\n",
    "\n",
    "On June 21th, 2023, our team J11 gathered with group J1 for peer feedback, where one group at a time pitched the work that has been done in the past 3 weeks. After the pitch, the two other groups gave feedback on what has been done well, as well as things to improve on. We received the following feedback:\n",
    "\n"
   ]
  },
  {
   "cell_type": "markdown",
   "metadata": {},
   "source": [
    "- #### Lorentz Curve and Happiness Score:\n",
    "\n",
    "    Recommendation: Examine the relationship between the Lorentz curve and the happiness score concerning inequality. This can help visualize how inequality impacts happiness. Don't show the logged GDP per capita anymore. \n",
    "   \n",
    "    Action: If leaving the GDP per capita away, the 3 GDP groups doesnt make sense anymore and thats not what we want for our perspective. "
   ]
  },
  {
   "cell_type": "markdown",
   "metadata": {},
   "source": [
    "- #### Social Support as a Correlation Argument:\n",
    "\n",
    "    Recommendation: Focus on presenting social support data clearly and consider isolating it if it adds significant value to the argument. Ensure the correlations are robust and well-explained.\n",
    "\n",
    "    Action: We left the GDP vs Happiness plot away from perspective 2."
   ]
  },
  {
   "cell_type": "markdown",
   "metadata": {},
   "source": [
    "\n",
    "\n",
    "- #### Correlation Matrix or Vector plot:\n",
    "\n",
    "    Recommendation: Create a correlation matrix or vector to visualize the relationships between different variables. This can provide a comprehensive overview of how various factors are interrelated and support your narrative with data-driven insights.\n",
    "\n",
    "    Action: this vector plot turned out to be quite choitic and not visually attrictive due to the amount of variables we have. Thats why we chose to stick with the plot we already had."
   ]
  },
  {
   "cell_type": "markdown",
   "metadata": {},
   "source": [
    "### A look into the future\n",
    "\n",
    "One of the most intriguing developments on the horizon is a potential shift in how we define happiness itself. As basic needs become increasingly easier to meet, intrinsic social factors such as purpose, community, and personal growth are likely to become more central to our understanding of happiness. In the future, we could explore how data on these factors is collected and measured, integrating this information into our data stories. This would enable us to create more precise visualizations that are comprehensively described and substantiated, offering deeper insights into the evolving nature of happiness."
   ]
  }
 ],
 "metadata": {
  "kernelspec": {
   "display_name": "jupyterbook",
   "language": "python",
   "name": "python3"
  },
  "language_info": {
   "name": "python",
   "version": "3.10.14"
  }
 },
 "nbformat": 4,
 "nbformat_minor": 2
}
