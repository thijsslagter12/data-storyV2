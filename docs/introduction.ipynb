{
 "cells": [
  {
   "cell_type": "markdown",
   "metadata": {},
   "source": [
    "## Introduction\n",
    "\n",
    "\n",
    "The age-old question of whether money can buy happiness continues to spark debate. On one hand, some argue that financial security is a fundamental building block for a fulfilling life.  They believe basic necessities and a decent wage are essential for happiness in today's world.\n",
    "\n",
    "On the other hand, some posit that true happiness goes beyond material wealth. They emphasize factors like well-being, longevity, and connection with nature as key ingredients for a happy life.\n",
    "\n",
    "To delve deeper into this complex question, we embark on a data-driven exploration. We'll analyze economic and demographic data from various countries to see if there's a correlation between \"money\" (meaning overall economic well-being) and happiness.  This project aims to shed light on whether financial prosperity paves the way for national and individual happiness.\n",
    "\n",
    "\n",
    "\n",
    "Authors:\n",
    "- Tom de Lange\n",
    "- Bibi de Marez Oyens\n",
    "- Thijs Slagter\n",
    "- Dario Madau\n"
   ]
  }
 ],
 "metadata": {
  "kernelspec": {
   "display_name": "jupyterbook",
   "language": "python",
   "name": "python3"
  },
  "language_info": {
   "name": "python",
   "version": "3.10.14"
  }
 },
 "nbformat": 4,
 "nbformat_minor": 2
}
