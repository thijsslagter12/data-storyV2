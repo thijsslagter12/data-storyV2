{
 "cells": [
  {
   "cell_type": "markdown",
   "id": "3b46ee32",
   "metadata": {},
   "source": [
    "# Does money buy happiness?\n",
    "\n",
    "Student names: Thijs Slagter, Bibi de Marez Oyens, Tom de Lange, Dario Madau\n",
    "\n",
    "Team number: C1"
   ]
  },
  {
   "cell_type": "code",
   "execution_count": 1,
   "id": "e180382e",
   "metadata": {
    "tags": [
     "hide-input"
    ]
   },
   "outputs": [
    {
     "data": {
      "text/html": [
       "<img src=\"images/960x0.png\" width=\"600\" height=\"400\"/>"
      ],
      "text/plain": [
       "<IPython.core.display.Image object>"
      ]
     },
     "metadata": {},
     "output_type": "display_data"
    },
    {
     "name": "stdout",
     "output_type": "stream",
     "text": [
      "© Forbes - John Jennings\n"
     ]
    }
   ],
   "source": [
    "# Display image from URL with smaller size and subtitle\n",
    "from IPython.display import Image, display\n",
    "\n",
    "# Load image from link\n",
    "url = 'images/960x0.png'\n",
    "\n",
    "# Set the desired image width and height\n",
    "width = 600\n",
    "height = 400\n",
    "\n",
    "# Set the subtitle text\n",
    "subtitle = \"© Forbes - John Jennings\"\n",
    "\n",
    "# Create an Image instance with the URL\n",
    "image = Image(url=url, width=width, height=height)\n",
    "\n",
    "# Display the image and subtitle\n",
    "display(image)\n",
    "print(subtitle)"
   ]
  },
  {
   "cell_type": "markdown",
   "id": "7cf81853-c237-4df2-8ed4-9deae8423fb0",
   "metadata": {},
   "source": [
    "For centuries, philosophers, theologians, and everyday people have pondered the age-old question: can money buy happiness? The answer, as with most things in life, is not a simple yes or no. While financial security undoubtedly plays a role in well-being, the relationship between money and happiness is complex and multifaceted.\n",
    "\n",
    "On one side of the spectrum, individuals grounded in practicality argue that financial security is a fundamental building block for a happy life (Diener & Biswas-Diener, 2002). They point out that basic necessities like food, shelter, and healthcare are essential for survival and overall well-being. \n",
    "\n",
    "However, others posit that true happiness transcends material wealth (Aknin, Norton & Dunn, 2009). Proponents of this perspective emphasize the importance of intrinsic factors like strong social connections, meaningful relationships, and a sense of purpose (Frey & Stutzer, 2000). They argue that focusing solely on acquiring material wealth can lead to feelings of emptiness and dissatisfaction. \n",
    "\n",
    "To delve deeper into this complex question, we embark on a data-driven exploration. We will analyze economic and demographic data from various countries, exploring the correlation between \"money\" (meaning overall economic well-being) and national/individual happiness. By harnessing scientific research and statistical analysis, this project aims to shed light on whether financial prosperity paves the way for a happier world. "
   ]
  },
  {
   "cell_type": "markdown",
   "id": "d9d4c934-c639-495f-a2bc-ed078e5659c3",
   "metadata": {},
   "source": [
    "## Dataset and Preprocessing"
   ]
  },
  {
   "cell_type": "markdown",
   "id": "850c1744-f4cc-4cc1-b0a7-9207c75837d8",
   "metadata": {},
   "source": [
    "Before the first meeting took place, all participants of our group looked for an interesting subject for this project and at least two corresponding, adequate datasets that could help build two opposite perspectives on their found topic. \n",
    "After some debate about what topic would be most suiting to inspect, we ultimately ended up with a dataset called [World Happiness Report](https://www.kaggle.com/datasets/unsdsn/world-happiness) and [Global Country Information Dataset 2023](https://www.kaggle.com/datasets/nelgiriyewithana/countries-of-the-world-2023 ) which were found on Kaggle.com. The be more specific, the World Happiness Report dataset was a collection of databases from 2015 up to 2020. \n",
    "After some research on Kaggle.com, we also found [datasets](https://www.kaggle.com/datasets/ajaypalsinghlo/world-happiness-report-2023) containing the World Happiness Scores from later years and we aggregated these all into one dataset, that we fittinly named [merged_dataset.csv](/Documents/InfVis/Draft/data-storyV2/docs/databases/merged_dataset2.csv). \n",
    "\n",
    "The Global Country Information Dataset offers detailed information about countries worldwide. It includes demographic statistics, economic metrics, environmental data, healthcare figures, education statistics, and more. With a representation from every country, the dataset provides a comprehensive global view, allowing for in-depth analyses and comparisons across nations. The data has been obtained from multiple sources.\n",
    "\n",
    "The datasets on World Happiness Scores all contained reported World Happiness Scores per country and possible, contributing factors to these happiness scores, such as life expectancy, birthrate and GDP per capita. With the possible correlations between these factors and happiness scores in both the Global Country Information Dataset and the World Happiness Report Datasets, we thought it would be interesting to discover what factors most influenced the happiness of a people and with analyzing these factors we tried to answer the ageold question: 'Does money buy happiness?'."
   ]
  },
  {
   "cell_type": "markdown",
   "id": "e206fb29",
   "metadata": {},
   "source": [
    "## Data cleaning"
   ]
  },
  {
   "cell_type": "markdown",
   "id": "e496656c",
   "metadata": {},
   "source": [
    "Since we wanted to aggregate the datasets from the years 2015 to 2020 into the Global Country Information Database 2023, based on country name, we had to ensure all columns containing the countries had the same name. We also had to correct a small discrepancy between country names in the different datasets, so they would be equal in every dataset and aggregation would be possible. \n",
    "\n",
    "To be able to differentiate between the multiple happiness score-columns, we labeled each column with the correct year.\n",
    "\n",
    "5 Rows had inefficient or too little data have on Happiness scores, so those rows were deleted. We eventually ended up with 189 countries still remaining.\n"
   ]
  },
  {
   "cell_type": "markdown",
   "id": "fa2e0cfe",
   "metadata": {},
   "source": [
    "## Variable Desprictions"
   ]
  },
  {
   "cell_type": "markdown",
   "id": "3d18d626",
   "metadata": {},
   "source": [
    "Merged_dataset2.csv is a rather big dataset, so we will show you and classify only the important variables.\n",
    "\n",
    "- Categorical/Nominal: Country names\n",
    "- Continuous/Ratio: Life expectancy, Birthrate, Infant mortality, Minimum wage, Gross tertiary education enrollment (%), \\\n",
    "Fertility rate, Maternal mortality ratio, Physicians per thousand, Out-of-pocket health expenditure, Latitude, Gasoline price,\\\n",
    " Tax revenue (%), Agricultural land, CPI (Consumer Price Index), CPI change, Unemployment rate, Longitude, Forested area (%), GDP, \\\n",
    "GDP per capita, Social support\n",
    "- Ordinal: World Happiness Score\n"
   ]
  },
  {
   "cell_type": "markdown",
   "id": "d5010a07-96a0-45a7-ba76-250a56053f62",
   "metadata": {},
   "source": [
    "## First Perspective"
   ]
  },
  {
   "cell_type": "markdown",
   "id": "ca6af30a",
   "metadata": {},
   "source": [
    "Economic welfare is the most important for the overall happiness of a country and its citizens. To experience happiness, you must have basic facilities and a minimum wage to live in today's society.\n",
    "\n"
   ]
  },
  {
   "cell_type": "markdown",
   "id": "a43c3ae1-48d8-4663-8525-7d92fae83483",
   "metadata": {},
   "source": [
    "### Argument 1"
   ]
  },
  {
   "cell_type": "markdown",
   "id": "006da157",
   "metadata": {},
   "source": [
    "Economic welfare is important for the overall happiness of a country and its citizens. Things like minimum wage and access to important facilities like healthcare correlate with more happiness."
   ]
  },
  {
   "cell_type": "code",
   "execution_count": 14,
   "id": "5a242e18",
   "metadata": {
    "tags": [
     "hide-input"
    ]
   },
   "outputs": [
    {
     "data": {
      "application/vnd.plotly.v1+json": {
       "config": {
        "plotlyServerURL": "https://plot.ly"
       },
       "data": [
        {
         "coloraxis": "coloraxis",
         "geo": "geo",
         "hovertemplate": "<b>%{hovertext}</b><br><br>Year=2020<br>iso_a3=%{location}<br>Happiness Score=%{z}<extra></extra>",
         "hovertext": [
          "Afghanistan",
          "Albania",
          "Algeria",
          "Andorra",
          "Angola",
          "Antigua and Barbuda",
          "Argentina",
          "Armenia",
          "Australia",
          "Austria",
          "Azerbaijan",
          "The Bahamas",
          "Bahrain",
          "Bangladesh",
          "Barbados",
          "Belarus",
          "Belgium",
          "Belize",
          "Benin",
          "Bhutan",
          "Bolivia",
          "Bosnia and Herzegovina",
          "Botswana",
          "Brazil",
          "Brunei",
          "Bulgaria",
          "Burkina Faso",
          "Burundi",
          "Ivory Coast",
          "Cape Verde",
          "Cambodia",
          "Cameroon",
          "Canada",
          "Central African Republic",
          "Chad",
          "Chile",
          "China",
          "Colombia",
          "Comoros",
          "Republic of the Congo",
          "Costa Rica",
          "Croatia",
          "Cuba",
          "Cyprus",
          "Czech Republic",
          "Democratic Republic of the Congo",
          "Denmark",
          "Djibouti",
          "Dominica",
          "Dominican Republic",
          "Ecuador",
          "Egypt",
          "El Salvador",
          "Equatorial Guinea",
          "Eritrea",
          "Estonia",
          "Eswatini",
          "Ethiopia",
          "Fiji",
          "Finland",
          "France",
          "Gabon",
          "The Gambia",
          "Georgia",
          "Germany",
          "Ghana",
          "Greece",
          "Grenada",
          "Guatemala",
          "Guinea",
          "Guinea-Bissau",
          "Guyana",
          "Haiti",
          "Vatican City",
          "Honduras",
          "Hungary",
          "Iceland",
          "India",
          "Indonesia",
          "Iran",
          "Iraq",
          "Ireland",
          "Israel",
          "Italy",
          "Jamaica",
          "Japan",
          "Jordan",
          "Kazakhstan",
          "Kenya",
          "Kiribati",
          "Kuwait",
          "Kyrgyzstan",
          "Laos",
          "Latvia",
          "Lebanon",
          "Lesotho",
          "Liberia",
          "Libya",
          "Liechtenstein",
          "Lithuania",
          "Luxembourg",
          "Madagascar",
          "Malawi",
          "Malaysia",
          "Maldives",
          "Mali",
          "Malta",
          "Marshall Islands",
          "Mauritania",
          "Mauritius",
          "Mexico",
          "Federated States of Micronesia",
          "Moldova",
          "Monaco",
          "Mongolia",
          "Montenegro",
          "Morocco",
          "Mozambique",
          "Myanmar",
          "Namibia",
          "Nauru",
          "Nepal",
          "Netherlands",
          "New Zealand",
          "Nicaragua",
          "Niger",
          "Nigeria",
          "North Korea",
          "North Macedonia",
          "Norway",
          "Oman",
          "Pakistan",
          "Palau",
          "Panama",
          "Papua New Guinea",
          "Paraguay",
          "Peru",
          "Philippines",
          "Poland",
          "Portugal",
          "Qatar",
          "Romania",
          "Russia",
          "Rwanda",
          "Saint Kitts and Nevis",
          "Saint Lucia",
          "Saint Vincent and the Grenadines",
          "Samoa",
          "San Marino",
          "Saudi Arabia",
          "Senegal",
          "Serbia",
          "Seychelles",
          "Sierra Leone",
          "Singapore",
          "Slovakia",
          "Slovenia",
          "Solomon Islands",
          "Somalia",
          "South Africa",
          "South Korea",
          "South Sudan",
          "Spain",
          "Sri Lanka",
          "Sudan",
          "Suriname",
          "Sweden",
          "Switzerland",
          "Syria",
          "Tajikistan",
          "Tanzania",
          "Thailand",
          "East Timor",
          "Togo",
          "Tonga",
          "Trinidad and Tobago",
          "Tunisia",
          "Turkey",
          "Turkmenistan",
          "Tuvalu",
          "Uganda",
          "Ukraine",
          "United Arab Emirates",
          "United Kingdom",
          "United States",
          "Uruguay",
          "Uzbekistan",
          "Vanuatu",
          "Venezuela",
          "Vietnam",
          "Yemen",
          "Zambia",
          "Zimbabwe"
         ],
         "locations": [
          "AFG",
          "ALB",
          "DZA",
          "AND",
          "AGO",
          "ATG",
          "ARG",
          "ARM",
          "AUS",
          "AUT",
          "AZE",
          "BHS",
          "BHR",
          "BGD",
          "BRB",
          "BLR",
          "BEL",
          "BLZ",
          "BEN",
          "BTN",
          "BOL",
          "BIH",
          "BWA",
          "BRA",
          "BRN",
          "BGR",
          "BFA",
          "BDI",
          null,
          "KHM",
          "KHM",
          "CMR",
          "CAN",
          "CAF",
          "TCD",
          "CHL",
          "CHN",
          "COL",
          "COM",
          "COG",
          "CRI",
          "HRV",
          "CUB",
          "CYP",
          "CZE",
          "COD",
          "DNK",
          "DJI",
          "DMA",
          "DOM",
          "ECU",
          "EGY",
          "SLV",
          "GNQ",
          "ERI",
          "EST",
          "SWZ",
          "ETH",
          "FJI",
          "FIN",
          "FRA",
          "GAB",
          "GMB",
          "GEO",
          "DEU",
          "GHA",
          "GRC",
          "GRD",
          "GTM",
          "GIN",
          "GNB",
          "GUY",
          "HTI",
          null,
          "HND",
          "HUN",
          "ISL",
          "IND",
          "IDN",
          "IRN",
          "IRQ",
          "IRL",
          "ISR",
          "ITA",
          "JAM",
          "JPN",
          "JOR",
          "KAZ",
          "KEN",
          "KIR",
          "KWT",
          "KGZ",
          "4.796",
          "LVA",
          "LBN",
          "LSO",
          "LBR",
          "LBY",
          "LIE",
          "LTU",
          "LUX",
          "MDG",
          "MWI",
          "MYS",
          "MDV",
          "MLI",
          "MLT",
          "MHL",
          "MRT",
          "MUS",
          "MEX",
          "FSM",
          "MDA",
          "MCO",
          "MNG",
          "MNE",
          "MAR",
          "MOZ",
          "MMR",
          "NAM",
          "NRU",
          "NPL",
          "NLD",
          "NZL",
          "NIC",
          "NER",
          "NGA",
          null,
          "MKD",
          "NOR",
          "OMN",
          "PAK",
          "PLW",
          "PAN",
          "PNG",
          "PRY",
          "PER",
          "PHL",
          "POL",
          "PRT",
          "QAT",
          "ROU",
          "RUS",
          "RWA",
          "KNA",
          "LCA",
          "VCT",
          "WSM",
          "SMR",
          "SAU",
          "SEN",
          "SRB",
          "SYC",
          "SLE",
          "SGP",
          "SVK",
          "SVN",
          "SLB",
          "SOM",
          "ZAF",
          "5.895",
          "SSD",
          "ESP",
          "LKA",
          "SDN",
          "SUR",
          "SWE",
          "CHE",
          "SYR",
          "TJK",
          "TZA",
          "THA",
          "TLS",
          "TGO",
          "TON",
          "TTO",
          "TUN",
          "TUR",
          "TKM",
          "TUV",
          "UGA",
          "UKR",
          "ARE",
          "GBR",
          "USA",
          "URY",
          "UZB",
          "VUT",
          "VEN",
          "VNM",
          "YEM",
          "ZMB",
          "ZWE"
         ],
         "name": "",
         "type": "choropleth",
         "z": [
          2.566900015,
          4.882699966,
          5.005099773,
          null,
          3.795,
          null,
          5.974699974,
          4.676799774,
          7.222799778,
          7.294199944,
          5.164800167,
          null,
          6.227300167,
          4.832799911,
          null,
          5.539899826,
          6.863500118,
          null,
          5.21600008,
          null,
          5.747499943,
          5.674099922,
          3.478899956,
          6.375599861,
          null,
          5.101500034,
          4.768700123,
          3.775300026,
          5.233300209,
          null,
          4.848400116,
          5.084899902,
          7.23210001,
          3.475899935,
          4.422699928,
          6.228499889,
          5.123899937,
          6.163400173,
          4.288599968,
          4.812,
          7.121399879,
          5.504700184,
          5.425,
          6.15899992,
          6.910900116,
          4.812,
          7.645599842,
          null,
          null,
          5.689199924,
          5.925199986,
          4.151400089,
          6.34829998,
          null,
          4.668,
          6.021800041,
          null,
          4.186200142,
          null,
          7.808700085,
          6.663799763,
          4.829299927,
          null,
          4.672599792,
          7.075799942,
          5.147999763,
          5.514999866,
          null,
          6.398900032,
          4.949299812,
          null,
          6.269,
          3.720799923,
          null,
          5.953199863,
          6.000400066,
          7.504499912,
          3.573299885,
          5.285600185,
          4.672399998,
          4.784800053,
          7.093699932,
          7.128600121,
          6.38740015,
          5.889800072,
          5.870800018,
          4.633399963,
          6.057899952,
          4.583000183,
          null,
          6.102099895,
          5.541500092,
          4.888599873,
          5.949999809,
          4.771500111,
          3.652800083,
          4.557899952,
          5.488800049,
          null,
          6.215499878,
          7.237500191,
          4.165599823,
          3.538000107,
          5.384300232,
          5.197599888,
          4.729300022,
          6.772799969,
          null,
          4.374599934,
          6.101299763,
          6.465000153,
          null,
          5.607500076,
          null,
          5.456200123,
          5.54610014,
          5.094799995,
          4.623600006,
          4.308000088,
          4.571100235,
          null,
          5.137199879,
          7.448900223,
          7.299600124,
          6.13710022,
          4.909599781,
          4.724100113,
          null,
          null,
          7.487999916,
          6.853,
          5.69329977,
          null,
          6.304800034,
          5.192,
          5.692100048,
          5.796800137,
          6.006000042,
          6.186299801,
          5.910900116,
          null,
          6.123700142,
          5.546000004,
          3.312299967,
          null,
          null,
          null,
          null,
          null,
          6.406499863,
          4.980800152,
          5.77820015,
          null,
          3.926399946,
          6.377099991,
          6.280600071,
          6.363399982,
          null,
          4.668,
          4.814099789,
          5.872399807,
          2.816600084,
          6.400899887,
          4.327000141,
          4.139,
          6.269,
          7.353499889,
          7.559899807,
          3.462,
          5.555699825,
          3.476200104,
          5.998799801,
          null,
          4.187200069,
          null,
          6.191899776,
          4.392199993,
          5.131800175,
          5.119100094,
          null,
          4.43200016,
          4.56069994,
          6.790800095,
          7.164500237,
          6.939599991,
          6.440100193,
          6.257599831,
          null,
          5.053199768,
          5.353499889,
          3.527400017,
          3.759399891,
          3.299200058
         ]
        }
       ],
       "frames": [
        {
         "data": [
          {
           "coloraxis": "coloraxis",
           "geo": "geo",
           "hovertemplate": "<b>%{hovertext}</b><br><br>Year=2020<br>iso_a3=%{location}<br>Happiness Score=%{z}<extra></extra>",
           "hovertext": [
            "Afghanistan",
            "Albania",
            "Algeria",
            "Andorra",
            "Angola",
            "Antigua and Barbuda",
            "Argentina",
            "Armenia",
            "Australia",
            "Austria",
            "Azerbaijan",
            "The Bahamas",
            "Bahrain",
            "Bangladesh",
            "Barbados",
            "Belarus",
            "Belgium",
            "Belize",
            "Benin",
            "Bhutan",
            "Bolivia",
            "Bosnia and Herzegovina",
            "Botswana",
            "Brazil",
            "Brunei",
            "Bulgaria",
            "Burkina Faso",
            "Burundi",
            "Ivory Coast",
            "Cape Verde",
            "Cambodia",
            "Cameroon",
            "Canada",
            "Central African Republic",
            "Chad",
            "Chile",
            "China",
            "Colombia",
            "Comoros",
            "Republic of the Congo",
            "Costa Rica",
            "Croatia",
            "Cuba",
            "Cyprus",
            "Czech Republic",
            "Democratic Republic of the Congo",
            "Denmark",
            "Djibouti",
            "Dominica",
            "Dominican Republic",
            "Ecuador",
            "Egypt",
            "El Salvador",
            "Equatorial Guinea",
            "Eritrea",
            "Estonia",
            "Eswatini",
            "Ethiopia",
            "Fiji",
            "Finland",
            "France",
            "Gabon",
            "The Gambia",
            "Georgia",
            "Germany",
            "Ghana",
            "Greece",
            "Grenada",
            "Guatemala",
            "Guinea",
            "Guinea-Bissau",
            "Guyana",
            "Haiti",
            "Vatican City",
            "Honduras",
            "Hungary",
            "Iceland",
            "India",
            "Indonesia",
            "Iran",
            "Iraq",
            "Ireland",
            "Israel",
            "Italy",
            "Jamaica",
            "Japan",
            "Jordan",
            "Kazakhstan",
            "Kenya",
            "Kiribati",
            "Kuwait",
            "Kyrgyzstan",
            "Laos",
            "Latvia",
            "Lebanon",
            "Lesotho",
            "Liberia",
            "Libya",
            "Liechtenstein",
            "Lithuania",
            "Luxembourg",
            "Madagascar",
            "Malawi",
            "Malaysia",
            "Maldives",
            "Mali",
            "Malta",
            "Marshall Islands",
            "Mauritania",
            "Mauritius",
            "Mexico",
            "Federated States of Micronesia",
            "Moldova",
            "Monaco",
            "Mongolia",
            "Montenegro",
            "Morocco",
            "Mozambique",
            "Myanmar",
            "Namibia",
            "Nauru",
            "Nepal",
            "Netherlands",
            "New Zealand",
            "Nicaragua",
            "Niger",
            "Nigeria",
            "North Korea",
            "North Macedonia",
            "Norway",
            "Oman",
            "Pakistan",
            "Palau",
            "Panama",
            "Papua New Guinea",
            "Paraguay",
            "Peru",
            "Philippines",
            "Poland",
            "Portugal",
            "Qatar",
            "Romania",
            "Russia",
            "Rwanda",
            "Saint Kitts and Nevis",
            "Saint Lucia",
            "Saint Vincent and the Grenadines",
            "Samoa",
            "San Marino",
            "Saudi Arabia",
            "Senegal",
            "Serbia",
            "Seychelles",
            "Sierra Leone",
            "Singapore",
            "Slovakia",
            "Slovenia",
            "Solomon Islands",
            "Somalia",
            "South Africa",
            "South Korea",
            "South Sudan",
            "Spain",
            "Sri Lanka",
            "Sudan",
            "Suriname",
            "Sweden",
            "Switzerland",
            "Syria",
            "Tajikistan",
            "Tanzania",
            "Thailand",
            "East Timor",
            "Togo",
            "Tonga",
            "Trinidad and Tobago",
            "Tunisia",
            "Turkey",
            "Turkmenistan",
            "Tuvalu",
            "Uganda",
            "Ukraine",
            "United Arab Emirates",
            "United Kingdom",
            "United States",
            "Uruguay",
            "Uzbekistan",
            "Vanuatu",
            "Venezuela",
            "Vietnam",
            "Yemen",
            "Zambia",
            "Zimbabwe"
           ],
           "locations": [
            "AFG",
            "ALB",
            "DZA",
            "AND",
            "AGO",
            "ATG",
            "ARG",
            "ARM",
            "AUS",
            "AUT",
            "AZE",
            "BHS",
            "BHR",
            "BGD",
            "BRB",
            "BLR",
            "BEL",
            "BLZ",
            "BEN",
            "BTN",
            "BOL",
            "BIH",
            "BWA",
            "BRA",
            "BRN",
            "BGR",
            "BFA",
            "BDI",
            null,
            "KHM",
            "KHM",
            "CMR",
            "CAN",
            "CAF",
            "TCD",
            "CHL",
            "CHN",
            "COL",
            "COM",
            "COG",
            "CRI",
            "HRV",
            "CUB",
            "CYP",
            "CZE",
            "COD",
            "DNK",
            "DJI",
            "DMA",
            "DOM",
            "ECU",
            "EGY",
            "SLV",
            "GNQ",
            "ERI",
            "EST",
            "SWZ",
            "ETH",
            "FJI",
            "FIN",
            "FRA",
            "GAB",
            "GMB",
            "GEO",
            "DEU",
            "GHA",
            "GRC",
            "GRD",
            "GTM",
            "GIN",
            "GNB",
            "GUY",
            "HTI",
            null,
            "HND",
            "HUN",
            "ISL",
            "IND",
            "IDN",
            "IRN",
            "IRQ",
            "IRL",
            "ISR",
            "ITA",
            "JAM",
            "JPN",
            "JOR",
            "KAZ",
            "KEN",
            "KIR",
            "KWT",
            "KGZ",
            "4.796",
            "LVA",
            "LBN",
            "LSO",
            "LBR",
            "LBY",
            "LIE",
            "LTU",
            "LUX",
            "MDG",
            "MWI",
            "MYS",
            "MDV",
            "MLI",
            "MLT",
            "MHL",
            "MRT",
            "MUS",
            "MEX",
            "FSM",
            "MDA",
            "MCO",
            "MNG",
            "MNE",
            "MAR",
            "MOZ",
            "MMR",
            "NAM",
            "NRU",
            "NPL",
            "NLD",
            "NZL",
            "NIC",
            "NER",
            "NGA",
            null,
            "MKD",
            "NOR",
            "OMN",
            "PAK",
            "PLW",
            "PAN",
            "PNG",
            "PRY",
            "PER",
            "PHL",
            "POL",
            "PRT",
            "QAT",
            "ROU",
            "RUS",
            "RWA",
            "KNA",
            "LCA",
            "VCT",
            "WSM",
            "SMR",
            "SAU",
            "SEN",
            "SRB",
            "SYC",
            "SLE",
            "SGP",
            "SVK",
            "SVN",
            "SLB",
            "SOM",
            "ZAF",
            "5.895",
            "SSD",
            "ESP",
            "LKA",
            "SDN",
            "SUR",
            "SWE",
            "CHE",
            "SYR",
            "TJK",
            "TZA",
            "THA",
            "TLS",
            "TGO",
            "TON",
            "TTO",
            "TUN",
            "TUR",
            "TKM",
            "TUV",
            "UGA",
            "UKR",
            "ARE",
            "GBR",
            "USA",
            "URY",
            "UZB",
            "VUT",
            "VEN",
            "VNM",
            "YEM",
            "ZMB",
            "ZWE"
           ],
           "name": "",
           "type": "choropleth",
           "z": [
            2.566900015,
            4.882699966,
            5.005099773,
            null,
            3.795,
            null,
            5.974699974,
            4.676799774,
            7.222799778,
            7.294199944,
            5.164800167,
            null,
            6.227300167,
            4.832799911,
            null,
            5.539899826,
            6.863500118,
            null,
            5.21600008,
            null,
            5.747499943,
            5.674099922,
            3.478899956,
            6.375599861,
            null,
            5.101500034,
            4.768700123,
            3.775300026,
            5.233300209,
            null,
            4.848400116,
            5.084899902,
            7.23210001,
            3.475899935,
            4.422699928,
            6.228499889,
            5.123899937,
            6.163400173,
            4.288599968,
            4.812,
            7.121399879,
            5.504700184,
            5.425,
            6.15899992,
            6.910900116,
            4.812,
            7.645599842,
            null,
            null,
            5.689199924,
            5.925199986,
            4.151400089,
            6.34829998,
            null,
            4.668,
            6.021800041,
            null,
            4.186200142,
            null,
            7.808700085,
            6.663799763,
            4.829299927,
            null,
            4.672599792,
            7.075799942,
            5.147999763,
            5.514999866,
            null,
            6.398900032,
            4.949299812,
            null,
            6.269,
            3.720799923,
            null,
            5.953199863,
            6.000400066,
            7.504499912,
            3.573299885,
            5.285600185,
            4.672399998,
            4.784800053,
            7.093699932,
            7.128600121,
            6.38740015,
            5.889800072,
            5.870800018,
            4.633399963,
            6.057899952,
            4.583000183,
            null,
            6.102099895,
            5.541500092,
            4.888599873,
            5.949999809,
            4.771500111,
            3.652800083,
            4.557899952,
            5.488800049,
            null,
            6.215499878,
            7.237500191,
            4.165599823,
            3.538000107,
            5.384300232,
            5.197599888,
            4.729300022,
            6.772799969,
            null,
            4.374599934,
            6.101299763,
            6.465000153,
            null,
            5.607500076,
            null,
            5.456200123,
            5.54610014,
            5.094799995,
            4.623600006,
            4.308000088,
            4.571100235,
            null,
            5.137199879,
            7.448900223,
            7.299600124,
            6.13710022,
            4.909599781,
            4.724100113,
            null,
            null,
            7.487999916,
            6.853,
            5.69329977,
            null,
            6.304800034,
            5.192,
            5.692100048,
            5.796800137,
            6.006000042,
            6.186299801,
            5.910900116,
            null,
            6.123700142,
            5.546000004,
            3.312299967,
            null,
            null,
            null,
            null,
            null,
            6.406499863,
            4.980800152,
            5.77820015,
            null,
            3.926399946,
            6.377099991,
            6.280600071,
            6.363399982,
            null,
            4.668,
            4.814099789,
            5.872399807,
            2.816600084,
            6.400899887,
            4.327000141,
            4.139,
            6.269,
            7.353499889,
            7.559899807,
            3.462,
            5.555699825,
            3.476200104,
            5.998799801,
            null,
            4.187200069,
            null,
            6.191899776,
            4.392199993,
            5.131800175,
            5.119100094,
            null,
            4.43200016,
            4.56069994,
            6.790800095,
            7.164500237,
            6.939599991,
            6.440100193,
            6.257599831,
            null,
            5.053199768,
            5.353499889,
            3.527400017,
            3.759399891,
            3.299200058
           ]
          }
         ],
         "name": "2020"
        },
        {
         "data": [
          {
           "coloraxis": "coloraxis",
           "geo": "geo",
           "hovertemplate": "<b>%{hovertext}</b><br><br>Year=2019<br>iso_a3=%{location}<br>Happiness Score=%{z}<extra></extra>",
           "hovertext": [
            "Afghanistan",
            "Albania",
            "Algeria",
            "Andorra",
            "Angola",
            "Antigua and Barbuda",
            "Argentina",
            "Armenia",
            "Australia",
            "Austria",
            "Azerbaijan",
            "The Bahamas",
            "Bahrain",
            "Bangladesh",
            "Barbados",
            "Belarus",
            "Belgium",
            "Belize",
            "Benin",
            "Bhutan",
            "Bolivia",
            "Bosnia and Herzegovina",
            "Botswana",
            "Brazil",
            "Brunei",
            "Bulgaria",
            "Burkina Faso",
            "Burundi",
            "Ivory Coast",
            "Cape Verde",
            "Cambodia",
            "Cameroon",
            "Canada",
            "Central African Republic",
            "Chad",
            "Chile",
            "China",
            "Colombia",
            "Comoros",
            "Republic of the Congo",
            "Costa Rica",
            "Croatia",
            "Cuba",
            "Cyprus",
            "Czech Republic",
            "Democratic Republic of the Congo",
            "Denmark",
            "Djibouti",
            "Dominica",
            "Dominican Republic",
            "Ecuador",
            "Egypt",
            "El Salvador",
            "Equatorial Guinea",
            "Eritrea",
            "Estonia",
            "Eswatini",
            "Ethiopia",
            "Fiji",
            "Finland",
            "France",
            "Gabon",
            "The Gambia",
            "Georgia",
            "Germany",
            "Ghana",
            "Greece",
            "Grenada",
            "Guatemala",
            "Guinea",
            "Guinea-Bissau",
            "Guyana",
            "Haiti",
            "Vatican City",
            "Honduras",
            "Hungary",
            "Iceland",
            "India",
            "Indonesia",
            "Iran",
            "Iraq",
            "Ireland",
            "Israel",
            "Italy",
            "Jamaica",
            "Japan",
            "Jordan",
            "Kazakhstan",
            "Kenya",
            "Kiribati",
            "Kuwait",
            "Kyrgyzstan",
            "Laos",
            "Latvia",
            "Lebanon",
            "Lesotho",
            "Liberia",
            "Libya",
            "Liechtenstein",
            "Lithuania",
            "Luxembourg",
            "Madagascar",
            "Malawi",
            "Malaysia",
            "Maldives",
            "Mali",
            "Malta",
            "Marshall Islands",
            "Mauritania",
            "Mauritius",
            "Mexico",
            "Federated States of Micronesia",
            "Moldova",
            "Monaco",
            "Mongolia",
            "Montenegro",
            "Morocco",
            "Mozambique",
            "Myanmar",
            "Namibia",
            "Nauru",
            "Nepal",
            "Netherlands",
            "New Zealand",
            "Nicaragua",
            "Niger",
            "Nigeria",
            "North Korea",
            "North Macedonia",
            "Norway",
            "Oman",
            "Pakistan",
            "Palau",
            "Panama",
            "Papua New Guinea",
            "Paraguay",
            "Peru",
            "Philippines",
            "Poland",
            "Portugal",
            "Qatar",
            "Romania",
            "Russia",
            "Rwanda",
            "Saint Kitts and Nevis",
            "Saint Lucia",
            "Saint Vincent and the Grenadines",
            "Samoa",
            "San Marino",
            "Saudi Arabia",
            "Senegal",
            "Serbia",
            "Seychelles",
            "Sierra Leone",
            "Singapore",
            "Slovakia",
            "Slovenia",
            "Solomon Islands",
            "Somalia",
            "South Africa",
            "South Korea",
            "South Sudan",
            "Spain",
            "Sri Lanka",
            "Sudan",
            "Suriname",
            "Sweden",
            "Switzerland",
            "Syria",
            "Tajikistan",
            "Tanzania",
            "Thailand",
            "East Timor",
            "Togo",
            "Tonga",
            "Trinidad and Tobago",
            "Tunisia",
            "Turkey",
            "Turkmenistan",
            "Tuvalu",
            "Uganda",
            "Ukraine",
            "United Arab Emirates",
            "United Kingdom",
            "United States",
            "Uruguay",
            "Uzbekistan",
            "Vanuatu",
            "Venezuela",
            "Vietnam",
            "Yemen",
            "Zambia",
            "Zimbabwe"
           ],
           "locations": [
            "AFG",
            "ALB",
            "DZA",
            "AND",
            "AGO",
            "ATG",
            "ARG",
            "ARM",
            "AUS",
            "AUT",
            "AZE",
            "BHS",
            "BHR",
            "BGD",
            "BRB",
            "BLR",
            "BEL",
            "BLZ",
            "BEN",
            "BTN",
            "BOL",
            "BIH",
            "BWA",
            "BRA",
            "BRN",
            "BGR",
            "BFA",
            "BDI",
            null,
            "KHM",
            "KHM",
            "CMR",
            "CAN",
            "CAF",
            "TCD",
            "CHL",
            "CHN",
            "COL",
            "COM",
            "COG",
            "CRI",
            "HRV",
            "CUB",
            "CYP",
            "CZE",
            "COD",
            "DNK",
            "DJI",
            "DMA",
            "DOM",
            "ECU",
            "EGY",
            "SLV",
            "GNQ",
            "ERI",
            "EST",
            "SWZ",
            "ETH",
            "FJI",
            "FIN",
            "FRA",
            "GAB",
            "GMB",
            "GEO",
            "DEU",
            "GHA",
            "GRC",
            "GRD",
            "GTM",
            "GIN",
            "GNB",
            "GUY",
            "HTI",
            null,
            "HND",
            "HUN",
            "ISL",
            "IND",
            "IDN",
            "IRN",
            "IRQ",
            "IRL",
            "ISR",
            "ITA",
            "JAM",
            "JPN",
            "JOR",
            "KAZ",
            "KEN",
            "KIR",
            "KWT",
            "KGZ",
            "4.796",
            "LVA",
            "LBN",
            "LSO",
            "LBR",
            "LBY",
            "LIE",
            "LTU",
            "LUX",
            "MDG",
            "MWI",
            "MYS",
            "MDV",
            "MLI",
            "MLT",
            "MHL",
            "MRT",
            "MUS",
            "MEX",
            "FSM",
            "MDA",
            "MCO",
            "MNG",
            "MNE",
            "MAR",
            "MOZ",
            "MMR",
            "NAM",
            "NRU",
            "NPL",
            "NLD",
            "NZL",
            "NIC",
            "NER",
            "NGA",
            null,
            "MKD",
            "NOR",
            "OMN",
            "PAK",
            "PLW",
            "PAN",
            "PNG",
            "PRY",
            "PER",
            "PHL",
            "POL",
            "PRT",
            "QAT",
            "ROU",
            "RUS",
            "RWA",
            "KNA",
            "LCA",
            "VCT",
            "WSM",
            "SMR",
            "SAU",
            "SEN",
            "SRB",
            "SYC",
            "SLE",
            "SGP",
            "SVK",
            "SVN",
            "SLB",
            "SOM",
            "ZAF",
            "5.895",
            "SSD",
            "ESP",
            "LKA",
            "SDN",
            "SUR",
            "SWE",
            "CHE",
            "SYR",
            "TJK",
            "TZA",
            "THA",
            "TLS",
            "TGO",
            "TON",
            "TTO",
            "TUN",
            "TUR",
            "TKM",
            "TUV",
            "UGA",
            "UKR",
            "ARE",
            "GBR",
            "USA",
            "URY",
            "UZB",
            "VUT",
            "VEN",
            "VNM",
            "YEM",
            "ZMB",
            "ZWE"
           ],
           "name": "",
           "type": "choropleth",
           "z": [
            3.203,
            4.719,
            5.211,
            null,
            3.795,
            null,
            6.086,
            4.559,
            7.228,
            7.246,
            5.208,
            null,
            6.199,
            4.456,
            null,
            5.323,
            6.923,
            null,
            4.883,
            5.082,
            5.779,
            5.386,
            3.488,
            6.3,
            null,
            5.011,
            4.587,
            3.775,
            4.944,
            null,
            4.7,
            5.044,
            7.278,
            3.083,
            4.35,
            6.444,
            5.191,
            6.125,
            3.973,
            4.812,
            7.167,
            5.432,
            5.425,
            6.046,
            6.852,
            4.812,
            7.6,
            null,
            null,
            5.425,
            6.028,
            4.166,
            6.253,
            null,
            4.668,
            5.893,
            null,
            4.286,
            null,
            7.769,
            6.592,
            4.799,
            null,
            4.519,
            6.985,
            4.996,
            5.287,
            null,
            6.436,
            4.534,
            null,
            6.269,
            3.597,
            null,
            5.86,
            5.758,
            7.494,
            4.015,
            5.192,
            4.548,
            4.437,
            7.021,
            7.139,
            6.223,
            5.89,
            5.886,
            4.906,
            5.809,
            4.509,
            null,
            6.021,
            5.261,
            4.796,
            5.94,
            5.197,
            3.802,
            3.975,
            5.525,
            null,
            6.149,
            7.09,
            3.933,
            3.41,
            5.339,
            null,
            4.39,
            6.726,
            null,
            4.49,
            5.888,
            6.595,
            null,
            5.529,
            null,
            5.285,
            5.523,
            5.208,
            4.466,
            4.36,
            4.639,
            null,
            4.913,
            7.488,
            7.307,
            6.105,
            4.628,
            5.265,
            null,
            5.274,
            7.554,
            6.853,
            5.653,
            null,
            6.321,
            5.192,
            5.743,
            5.697,
            5.631,
            6.182,
            5.693,
            6.374,
            6.07,
            5.648,
            3.334,
            null,
            null,
            null,
            null,
            null,
            6.375,
            4.681,
            5.603,
            null,
            4.374,
            6.262,
            6.198,
            6.118,
            null,
            4.668,
            4.722,
            5.895,
            2.853,
            6.354,
            4.366,
            4.139,
            6.269,
            7.343,
            7.48,
            3.462,
            5.467,
            3.231,
            6.008,
            null,
            4.085,
            null,
            null,
            4.461,
            5.373,
            5.247,
            null,
            4.189,
            4.332,
            6.825,
            7.054,
            6.892,
            6.293,
            6.174,
            null,
            4.707,
            5.175,
            3.38,
            4.107,
            3.663
           ]
          }
         ],
         "name": "2019"
        },
        {
         "data": [
          {
           "coloraxis": "coloraxis",
           "geo": "geo",
           "hovertemplate": "<b>%{hovertext}</b><br><br>Year=2018<br>iso_a3=%{location}<br>Happiness Score=%{z}<extra></extra>",
           "hovertext": [
            "Afghanistan",
            "Albania",
            "Algeria",
            "Andorra",
            "Angola",
            "Antigua and Barbuda",
            "Argentina",
            "Armenia",
            "Australia",
            "Austria",
            "Azerbaijan",
            "The Bahamas",
            "Bahrain",
            "Bangladesh",
            "Barbados",
            "Belarus",
            "Belgium",
            "Belize",
            "Benin",
            "Bhutan",
            "Bolivia",
            "Bosnia and Herzegovina",
            "Botswana",
            "Brazil",
            "Brunei",
            "Bulgaria",
            "Burkina Faso",
            "Burundi",
            "Ivory Coast",
            "Cape Verde",
            "Cambodia",
            "Cameroon",
            "Canada",
            "Central African Republic",
            "Chad",
            "Chile",
            "China",
            "Colombia",
            "Comoros",
            "Republic of the Congo",
            "Costa Rica",
            "Croatia",
            "Cuba",
            "Cyprus",
            "Czech Republic",
            "Democratic Republic of the Congo",
            "Denmark",
            "Djibouti",
            "Dominica",
            "Dominican Republic",
            "Ecuador",
            "Egypt",
            "El Salvador",
            "Equatorial Guinea",
            "Eritrea",
            "Estonia",
            "Eswatini",
            "Ethiopia",
            "Fiji",
            "Finland",
            "France",
            "Gabon",
            "The Gambia",
            "Georgia",
            "Germany",
            "Ghana",
            "Greece",
            "Grenada",
            "Guatemala",
            "Guinea",
            "Guinea-Bissau",
            "Guyana",
            "Haiti",
            "Vatican City",
            "Honduras",
            "Hungary",
            "Iceland",
            "India",
            "Indonesia",
            "Iran",
            "Iraq",
            "Ireland",
            "Israel",
            "Italy",
            "Jamaica",
            "Japan",
            "Jordan",
            "Kazakhstan",
            "Kenya",
            "Kiribati",
            "Kuwait",
            "Kyrgyzstan",
            "Laos",
            "Latvia",
            "Lebanon",
            "Lesotho",
            "Liberia",
            "Libya",
            "Liechtenstein",
            "Lithuania",
            "Luxembourg",
            "Madagascar",
            "Malawi",
            "Malaysia",
            "Maldives",
            "Mali",
            "Malta",
            "Marshall Islands",
            "Mauritania",
            "Mauritius",
            "Mexico",
            "Federated States of Micronesia",
            "Moldova",
            "Monaco",
            "Mongolia",
            "Montenegro",
            "Morocco",
            "Mozambique",
            "Myanmar",
            "Namibia",
            "Nauru",
            "Nepal",
            "Netherlands",
            "New Zealand",
            "Nicaragua",
            "Niger",
            "Nigeria",
            "North Korea",
            "North Macedonia",
            "Norway",
            "Oman",
            "Pakistan",
            "Palau",
            "Panama",
            "Papua New Guinea",
            "Paraguay",
            "Peru",
            "Philippines",
            "Poland",
            "Portugal",
            "Qatar",
            "Romania",
            "Russia",
            "Rwanda",
            "Saint Kitts and Nevis",
            "Saint Lucia",
            "Saint Vincent and the Grenadines",
            "Samoa",
            "San Marino",
            "Saudi Arabia",
            "Senegal",
            "Serbia",
            "Seychelles",
            "Sierra Leone",
            "Singapore",
            "Slovakia",
            "Slovenia",
            "Solomon Islands",
            "Somalia",
            "South Africa",
            "South Korea",
            "South Sudan",
            "Spain",
            "Sri Lanka",
            "Sudan",
            "Suriname",
            "Sweden",
            "Switzerland",
            "Syria",
            "Tajikistan",
            "Tanzania",
            "Thailand",
            "East Timor",
            "Togo",
            "Tonga",
            "Trinidad and Tobago",
            "Tunisia",
            "Turkey",
            "Turkmenistan",
            "Tuvalu",
            "Uganda",
            "Ukraine",
            "United Arab Emirates",
            "United Kingdom",
            "United States",
            "Uruguay",
            "Uzbekistan",
            "Vanuatu",
            "Venezuela",
            "Vietnam",
            "Yemen",
            "Zambia",
            "Zimbabwe"
           ],
           "locations": [
            "AFG",
            "ALB",
            "DZA",
            "AND",
            "AGO",
            "ATG",
            "ARG",
            "ARM",
            "AUS",
            "AUT",
            "AZE",
            "BHS",
            "BHR",
            "BGD",
            "BRB",
            "BLR",
            "BEL",
            "BLZ",
            "BEN",
            "BTN",
            "BOL",
            "BIH",
            "BWA",
            "BRA",
            "BRN",
            "BGR",
            "BFA",
            "BDI",
            null,
            "KHM",
            "KHM",
            "CMR",
            "CAN",
            "CAF",
            "TCD",
            "CHL",
            "CHN",
            "COL",
            "COM",
            "COG",
            "CRI",
            "HRV",
            "CUB",
            "CYP",
            "CZE",
            "COD",
            "DNK",
            "DJI",
            "DMA",
            "DOM",
            "ECU",
            "EGY",
            "SLV",
            "GNQ",
            "ERI",
            "EST",
            "SWZ",
            "ETH",
            "FJI",
            "FIN",
            "FRA",
            "GAB",
            "GMB",
            "GEO",
            "DEU",
            "GHA",
            "GRC",
            "GRD",
            "GTM",
            "GIN",
            "GNB",
            "GUY",
            "HTI",
            null,
            "HND",
            "HUN",
            "ISL",
            "IND",
            "IDN",
            "IRN",
            "IRQ",
            "IRL",
            "ISR",
            "ITA",
            "JAM",
            "JPN",
            "JOR",
            "KAZ",
            "KEN",
            "KIR",
            "KWT",
            "KGZ",
            "4.796",
            "LVA",
            "LBN",
            "LSO",
            "LBR",
            "LBY",
            "LIE",
            "LTU",
            "LUX",
            "MDG",
            "MWI",
            "MYS",
            "MDV",
            "MLI",
            "MLT",
            "MHL",
            "MRT",
            "MUS",
            "MEX",
            "FSM",
            "MDA",
            "MCO",
            "MNG",
            "MNE",
            "MAR",
            "MOZ",
            "MMR",
            "NAM",
            "NRU",
            "NPL",
            "NLD",
            "NZL",
            "NIC",
            "NER",
            "NGA",
            null,
            "MKD",
            "NOR",
            "OMN",
            "PAK",
            "PLW",
            "PAN",
            "PNG",
            "PRY",
            "PER",
            "PHL",
            "POL",
            "PRT",
            "QAT",
            "ROU",
            "RUS",
            "RWA",
            "KNA",
            "LCA",
            "VCT",
            "WSM",
            "SMR",
            "SAU",
            "SEN",
            "SRB",
            "SYC",
            "SLE",
            "SGP",
            "SVK",
            "SVN",
            "SLB",
            "SOM",
            "ZAF",
            "5.895",
            "SSD",
            "ESP",
            "LKA",
            "SDN",
            "SUR",
            "SWE",
            "CHE",
            "SYR",
            "TJK",
            "TZA",
            "THA",
            "TLS",
            "TGO",
            "TON",
            "TTO",
            "TUN",
            "TUR",
            "TKM",
            "TUV",
            "UGA",
            "UKR",
            "ARE",
            "GBR",
            "USA",
            "URY",
            "UZB",
            "VUT",
            "VEN",
            "VNM",
            "YEM",
            "ZMB",
            "ZWE"
           ],
           "name": "",
           "type": "choropleth",
           "z": [
            3.632,
            4.586,
            5.295,
            null,
            3.795,
            null,
            6.388,
            4.321,
            7.272,
            7.139,
            5.201,
            null,
            6.105,
            4.5,
            null,
            5.483,
            6.927,
            5.956,
            4.141,
            5.082,
            5.752,
            5.129,
            3.59,
            6.419,
            null,
            4.933,
            4.424,
            2.905,
            4.671,
            null,
            4.433,
            4.975,
            7.328,
            3.083,
            4.301,
            6.476,
            5.246,
            6.26,
            null,
            4.559,
            7.072,
            5.321,
            5.302,
            5.762,
            6.711,
            4.559,
            7.555,
            null,
            null,
            5.302,
            5.973,
            4.419,
            6.167,
            null,
            4.982,
            5.739,
            null,
            4.35,
            null,
            7.632,
            6.489,
            4.758,
            null,
            4.34,
            6.965,
            4.657,
            5.358,
            null,
            6.382,
            3.964,
            null,
            6.269,
            3.582,
            null,
            5.504,
            5.62,
            7.495,
            4.19,
            5.093,
            4.707,
            4.456,
            6.977,
            6.814,
            6,
            5.89,
            5.915,
            5.161,
            5.79,
            4.41,
            null,
            6.083,
            5.131,
            4.623,
            5.933,
            5.358,
            3.808,
            3.495,
            5.566,
            null,
            5.952,
            6.91,
            3.774,
            3.587,
            6.322,
            null,
            4.447,
            6.627,
            null,
            4.356,
            5.891,
            6.488,
            null,
            5.64,
            null,
            5.125,
            5.347,
            5.254,
            4.417,
            4.308,
            4.441,
            null,
            4.88,
            7.441,
            7.324,
            6.141,
            4.166,
            5.155,
            null,
            null,
            7.594,
            6.853,
            5.472,
            null,
            6.43,
            5.093,
            5.681,
            5.663,
            5.524,
            6.123,
            5.41,
            6.374,
            5.945,
            5.81,
            3.408,
            null,
            null,
            null,
            null,
            null,
            6.371,
            4.631,
            5.398,
            null,
            4.571,
            6.343,
            6.173,
            5.948,
            null,
            4.982,
            4.724,
            5.875,
            3.254,
            6.31,
            4.471,
            4.139,
            6.269,
            7.314,
            7.487,
            3.462,
            5.199,
            3.303,
            6.072,
            null,
            3.999,
            null,
            null,
            4.592,
            5.483,
            5.636,
            null,
            4.161,
            4.103,
            6.774,
            7.19,
            6.886,
            6.379,
            6.096,
            null,
            4.806,
            5.103,
            3.355,
            4.377,
            3.692
           ]
          }
         ],
         "name": "2018"
        },
        {
         "data": [
          {
           "coloraxis": "coloraxis",
           "geo": "geo",
           "hovertemplate": "<b>%{hovertext}</b><br><br>Year=2017<br>iso_a3=%{location}<br>Happiness Score=%{z}<extra></extra>",
           "hovertext": [
            "Afghanistan",
            "Albania",
            "Algeria",
            "Andorra",
            "Angola",
            "Antigua and Barbuda",
            "Argentina",
            "Armenia",
            "Australia",
            "Austria",
            "Azerbaijan",
            "The Bahamas",
            "Bahrain",
            "Bangladesh",
            "Barbados",
            "Belarus",
            "Belgium",
            "Belize",
            "Benin",
            "Bhutan",
            "Bolivia",
            "Bosnia and Herzegovina",
            "Botswana",
            "Brazil",
            "Brunei",
            "Bulgaria",
            "Burkina Faso",
            "Burundi",
            "Ivory Coast",
            "Cape Verde",
            "Cambodia",
            "Cameroon",
            "Canada",
            "Central African Republic",
            "Chad",
            "Chile",
            "China",
            "Colombia",
            "Comoros",
            "Republic of the Congo",
            "Costa Rica",
            "Croatia",
            "Cuba",
            "Cyprus",
            "Czech Republic",
            "Democratic Republic of the Congo",
            "Denmark",
            "Djibouti",
            "Dominica",
            "Dominican Republic",
            "Ecuador",
            "Egypt",
            "El Salvador",
            "Equatorial Guinea",
            "Eritrea",
            "Estonia",
            "Eswatini",
            "Ethiopia",
            "Fiji",
            "Finland",
            "France",
            "Gabon",
            "The Gambia",
            "Georgia",
            "Germany",
            "Ghana",
            "Greece",
            "Grenada",
            "Guatemala",
            "Guinea",
            "Guinea-Bissau",
            "Guyana",
            "Haiti",
            "Vatican City",
            "Honduras",
            "Hungary",
            "Iceland",
            "India",
            "Indonesia",
            "Iran",
            "Iraq",
            "Ireland",
            "Israel",
            "Italy",
            "Jamaica",
            "Japan",
            "Jordan",
            "Kazakhstan",
            "Kenya",
            "Kiribati",
            "Kuwait",
            "Kyrgyzstan",
            "Laos",
            "Latvia",
            "Lebanon",
            "Lesotho",
            "Liberia",
            "Libya",
            "Liechtenstein",
            "Lithuania",
            "Luxembourg",
            "Madagascar",
            "Malawi",
            "Malaysia",
            "Maldives",
            "Mali",
            "Malta",
            "Marshall Islands",
            "Mauritania",
            "Mauritius",
            "Mexico",
            "Federated States of Micronesia",
            "Moldova",
            "Monaco",
            "Mongolia",
            "Montenegro",
            "Morocco",
            "Mozambique",
            "Myanmar",
            "Namibia",
            "Nauru",
            "Nepal",
            "Netherlands",
            "New Zealand",
            "Nicaragua",
            "Niger",
            "Nigeria",
            "North Korea",
            "North Macedonia",
            "Norway",
            "Oman",
            "Pakistan",
            "Palau",
            "Panama",
            "Papua New Guinea",
            "Paraguay",
            "Peru",
            "Philippines",
            "Poland",
            "Portugal",
            "Qatar",
            "Romania",
            "Russia",
            "Rwanda",
            "Saint Kitts and Nevis",
            "Saint Lucia",
            "Saint Vincent and the Grenadines",
            "Samoa",
            "San Marino",
            "Saudi Arabia",
            "Senegal",
            "Serbia",
            "Seychelles",
            "Sierra Leone",
            "Singapore",
            "Slovakia",
            "Slovenia",
            "Solomon Islands",
            "Somalia",
            "South Africa",
            "South Korea",
            "South Sudan",
            "Spain",
            "Sri Lanka",
            "Sudan",
            "Suriname",
            "Sweden",
            "Switzerland",
            "Syria",
            "Tajikistan",
            "Tanzania",
            "Thailand",
            "East Timor",
            "Togo",
            "Tonga",
            "Trinidad and Tobago",
            "Tunisia",
            "Turkey",
            "Turkmenistan",
            "Tuvalu",
            "Uganda",
            "Ukraine",
            "United Arab Emirates",
            "United Kingdom",
            "United States",
            "Uruguay",
            "Uzbekistan",
            "Vanuatu",
            "Venezuela",
            "Vietnam",
            "Yemen",
            "Zambia",
            "Zimbabwe"
           ],
           "locations": [
            "AFG",
            "ALB",
            "DZA",
            "AND",
            "AGO",
            "ATG",
            "ARG",
            "ARM",
            "AUS",
            "AUT",
            "AZE",
            "BHS",
            "BHR",
            "BGD",
            "BRB",
            "BLR",
            "BEL",
            "BLZ",
            "BEN",
            "BTN",
            "BOL",
            "BIH",
            "BWA",
            "BRA",
            "BRN",
            "BGR",
            "BFA",
            "BDI",
            null,
            "KHM",
            "KHM",
            "CMR",
            "CAN",
            "CAF",
            "TCD",
            "CHL",
            "CHN",
            "COL",
            "COM",
            "COG",
            "CRI",
            "HRV",
            "CUB",
            "CYP",
            "CZE",
            "COD",
            "DNK",
            "DJI",
            "DMA",
            "DOM",
            "ECU",
            "EGY",
            "SLV",
            "GNQ",
            "ERI",
            "EST",
            "SWZ",
            "ETH",
            "FJI",
            "FIN",
            "FRA",
            "GAB",
            "GMB",
            "GEO",
            "DEU",
            "GHA",
            "GRC",
            "GRD",
            "GTM",
            "GIN",
            "GNB",
            "GUY",
            "HTI",
            null,
            "HND",
            "HUN",
            "ISL",
            "IND",
            "IDN",
            "IRN",
            "IRQ",
            "IRL",
            "ISR",
            "ITA",
            "JAM",
            "JPN",
            "JOR",
            "KAZ",
            "KEN",
            "KIR",
            "KWT",
            "KGZ",
            "4.796",
            "LVA",
            "LBN",
            "LSO",
            "LBR",
            "LBY",
            "LIE",
            "LTU",
            "LUX",
            "MDG",
            "MWI",
            "MYS",
            "MDV",
            "MLI",
            "MLT",
            "MHL",
            "MRT",
            "MUS",
            "MEX",
            "FSM",
            "MDA",
            "MCO",
            "MNG",
            "MNE",
            "MAR",
            "MOZ",
            "MMR",
            "NAM",
            "NRU",
            "NPL",
            "NLD",
            "NZL",
            "NIC",
            "NER",
            "NGA",
            null,
            "MKD",
            "NOR",
            "OMN",
            "PAK",
            "PLW",
            "PAN",
            "PNG",
            "PRY",
            "PER",
            "PHL",
            "POL",
            "PRT",
            "QAT",
            "ROU",
            "RUS",
            "RWA",
            "KNA",
            "LCA",
            "VCT",
            "WSM",
            "SMR",
            "SAU",
            "SEN",
            "SRB",
            "SYC",
            "SLE",
            "SGP",
            "SVK",
            "SVN",
            "SLB",
            "SOM",
            "ZAF",
            "5.895",
            "SSD",
            "ESP",
            "LKA",
            "SDN",
            "SUR",
            "SWE",
            "CHE",
            "SYR",
            "TJK",
            "TZA",
            "THA",
            "TLS",
            "TGO",
            "TON",
            "TTO",
            "TUN",
            "TUR",
            "TKM",
            "TUV",
            "UGA",
            "UKR",
            "ARE",
            "GBR",
            "USA",
            "URY",
            "UZB",
            "VUT",
            "VEN",
            "VNM",
            "YEM",
            "ZMB",
            "ZWE"
           ],
           "name": "",
           "type": "choropleth",
           "z": [
            3.79399991035461,
            4.64400005340576,
            5.87200021743774,
            null,
            3.79500007629395,
            null,
            6.59899997711182,
            4.37599992752075,
            7.28399991989136,
            7.00600004196167,
            5.23400020599365,
            null,
            6.08699989318848,
            4.60799980163574,
            null,
            5.56899976730347,
            6.89099979400635,
            5.95599985122681,
            3.65700006484985,
            5.01100015640259,
            5.82299995422363,
            5.18200016021729,
            3.76600003242493,
            6.63500022888184,
            null,
            4.71400022506714,
            4.03200006484985,
            2.90499997138977,
            4.17999982833862,
            null,
            4.16800022125244,
            4.69500017166138,
            7.31599998474121,
            2.69300007820129,
            3.93600010871887,
            6.65199995040894,
            5.27299976348877,
            6.35699987411499,
            null,
            4.2909,
            7.0789999961853,
            5.29300022125244,
            5.23000001907349,
            5.62099981307983,
            6.60900020599365,
            4.2909,
            7.52199983596802,
            null,
            null,
            5.23000001907349,
            6.00799989700317,
            4.7350001335144,
            6.00299978256226,
            null,
            5.15100002288818,
            5.61100006103516,
            null,
            4.46000003814697,
            null,
            7.4689998626709,
            6.44199991226196,
            4.46500015258789,
            null,
            4.28599977493286,
            6.95100021362305,
            4.11999988555908,
            5.22700023651123,
            null,
            6.4539999961853,
            3.50699996948242,
            null,
            6.269,
            3.6029999256134,
            null,
            5.18100023269653,
            5.32399988174438,
            7.50400018692017,
            4.31500005722046,
            5.26200008392334,
            4.69199991226196,
            4.49700021743774,
            6.977,
            7.21299982070923,
            5.96400022506714,
            5.31099987030029,
            5.92000007629395,
            5.33599996566772,
            5.81899976730347,
            4.55299997329712,
            null,
            6.10500001907349,
            5.00400018692017,
            null,
            5.84999990463257,
            5.22499990463257,
            3.80800008773804,
            3.53299999237061,
            5.52500009536743,
            null,
            5.90199995040894,
            6.86299991607666,
            3.64400005340576,
            3.97000002861023,
            6.08400011062622,
            null,
            4.19000005722046,
            6.52699995040894,
            null,
            4.29199981689453,
            5.62900018692017,
            6.57800006866455,
            null,
            5.83799982070923,
            null,
            4.95499992370605,
            5.23699998855591,
            5.2350001335144,
            4.55000019073486,
            4.54500007629395,
            4.57399988174438,
            null,
            4.96199989318848,
            7.3769998550415,
            7.31400012969971,
            6.07100009918213,
            4.02799987792969,
            5.07399988174438,
            null,
            null,
            7.53700017929077,
            6.853,
            5.26900005340576,
            null,
            6.4520001411438,
            5.26200008392334,
            5.49300003051758,
            5.71500015258789,
            5.42999982833862,
            5.97300004959106,
            5.19500017166138,
            6.375,
            5.82499980926514,
            5.96299982070923,
            3.47099995613098,
            null,
            null,
            null,
            null,
            null,
            6.3439998626709,
            4.53499984741211,
            5.39499998092651,
            null,
            4.70900011062622,
            6.57200002670288,
            6.09800004959106,
            5.75799989700317,
            null,
            5.15100002288818,
            4.8289999961853,
            5.83799982070923,
            3.59100008010864,
            6.40299987792969,
            4.44000005722046,
            4.13899993896484,
            6.269,
            7.28399991989136,
            7.49399995803833,
            3.46199989318848,
            5.04099988937378,
            3.34899997711182,
            6.42399978637695,
            null,
            3.49499988555908,
            null,
            6.16800022125244,
            4.80499982833862,
            5.5,
            5.82200002670288,
            null,
            4.08099985122681,
            4.09600019454956,
            6.64799976348877,
            6.71400022506714,
            6.99300003051758,
            6.4539999961853,
            5.97100019454956,
            null,
            5.25,
            5.07399988174438,
            3.59299993515015,
            4.51399993896484,
            3.875
           ]
          }
         ],
         "name": "2017"
        },
        {
         "data": [
          {
           "coloraxis": "coloraxis",
           "geo": "geo",
           "hovertemplate": "<b>%{hovertext}</b><br><br>Year=2016<br>iso_a3=%{location}<br>Happiness Score=%{z}<extra></extra>",
           "hovertext": [
            "Afghanistan",
            "Albania",
            "Algeria",
            "Andorra",
            "Angola",
            "Antigua and Barbuda",
            "Argentina",
            "Armenia",
            "Australia",
            "Austria",
            "Azerbaijan",
            "The Bahamas",
            "Bahrain",
            "Bangladesh",
            "Barbados",
            "Belarus",
            "Belgium",
            "Belize",
            "Benin",
            "Bhutan",
            "Bolivia",
            "Bosnia and Herzegovina",
            "Botswana",
            "Brazil",
            "Brunei",
            "Bulgaria",
            "Burkina Faso",
            "Burundi",
            "Ivory Coast",
            "Cape Verde",
            "Cambodia",
            "Cameroon",
            "Canada",
            "Central African Republic",
            "Chad",
            "Chile",
            "China",
            "Colombia",
            "Comoros",
            "Republic of the Congo",
            "Costa Rica",
            "Croatia",
            "Cuba",
            "Cyprus",
            "Czech Republic",
            "Democratic Republic of the Congo",
            "Denmark",
            "Djibouti",
            "Dominica",
            "Dominican Republic",
            "Ecuador",
            "Egypt",
            "El Salvador",
            "Equatorial Guinea",
            "Eritrea",
            "Estonia",
            "Eswatini",
            "Ethiopia",
            "Fiji",
            "Finland",
            "France",
            "Gabon",
            "The Gambia",
            "Georgia",
            "Germany",
            "Ghana",
            "Greece",
            "Grenada",
            "Guatemala",
            "Guinea",
            "Guinea-Bissau",
            "Guyana",
            "Haiti",
            "Vatican City",
            "Honduras",
            "Hungary",
            "Iceland",
            "India",
            "Indonesia",
            "Iran",
            "Iraq",
            "Ireland",
            "Israel",
            "Italy",
            "Jamaica",
            "Japan",
            "Jordan",
            "Kazakhstan",
            "Kenya",
            "Kiribati",
            "Kuwait",
            "Kyrgyzstan",
            "Laos",
            "Latvia",
            "Lebanon",
            "Lesotho",
            "Liberia",
            "Libya",
            "Liechtenstein",
            "Lithuania",
            "Luxembourg",
            "Madagascar",
            "Malawi",
            "Malaysia",
            "Maldives",
            "Mali",
            "Malta",
            "Marshall Islands",
            "Mauritania",
            "Mauritius",
            "Mexico",
            "Federated States of Micronesia",
            "Moldova",
            "Monaco",
            "Mongolia",
            "Montenegro",
            "Morocco",
            "Mozambique",
            "Myanmar",
            "Namibia",
            "Nauru",
            "Nepal",
            "Netherlands",
            "New Zealand",
            "Nicaragua",
            "Niger",
            "Nigeria",
            "North Korea",
            "North Macedonia",
            "Norway",
            "Oman",
            "Pakistan",
            "Palau",
            "Panama",
            "Papua New Guinea",
            "Paraguay",
            "Peru",
            "Philippines",
            "Poland",
            "Portugal",
            "Qatar",
            "Romania",
            "Russia",
            "Rwanda",
            "Saint Kitts and Nevis",
            "Saint Lucia",
            "Saint Vincent and the Grenadines",
            "Samoa",
            "San Marino",
            "Saudi Arabia",
            "Senegal",
            "Serbia",
            "Seychelles",
            "Sierra Leone",
            "Singapore",
            "Slovakia",
            "Slovenia",
            "Solomon Islands",
            "Somalia",
            "South Africa",
            "South Korea",
            "South Sudan",
            "Spain",
            "Sri Lanka",
            "Sudan",
            "Suriname",
            "Sweden",
            "Switzerland",
            "Syria",
            "Tajikistan",
            "Tanzania",
            "Thailand",
            "East Timor",
            "Togo",
            "Tonga",
            "Trinidad and Tobago",
            "Tunisia",
            "Turkey",
            "Turkmenistan",
            "Tuvalu",
            "Uganda",
            "Ukraine",
            "United Arab Emirates",
            "United Kingdom",
            "United States",
            "Uruguay",
            "Uzbekistan",
            "Vanuatu",
            "Venezuela",
            "Vietnam",
            "Yemen",
            "Zambia",
            "Zimbabwe"
           ],
           "locations": [
            "AFG",
            "ALB",
            "DZA",
            "AND",
            "AGO",
            "ATG",
            "ARG",
            "ARM",
            "AUS",
            "AUT",
            "AZE",
            "BHS",
            "BHR",
            "BGD",
            "BRB",
            "BLR",
            "BEL",
            "BLZ",
            "BEN",
            "BTN",
            "BOL",
            "BIH",
            "BWA",
            "BRA",
            "BRN",
            "BGR",
            "BFA",
            "BDI",
            null,
            "KHM",
            "KHM",
            "CMR",
            "CAN",
            "CAF",
            "TCD",
            "CHL",
            "CHN",
            "COL",
            "COM",
            "COG",
            "CRI",
            "HRV",
            "CUB",
            "CYP",
            "CZE",
            "COD",
            "DNK",
            "DJI",
            "DMA",
            "DOM",
            "ECU",
            "EGY",
            "SLV",
            "GNQ",
            "ERI",
            "EST",
            "SWZ",
            "ETH",
            "FJI",
            "FIN",
            "FRA",
            "GAB",
            "GMB",
            "GEO",
            "DEU",
            "GHA",
            "GRC",
            "GRD",
            "GTM",
            "GIN",
            "GNB",
            "GUY",
            "HTI",
            null,
            "HND",
            "HUN",
            "ISL",
            "IND",
            "IDN",
            "IRN",
            "IRQ",
            "IRL",
            "ISR",
            "ITA",
            "JAM",
            "JPN",
            "JOR",
            "KAZ",
            "KEN",
            "KIR",
            "KWT",
            "KGZ",
            "4.796",
            "LVA",
            "LBN",
            "LSO",
            "LBR",
            "LBY",
            "LIE",
            "LTU",
            "LUX",
            "MDG",
            "MWI",
            "MYS",
            "MDV",
            "MLI",
            "MLT",
            "MHL",
            "MRT",
            "MUS",
            "MEX",
            "FSM",
            "MDA",
            "MCO",
            "MNG",
            "MNE",
            "MAR",
            "MOZ",
            "MMR",
            "NAM",
            "NRU",
            "NPL",
            "NLD",
            "NZL",
            "NIC",
            "NER",
            "NGA",
            null,
            "MKD",
            "NOR",
            "OMN",
            "PAK",
            "PLW",
            "PAN",
            "PNG",
            "PRY",
            "PER",
            "PHL",
            "POL",
            "PRT",
            "QAT",
            "ROU",
            "RUS",
            "RWA",
            "KNA",
            "LCA",
            "VCT",
            "WSM",
            "SMR",
            "SAU",
            "SEN",
            "SRB",
            "SYC",
            "SLE",
            "SGP",
            "SVK",
            "SVN",
            "SLB",
            "SOM",
            "ZAF",
            "5.895",
            "SSD",
            "ESP",
            "LKA",
            "SDN",
            "SUR",
            "SWE",
            "CHE",
            "SYR",
            "TJK",
            "TZA",
            "THA",
            "TLS",
            "TGO",
            "TON",
            "TTO",
            "TUN",
            "TUR",
            "TKM",
            "TUV",
            "UGA",
            "UKR",
            "ARE",
            "GBR",
            "USA",
            "URY",
            "UZB",
            "VUT",
            "VEN",
            "VNM",
            "YEM",
            "ZMB",
            "ZWE"
           ],
           "name": "",
           "type": "choropleth",
           "z": [
            3.36,
            4.655,
            6.355,
            null,
            3.866,
            null,
            6.65,
            4.36,
            7.313,
            7.119,
            5.291,
            null,
            6.218,
            4.643,
            null,
            5.802,
            6.929,
            5.956,
            3.484,
            5.196,
            5.822,
            5.163,
            3.974,
            6.952,
            null,
            4.217,
            3.739,
            2.905,
            3.916,
            null,
            3.907,
            4.513,
            7.404,
            3.678,
            3.763,
            6.705,
            5.245,
            6.481,
            3.956,
            4.236,
            7.087,
            5.488,
            5.155,
            5.546,
            6.596,
            4.236,
            7.526,
            null,
            null,
            5.155,
            5.976,
            4.362,
            6.068,
            null,
            5.44,
            5.517,
            null,
            4.508,
            null,
            7.413,
            6.478,
            4.121,
            null,
            4.252,
            6.994,
            4.276,
            5.033,
            null,
            6.324,
            3.607,
            null,
            6.269,
            4.028,
            null,
            4.871,
            5.145,
            7.501,
            4.404,
            5.314,
            4.813,
            4.575,
            6.907,
            7.267,
            5.977,
            5.51,
            5.921,
            5.303,
            5.919,
            4.356,
            null,
            6.239,
            5.185,
            4.876,
            5.56,
            5.129,
            4.898,
            3.622,
            5.615,
            null,
            5.813,
            6.871,
            3.695,
            4.156,
            6.005,
            null,
            4.073,
            6.488,
            null,
            4.201,
            5.648,
            6.778,
            null,
            5.897,
            null,
            4.907,
            5.161,
            5.151,
            4.971,
            4.395,
            4.574,
            null,
            4.793,
            7.339,
            7.334,
            5.992,
            3.856,
            4.875,
            null,
            null,
            7.498,
            6.853,
            5.132,
            null,
            6.701,
            5.314,
            5.538,
            5.743,
            5.279,
            5.835,
            5.123,
            6.375,
            5.528,
            5.856,
            3.515,
            null,
            null,
            null,
            null,
            null,
            6.379,
            4.219,
            5.177,
            null,
            4.635,
            6.739,
            6.078,
            5.768,
            null,
            5.44,
            4.459,
            5.835,
            3.832,
            6.361,
            4.415,
            4.139,
            6.269,
            7.291,
            7.509,
            3.069,
            4.996,
            3.666,
            6.474,
            null,
            3.303,
            null,
            6.168,
            5.045,
            5.389,
            5.658,
            null,
            3.739,
            4.324,
            6.573,
            6.725,
            7.104,
            6.545,
            5.987,
            null,
            6.084,
            5.061,
            3.724,
            4.795,
            4.193
           ]
          }
         ],
         "name": "2016"
        },
        {
         "data": [
          {
           "coloraxis": "coloraxis",
           "geo": "geo",
           "hovertemplate": "<b>%{hovertext}</b><br><br>Year=2015<br>iso_a3=%{location}<br>Happiness Score=%{z}<extra></extra>",
           "hovertext": [
            "Afghanistan",
            "Albania",
            "Algeria",
            "Andorra",
            "Angola",
            "Antigua and Barbuda",
            "Argentina",
            "Armenia",
            "Australia",
            "Austria",
            "Azerbaijan",
            "The Bahamas",
            "Bahrain",
            "Bangladesh",
            "Barbados",
            "Belarus",
            "Belgium",
            "Belize",
            "Benin",
            "Bhutan",
            "Bolivia",
            "Bosnia and Herzegovina",
            "Botswana",
            "Brazil",
            "Brunei",
            "Bulgaria",
            "Burkina Faso",
            "Burundi",
            "Ivory Coast",
            "Cape Verde",
            "Cambodia",
            "Cameroon",
            "Canada",
            "Central African Republic",
            "Chad",
            "Chile",
            "China",
            "Colombia",
            "Comoros",
            "Republic of the Congo",
            "Costa Rica",
            "Croatia",
            "Cuba",
            "Cyprus",
            "Czech Republic",
            "Democratic Republic of the Congo",
            "Denmark",
            "Djibouti",
            "Dominica",
            "Dominican Republic",
            "Ecuador",
            "Egypt",
            "El Salvador",
            "Equatorial Guinea",
            "Eritrea",
            "Estonia",
            "Eswatini",
            "Ethiopia",
            "Fiji",
            "Finland",
            "France",
            "Gabon",
            "The Gambia",
            "Georgia",
            "Germany",
            "Ghana",
            "Greece",
            "Grenada",
            "Guatemala",
            "Guinea",
            "Guinea-Bissau",
            "Guyana",
            "Haiti",
            "Vatican City",
            "Honduras",
            "Hungary",
            "Iceland",
            "India",
            "Indonesia",
            "Iran",
            "Iraq",
            "Ireland",
            "Israel",
            "Italy",
            "Jamaica",
            "Japan",
            "Jordan",
            "Kazakhstan",
            "Kenya",
            "Kiribati",
            "Kuwait",
            "Kyrgyzstan",
            "Laos",
            "Latvia",
            "Lebanon",
            "Lesotho",
            "Liberia",
            "Libya",
            "Liechtenstein",
            "Lithuania",
            "Luxembourg",
            "Madagascar",
            "Malawi",
            "Malaysia",
            "Maldives",
            "Mali",
            "Malta",
            "Marshall Islands",
            "Mauritania",
            "Mauritius",
            "Mexico",
            "Federated States of Micronesia",
            "Moldova",
            "Monaco",
            "Mongolia",
            "Montenegro",
            "Morocco",
            "Mozambique",
            "Myanmar",
            "Namibia",
            "Nauru",
            "Nepal",
            "Netherlands",
            "New Zealand",
            "Nicaragua",
            "Niger",
            "Nigeria",
            "North Korea",
            "North Macedonia",
            "Norway",
            "Oman",
            "Pakistan",
            "Palau",
            "Panama",
            "Papua New Guinea",
            "Paraguay",
            "Peru",
            "Philippines",
            "Poland",
            "Portugal",
            "Qatar",
            "Romania",
            "Russia",
            "Rwanda",
            "Saint Kitts and Nevis",
            "Saint Lucia",
            "Saint Vincent and the Grenadines",
            "Samoa",
            "San Marino",
            "Saudi Arabia",
            "Senegal",
            "Serbia",
            "Seychelles",
            "Sierra Leone",
            "Singapore",
            "Slovakia",
            "Slovenia",
            "Solomon Islands",
            "Somalia",
            "South Africa",
            "South Korea",
            "South Sudan",
            "Spain",
            "Sri Lanka",
            "Sudan",
            "Suriname",
            "Sweden",
            "Switzerland",
            "Syria",
            "Tajikistan",
            "Tanzania",
            "Thailand",
            "East Timor",
            "Togo",
            "Tonga",
            "Trinidad and Tobago",
            "Tunisia",
            "Turkey",
            "Turkmenistan",
            "Tuvalu",
            "Uganda",
            "Ukraine",
            "United Arab Emirates",
            "United Kingdom",
            "United States",
            "Uruguay",
            "Uzbekistan",
            "Vanuatu",
            "Venezuela",
            "Vietnam",
            "Yemen",
            "Zambia",
            "Zimbabwe"
           ],
           "locations": [
            "AFG",
            "ALB",
            "DZA",
            "AND",
            "AGO",
            "ATG",
            "ARG",
            "ARM",
            "AUS",
            "AUT",
            "AZE",
            "BHS",
            "BHR",
            "BGD",
            "BRB",
            "BLR",
            "BEL",
            "BLZ",
            "BEN",
            "BTN",
            "BOL",
            "BIH",
            "BWA",
            "BRA",
            "BRN",
            "BGR",
            "BFA",
            "BDI",
            null,
            "KHM",
            "KHM",
            "CMR",
            "CAN",
            "CAF",
            "TCD",
            "CHL",
            "CHN",
            "COL",
            "COM",
            "COG",
            "CRI",
            "HRV",
            "CUB",
            "CYP",
            "CZE",
            "COD",
            "DNK",
            "DJI",
            "DMA",
            "DOM",
            "ECU",
            "EGY",
            "SLV",
            "GNQ",
            "ERI",
            "EST",
            "SWZ",
            "ETH",
            "FJI",
            "FIN",
            "FRA",
            "GAB",
            "GMB",
            "GEO",
            "DEU",
            "GHA",
            "GRC",
            "GRD",
            "GTM",
            "GIN",
            "GNB",
            "GUY",
            "HTI",
            null,
            "HND",
            "HUN",
            "ISL",
            "IND",
            "IDN",
            "IRN",
            "IRQ",
            "IRL",
            "ISR",
            "ITA",
            "JAM",
            "JPN",
            "JOR",
            "KAZ",
            "KEN",
            "KIR",
            "KWT",
            "KGZ",
            "4.796",
            "LVA",
            "LBN",
            "LSO",
            "LBR",
            "LBY",
            "LIE",
            "LTU",
            "LUX",
            "MDG",
            "MWI",
            "MYS",
            "MDV",
            "MLI",
            "MLT",
            "MHL",
            "MRT",
            "MUS",
            "MEX",
            "FSM",
            "MDA",
            "MCO",
            "MNG",
            "MNE",
            "MAR",
            "MOZ",
            "MMR",
            "NAM",
            "NRU",
            "NPL",
            "NLD",
            "NZL",
            "NIC",
            "NER",
            "NGA",
            null,
            "MKD",
            "NOR",
            "OMN",
            "PAK",
            "PLW",
            "PAN",
            "PNG",
            "PRY",
            "PER",
            "PHL",
            "POL",
            "PRT",
            "QAT",
            "ROU",
            "RUS",
            "RWA",
            "KNA",
            "LCA",
            "VCT",
            "WSM",
            "SMR",
            "SAU",
            "SEN",
            "SRB",
            "SYC",
            "SLE",
            "SGP",
            "SVK",
            "SVN",
            "SLB",
            "SOM",
            "ZAF",
            "5.895",
            "SSD",
            "ESP",
            "LKA",
            "SDN",
            "SUR",
            "SWE",
            "CHE",
            "SYR",
            "TJK",
            "TZA",
            "THA",
            "TLS",
            "TGO",
            "TON",
            "TTO",
            "TUN",
            "TUR",
            "TKM",
            "TUV",
            "UGA",
            "UKR",
            "ARE",
            "GBR",
            "USA",
            "URY",
            "UZB",
            "VUT",
            "VEN",
            "VNM",
            "YEM",
            "ZMB",
            "ZWE"
           ],
           "name": "",
           "type": "choropleth",
           "z": [
            3.575,
            4.959,
            5.605,
            null,
            4.033,
            null,
            6.574,
            4.35,
            7.284,
            7.2,
            5.212,
            null,
            5.96,
            4.694,
            null,
            5.813,
            6.937,
            null,
            3.34,
            5.253,
            5.89,
            4.949,
            4.332,
            6.983,
            null,
            4.218,
            3.587,
            2.905,
            3.655,
            null,
            3.819,
            4.252,
            7.427,
            3.678,
            3.667,
            6.67,
            5.14,
            6.477,
            3.956,
            4.517,
            7.226,
            5.759,
            4.885,
            5.689,
            6.505,
            4.517,
            7.527,
            4.369,
            null,
            4.885,
            5.975,
            4.194,
            6.13,
            null,
            5.44,
            5.429,
            null,
            4.512,
            null,
            7.406,
            6.575,
            3.896,
            null,
            4.297,
            6.75,
            4.633,
            4.857,
            null,
            6.123,
            3.656,
            null,
            6.269,
            4.518,
            null,
            4.788,
            4.8,
            7.561,
            4.565,
            5.399,
            4.686,
            4.677,
            6.94,
            7.278,
            5.948,
            5.709,
            5.987,
            5.192,
            5.855,
            4.419,
            null,
            6.295,
            5.286,
            4.876,
            5.098,
            4.839,
            4.898,
            4.571,
            5.754,
            null,
            5.833,
            6.946,
            3.681,
            4.292,
            5.77,
            null,
            3.995,
            6.302,
            null,
            4.436,
            5.477,
            7.187,
            null,
            5.889,
            null,
            4.874,
            5.192,
            5.013,
            4.971,
            4.307,
            4.574,
            null,
            4.514,
            7.378,
            7.286,
            5.828,
            3.845,
            5.268,
            null,
            null,
            7.522,
            6.853,
            5.194,
            null,
            6.786,
            5.399,
            5.878,
            5.824,
            5.073,
            5.791,
            5.102,
            6.611,
            5.124,
            5.716,
            3.465,
            null,
            null,
            null,
            null,
            null,
            6.411,
            3.904,
            5.123,
            null,
            4.507,
            6.798,
            5.995,
            5.848,
            null,
            5.44,
            4.642,
            5.984,
            3.832,
            6.329,
            4.271,
            4.55,
            6.269,
            7.364,
            7.587,
            3.006,
            4.786,
            3.781,
            6.455,
            null,
            2.839,
            null,
            6.168,
            4.739,
            5.332,
            5.548,
            null,
            3.931,
            4.681,
            6.901,
            6.867,
            7.119,
            6.485,
            6.003,
            null,
            6.81,
            5.36,
            4.077,
            5.129,
            4.61
           ]
          }
         ],
         "name": "2015"
        }
       ],
       "layout": {
        "coloraxis": {
         "colorbar": {
          "title": {
           "text": "Happiness Score"
          }
         },
         "colorscale": [
          [
           0,
           "#0d0887"
          ],
          [
           0.1111111111111111,
           "#46039f"
          ],
          [
           0.2222222222222222,
           "#7201a8"
          ],
          [
           0.3333333333333333,
           "#9c179e"
          ],
          [
           0.4444444444444444,
           "#bd3786"
          ],
          [
           0.5555555555555556,
           "#d8576b"
          ],
          [
           0.6666666666666666,
           "#ed7953"
          ],
          [
           0.7777777777777778,
           "#fb9f3a"
          ],
          [
           0.8888888888888888,
           "#fdca26"
          ],
          [
           1,
           "#f0f921"
          ]
         ]
        },
        "geo": {
         "center": {},
         "domain": {
          "x": [
           0,
           1
          ],
          "y": [
           0,
           1
          ]
         }
        },
        "legend": {
         "tracegroupgap": 0
        },
        "sliders": [
         {
          "active": 0,
          "currentvalue": {
           "prefix": "Year="
          },
          "len": 0.9,
          "pad": {
           "b": 10,
           "t": 60
          },
          "steps": [
           {
            "args": [
             [
              "2020"
             ],
             {
              "frame": {
               "duration": 0,
               "redraw": true
              },
              "fromcurrent": true,
              "mode": "immediate",
              "transition": {
               "duration": 0,
               "easing": "linear"
              }
             }
            ],
            "label": "2020",
            "method": "animate"
           },
           {
            "args": [
             [
              "2019"
             ],
             {
              "frame": {
               "duration": 0,
               "redraw": true
              },
              "fromcurrent": true,
              "mode": "immediate",
              "transition": {
               "duration": 0,
               "easing": "linear"
              }
             }
            ],
            "label": "2019",
            "method": "animate"
           },
           {
            "args": [
             [
              "2018"
             ],
             {
              "frame": {
               "duration": 0,
               "redraw": true
              },
              "fromcurrent": true,
              "mode": "immediate",
              "transition": {
               "duration": 0,
               "easing": "linear"
              }
             }
            ],
            "label": "2018",
            "method": "animate"
           },
           {
            "args": [
             [
              "2017"
             ],
             {
              "frame": {
               "duration": 0,
               "redraw": true
              },
              "fromcurrent": true,
              "mode": "immediate",
              "transition": {
               "duration": 0,
               "easing": "linear"
              }
             }
            ],
            "label": "2017",
            "method": "animate"
           },
           {
            "args": [
             [
              "2016"
             ],
             {
              "frame": {
               "duration": 0,
               "redraw": true
              },
              "fromcurrent": true,
              "mode": "immediate",
              "transition": {
               "duration": 0,
               "easing": "linear"
              }
             }
            ],
            "label": "2016",
            "method": "animate"
           },
           {
            "args": [
             [
              "2015"
             ],
             {
              "frame": {
               "duration": 0,
               "redraw": true
              },
              "fromcurrent": true,
              "mode": "immediate",
              "transition": {
               "duration": 0,
               "easing": "linear"
              }
             }
            ],
            "label": "2015",
            "method": "animate"
           }
          ],
          "x": 0.1,
          "xanchor": "left",
          "y": 0,
          "yanchor": "top"
         }
        ],
        "template": {
         "data": {
          "bar": [
           {
            "error_x": {
             "color": "#2a3f5f"
            },
            "error_y": {
             "color": "#2a3f5f"
            },
            "marker": {
             "line": {
              "color": "#E5ECF6",
              "width": 0.5
             },
             "pattern": {
              "fillmode": "overlay",
              "size": 10,
              "solidity": 0.2
             }
            },
            "type": "bar"
           }
          ],
          "barpolar": [
           {
            "marker": {
             "line": {
              "color": "#E5ECF6",
              "width": 0.5
             },
             "pattern": {
              "fillmode": "overlay",
              "size": 10,
              "solidity": 0.2
             }
            },
            "type": "barpolar"
           }
          ],
          "carpet": [
           {
            "aaxis": {
             "endlinecolor": "#2a3f5f",
             "gridcolor": "white",
             "linecolor": "white",
             "minorgridcolor": "white",
             "startlinecolor": "#2a3f5f"
            },
            "baxis": {
             "endlinecolor": "#2a3f5f",
             "gridcolor": "white",
             "linecolor": "white",
             "minorgridcolor": "white",
             "startlinecolor": "#2a3f5f"
            },
            "type": "carpet"
           }
          ],
          "choropleth": [
           {
            "colorbar": {
             "outlinewidth": 0,
             "ticks": ""
            },
            "type": "choropleth"
           }
          ],
          "contour": [
           {
            "colorbar": {
             "outlinewidth": 0,
             "ticks": ""
            },
            "colorscale": [
             [
              0,
              "#0d0887"
             ],
             [
              0.1111111111111111,
              "#46039f"
             ],
             [
              0.2222222222222222,
              "#7201a8"
             ],
             [
              0.3333333333333333,
              "#9c179e"
             ],
             [
              0.4444444444444444,
              "#bd3786"
             ],
             [
              0.5555555555555556,
              "#d8576b"
             ],
             [
              0.6666666666666666,
              "#ed7953"
             ],
             [
              0.7777777777777778,
              "#fb9f3a"
             ],
             [
              0.8888888888888888,
              "#fdca26"
             ],
             [
              1,
              "#f0f921"
             ]
            ],
            "type": "contour"
           }
          ],
          "contourcarpet": [
           {
            "colorbar": {
             "outlinewidth": 0,
             "ticks": ""
            },
            "type": "contourcarpet"
           }
          ],
          "heatmap": [
           {
            "colorbar": {
             "outlinewidth": 0,
             "ticks": ""
            },
            "colorscale": [
             [
              0,
              "#0d0887"
             ],
             [
              0.1111111111111111,
              "#46039f"
             ],
             [
              0.2222222222222222,
              "#7201a8"
             ],
             [
              0.3333333333333333,
              "#9c179e"
             ],
             [
              0.4444444444444444,
              "#bd3786"
             ],
             [
              0.5555555555555556,
              "#d8576b"
             ],
             [
              0.6666666666666666,
              "#ed7953"
             ],
             [
              0.7777777777777778,
              "#fb9f3a"
             ],
             [
              0.8888888888888888,
              "#fdca26"
             ],
             [
              1,
              "#f0f921"
             ]
            ],
            "type": "heatmap"
           }
          ],
          "heatmapgl": [
           {
            "colorbar": {
             "outlinewidth": 0,
             "ticks": ""
            },
            "colorscale": [
             [
              0,
              "#0d0887"
             ],
             [
              0.1111111111111111,
              "#46039f"
             ],
             [
              0.2222222222222222,
              "#7201a8"
             ],
             [
              0.3333333333333333,
              "#9c179e"
             ],
             [
              0.4444444444444444,
              "#bd3786"
             ],
             [
              0.5555555555555556,
              "#d8576b"
             ],
             [
              0.6666666666666666,
              "#ed7953"
             ],
             [
              0.7777777777777778,
              "#fb9f3a"
             ],
             [
              0.8888888888888888,
              "#fdca26"
             ],
             [
              1,
              "#f0f921"
             ]
            ],
            "type": "heatmapgl"
           }
          ],
          "histogram": [
           {
            "marker": {
             "pattern": {
              "fillmode": "overlay",
              "size": 10,
              "solidity": 0.2
             }
            },
            "type": "histogram"
           }
          ],
          "histogram2d": [
           {
            "colorbar": {
             "outlinewidth": 0,
             "ticks": ""
            },
            "colorscale": [
             [
              0,
              "#0d0887"
             ],
             [
              0.1111111111111111,
              "#46039f"
             ],
             [
              0.2222222222222222,
              "#7201a8"
             ],
             [
              0.3333333333333333,
              "#9c179e"
             ],
             [
              0.4444444444444444,
              "#bd3786"
             ],
             [
              0.5555555555555556,
              "#d8576b"
             ],
             [
              0.6666666666666666,
              "#ed7953"
             ],
             [
              0.7777777777777778,
              "#fb9f3a"
             ],
             [
              0.8888888888888888,
              "#fdca26"
             ],
             [
              1,
              "#f0f921"
             ]
            ],
            "type": "histogram2d"
           }
          ],
          "histogram2dcontour": [
           {
            "colorbar": {
             "outlinewidth": 0,
             "ticks": ""
            },
            "colorscale": [
             [
              0,
              "#0d0887"
             ],
             [
              0.1111111111111111,
              "#46039f"
             ],
             [
              0.2222222222222222,
              "#7201a8"
             ],
             [
              0.3333333333333333,
              "#9c179e"
             ],
             [
              0.4444444444444444,
              "#bd3786"
             ],
             [
              0.5555555555555556,
              "#d8576b"
             ],
             [
              0.6666666666666666,
              "#ed7953"
             ],
             [
              0.7777777777777778,
              "#fb9f3a"
             ],
             [
              0.8888888888888888,
              "#fdca26"
             ],
             [
              1,
              "#f0f921"
             ]
            ],
            "type": "histogram2dcontour"
           }
          ],
          "mesh3d": [
           {
            "colorbar": {
             "outlinewidth": 0,
             "ticks": ""
            },
            "type": "mesh3d"
           }
          ],
          "parcoords": [
           {
            "line": {
             "colorbar": {
              "outlinewidth": 0,
              "ticks": ""
             }
            },
            "type": "parcoords"
           }
          ],
          "pie": [
           {
            "automargin": true,
            "type": "pie"
           }
          ],
          "scatter": [
           {
            "fillpattern": {
             "fillmode": "overlay",
             "size": 10,
             "solidity": 0.2
            },
            "type": "scatter"
           }
          ],
          "scatter3d": [
           {
            "line": {
             "colorbar": {
              "outlinewidth": 0,
              "ticks": ""
             }
            },
            "marker": {
             "colorbar": {
              "outlinewidth": 0,
              "ticks": ""
             }
            },
            "type": "scatter3d"
           }
          ],
          "scattercarpet": [
           {
            "marker": {
             "colorbar": {
              "outlinewidth": 0,
              "ticks": ""
             }
            },
            "type": "scattercarpet"
           }
          ],
          "scattergeo": [
           {
            "marker": {
             "colorbar": {
              "outlinewidth": 0,
              "ticks": ""
             }
            },
            "type": "scattergeo"
           }
          ],
          "scattergl": [
           {
            "marker": {
             "colorbar": {
              "outlinewidth": 0,
              "ticks": ""
             }
            },
            "type": "scattergl"
           }
          ],
          "scattermapbox": [
           {
            "marker": {
             "colorbar": {
              "outlinewidth": 0,
              "ticks": ""
             }
            },
            "type": "scattermapbox"
           }
          ],
          "scatterpolar": [
           {
            "marker": {
             "colorbar": {
              "outlinewidth": 0,
              "ticks": ""
             }
            },
            "type": "scatterpolar"
           }
          ],
          "scatterpolargl": [
           {
            "marker": {
             "colorbar": {
              "outlinewidth": 0,
              "ticks": ""
             }
            },
            "type": "scatterpolargl"
           }
          ],
          "scatterternary": [
           {
            "marker": {
             "colorbar": {
              "outlinewidth": 0,
              "ticks": ""
             }
            },
            "type": "scatterternary"
           }
          ],
          "surface": [
           {
            "colorbar": {
             "outlinewidth": 0,
             "ticks": ""
            },
            "colorscale": [
             [
              0,
              "#0d0887"
             ],
             [
              0.1111111111111111,
              "#46039f"
             ],
             [
              0.2222222222222222,
              "#7201a8"
             ],
             [
              0.3333333333333333,
              "#9c179e"
             ],
             [
              0.4444444444444444,
              "#bd3786"
             ],
             [
              0.5555555555555556,
              "#d8576b"
             ],
             [
              0.6666666666666666,
              "#ed7953"
             ],
             [
              0.7777777777777778,
              "#fb9f3a"
             ],
             [
              0.8888888888888888,
              "#fdca26"
             ],
             [
              1,
              "#f0f921"
             ]
            ],
            "type": "surface"
           }
          ],
          "table": [
           {
            "cells": {
             "fill": {
              "color": "#EBF0F8"
             },
             "line": {
              "color": "white"
             }
            },
            "header": {
             "fill": {
              "color": "#C8D4E3"
             },
             "line": {
              "color": "white"
             }
            },
            "type": "table"
           }
          ]
         },
         "layout": {
          "annotationdefaults": {
           "arrowcolor": "#2a3f5f",
           "arrowhead": 0,
           "arrowwidth": 1
          },
          "autotypenumbers": "strict",
          "coloraxis": {
           "colorbar": {
            "outlinewidth": 0,
            "ticks": ""
           }
          },
          "colorscale": {
           "diverging": [
            [
             0,
             "#8e0152"
            ],
            [
             0.1,
             "#c51b7d"
            ],
            [
             0.2,
             "#de77ae"
            ],
            [
             0.3,
             "#f1b6da"
            ],
            [
             0.4,
             "#fde0ef"
            ],
            [
             0.5,
             "#f7f7f7"
            ],
            [
             0.6,
             "#e6f5d0"
            ],
            [
             0.7,
             "#b8e186"
            ],
            [
             0.8,
             "#7fbc41"
            ],
            [
             0.9,
             "#4d9221"
            ],
            [
             1,
             "#276419"
            ]
           ],
           "sequential": [
            [
             0,
             "#0d0887"
            ],
            [
             0.1111111111111111,
             "#46039f"
            ],
            [
             0.2222222222222222,
             "#7201a8"
            ],
            [
             0.3333333333333333,
             "#9c179e"
            ],
            [
             0.4444444444444444,
             "#bd3786"
            ],
            [
             0.5555555555555556,
             "#d8576b"
            ],
            [
             0.6666666666666666,
             "#ed7953"
            ],
            [
             0.7777777777777778,
             "#fb9f3a"
            ],
            [
             0.8888888888888888,
             "#fdca26"
            ],
            [
             1,
             "#f0f921"
            ]
           ],
           "sequentialminus": [
            [
             0,
             "#0d0887"
            ],
            [
             0.1111111111111111,
             "#46039f"
            ],
            [
             0.2222222222222222,
             "#7201a8"
            ],
            [
             0.3333333333333333,
             "#9c179e"
            ],
            [
             0.4444444444444444,
             "#bd3786"
            ],
            [
             0.5555555555555556,
             "#d8576b"
            ],
            [
             0.6666666666666666,
             "#ed7953"
            ],
            [
             0.7777777777777778,
             "#fb9f3a"
            ],
            [
             0.8888888888888888,
             "#fdca26"
            ],
            [
             1,
             "#f0f921"
            ]
           ]
          },
          "colorway": [
           "#636efa",
           "#EF553B",
           "#00cc96",
           "#ab63fa",
           "#FFA15A",
           "#19d3f3",
           "#FF6692",
           "#B6E880",
           "#FF97FF",
           "#FECB52"
          ],
          "font": {
           "color": "#2a3f5f"
          },
          "geo": {
           "bgcolor": "white",
           "lakecolor": "white",
           "landcolor": "#E5ECF6",
           "showlakes": true,
           "showland": true,
           "subunitcolor": "white"
          },
          "hoverlabel": {
           "align": "left"
          },
          "hovermode": "closest",
          "mapbox": {
           "style": "light"
          },
          "paper_bgcolor": "white",
          "plot_bgcolor": "#E5ECF6",
          "polar": {
           "angularaxis": {
            "gridcolor": "white",
            "linecolor": "white",
            "ticks": ""
           },
           "bgcolor": "#E5ECF6",
           "radialaxis": {
            "gridcolor": "white",
            "linecolor": "white",
            "ticks": ""
           }
          },
          "scene": {
           "xaxis": {
            "backgroundcolor": "#E5ECF6",
            "gridcolor": "white",
            "gridwidth": 2,
            "linecolor": "white",
            "showbackground": true,
            "ticks": "",
            "zerolinecolor": "white"
           },
           "yaxis": {
            "backgroundcolor": "#E5ECF6",
            "gridcolor": "white",
            "gridwidth": 2,
            "linecolor": "white",
            "showbackground": true,
            "ticks": "",
            "zerolinecolor": "white"
           },
           "zaxis": {
            "backgroundcolor": "#E5ECF6",
            "gridcolor": "white",
            "gridwidth": 2,
            "linecolor": "white",
            "showbackground": true,
            "ticks": "",
            "zerolinecolor": "white"
           }
          },
          "shapedefaults": {
           "line": {
            "color": "#2a3f5f"
           }
          },
          "ternary": {
           "aaxis": {
            "gridcolor": "white",
            "linecolor": "white",
            "ticks": ""
           },
           "baxis": {
            "gridcolor": "white",
            "linecolor": "white",
            "ticks": ""
           },
           "bgcolor": "#E5ECF6",
           "caxis": {
            "gridcolor": "white",
            "linecolor": "white",
            "ticks": ""
           }
          },
          "title": {
           "x": 0.05
          },
          "xaxis": {
           "automargin": true,
           "gridcolor": "white",
           "linecolor": "white",
           "ticks": "",
           "title": {
            "standoff": 15
           },
           "zerolinecolor": "white",
           "zerolinewidth": 2
          },
          "yaxis": {
           "automargin": true,
           "gridcolor": "white",
           "linecolor": "white",
           "ticks": "",
           "title": {
            "standoff": 15
           },
           "zerolinecolor": "white",
           "zerolinewidth": 2
          }
         }
        },
        "title": {
         "text": "Happiness Around the World Over multiple Years"
        },
        "updatemenus": [
         {
          "buttons": [
           {
            "args": [
             null,
             {
              "frame": {
               "duration": 500,
               "redraw": true
              },
              "fromcurrent": true,
              "mode": "immediate",
              "transition": {
               "duration": 500,
               "easing": "linear"
              }
             }
            ],
            "label": "&#9654;",
            "method": "animate"
           },
           {
            "args": [
             [
              null
             ],
             {
              "frame": {
               "duration": 0,
               "redraw": true
              },
              "fromcurrent": true,
              "mode": "immediate",
              "transition": {
               "duration": 0,
               "easing": "linear"
              }
             }
            ],
            "label": "&#9724;",
            "method": "animate"
           }
          ],
          "direction": "left",
          "pad": {
           "r": 10,
           "t": 70
          },
          "showactive": false,
          "type": "buttons",
          "x": 0.1,
          "xanchor": "right",
          "y": 0,
          "yanchor": "top"
         }
        ]
       }
      }
     },
     "metadata": {},
     "output_type": "display_data"
    }
   ],
   "source": [
    "import plotly.express as px\n",
    "import pandas as pd\n",
    "\n",
    "# Laad de dataset\n",
    "data = pd.read_csv('databases/merged_dataset2_updated.csv')\n",
    "\n",
    "# Voorbeeld structuur van de oorspronkelijke dataset:\n",
    "# Country, iso_a3, Happiness Score 2019, Happiness Score 2020, Happiness Score 2021\n",
    "# Afghanistan, AFG, 3.2, 3.4, 3.5\n",
    "\n",
    "# Zet de dataset om naar lange vorm\n",
    "data_long = pd.melt(\n",
    "    data,\n",
    "    id_vars=['Country', 'iso_a3'],\n",
    "    value_vars=['Happiness Score 2020','Happiness Score 2019', 'Happiness Score 2018', 'Happiness Score 2017','Happiness Score 2016',\n",
    "                'Happiness Score 2015'],\n",
    "    var_name='Year',\n",
    "    value_name='Happiness Score'\n",
    ")\n",
    "\n",
    "# Extract jaar uit de variabelenaam\n",
    "data_long['Year'] = data_long['Year'].str.extract('(\\d+)').astype(int)\n",
    "\n",
    "\n",
    "# Maak een choropleth-kaart met een slider voor jaren\n",
    "fig = px.choropleth(\n",
    "    data_long,\n",
    "    locations='iso_a3',  # Gebruik de kolom met ISO 3166-1 alpha-3 landcodes\n",
    "    color='Happiness Score',  # Gebruik de 'Happiness Score' kolom om kleuren te bepalen\n",
    "    hover_name='Country',  # Toon de landnamen bij hover\n",
    "    animation_frame='Year',  # Gebruik de 'Year' kolom voor de animatie\n",
    "    color_continuous_scale=px.colors.sequential.Plasma,  # Kleurschaal\n",
    "    title='Happiness Around the World Over multiple Years'\n",
    ")\n",
    "\n",
    "\n",
    "fig.show()"
   ]
  },
  {
   "cell_type": "markdown",
   "id": "4482faa5",
   "metadata": {},
   "source": [
    "> *Figure 1: Happiness Around the World Over multiple Years.*"
   ]
  },
  {
   "cell_type": "code",
   "execution_count": 13,
   "id": "62bfd307",
   "metadata": {
    "tags": [
     "hide-input"
    ]
   },
   "outputs": [
    {
     "data": {
      "application/vnd.plotly.v1+json": {
       "config": {
        "plotlyServerURL": "https://plot.ly"
       },
       "data": [
        {
         "coloraxis": "coloraxis",
         "geo": "geo",
         "hovertemplate": "<b>%{hovertext}</b><br><br>iso_a3=%{location}<br>Logged GDP per capita=%{z}<extra></extra>",
         "hovertext": [
          "Afghanistan",
          "Albania",
          "Algeria",
          "Andorra",
          "Angola",
          "Antigua and Barbuda",
          "Argentina",
          "Armenia",
          "Australia",
          "Austria",
          "Azerbaijan",
          "The Bahamas",
          "Bahrain",
          "Bangladesh",
          "Barbados",
          "Belarus",
          "Belgium",
          "Belize",
          "Benin",
          "Bhutan",
          "Bolivia",
          "Bosnia and Herzegovina",
          "Botswana",
          "Brazil",
          "Brunei",
          "Bulgaria",
          "Burkina Faso",
          "Burundi",
          "Ivory Coast",
          "Cape Verde",
          "Cambodia",
          "Cameroon",
          "Canada",
          "Central African Republic",
          "Chad",
          "Chile",
          "China",
          "Colombia",
          "Comoros",
          "Republic of the Congo",
          "Costa Rica",
          "Croatia",
          "Cuba",
          "Cyprus",
          "Czech Republic",
          "Democratic Republic of the Congo",
          "Denmark",
          "Djibouti",
          "Dominica",
          "Dominican Republic",
          "Ecuador",
          "Egypt",
          "El Salvador",
          "Equatorial Guinea",
          "Eritrea",
          "Estonia",
          "Eswatini",
          "Ethiopia",
          "Fiji",
          "Finland",
          "France",
          "Gabon",
          "The Gambia",
          "Georgia",
          "Germany",
          "Ghana",
          "Greece",
          "Grenada",
          "Guatemala",
          "Guinea",
          "Guinea-Bissau",
          "Guyana",
          "Haiti",
          "Vatican City",
          "Honduras",
          "Hungary",
          "Iceland",
          "India",
          "Indonesia",
          "Iran",
          "Iraq",
          "Ireland",
          "Israel",
          "Italy",
          "Jamaica",
          "Japan",
          "Jordan",
          "Kazakhstan",
          "Kenya",
          "Kiribati",
          "Kuwait",
          "Kyrgyzstan",
          "Laos",
          "Latvia",
          "Lebanon",
          "Lesotho",
          "Liberia",
          "Libya",
          "Liechtenstein",
          "Lithuania",
          "Luxembourg",
          "Madagascar",
          "Malawi",
          "Malaysia",
          "Maldives",
          "Mali",
          "Malta",
          "Marshall Islands",
          "Mauritania",
          "Mauritius",
          "Mexico",
          "Federated States of Micronesia",
          "Moldova",
          "Monaco",
          "Mongolia",
          "Montenegro",
          "Morocco",
          "Mozambique",
          "Myanmar",
          "Namibia",
          "Nauru",
          "Nepal",
          "Netherlands",
          "New Zealand",
          "Nicaragua",
          "Niger",
          "Nigeria",
          "North Korea",
          "North Macedonia",
          "Norway",
          "Oman",
          "Pakistan",
          "Palau",
          "Panama",
          "Papua New Guinea",
          "Paraguay",
          "Peru",
          "Philippines",
          "Poland",
          "Portugal",
          "Qatar",
          "Romania",
          "Russia",
          "Rwanda",
          "Saint Kitts and Nevis",
          "Saint Lucia",
          "Saint Vincent and the Grenadines",
          "Samoa",
          "San Marino",
          "Saudi Arabia",
          "Senegal",
          "Serbia",
          "Seychelles",
          "Sierra Leone",
          "Singapore",
          "Slovakia",
          "Slovenia",
          "Solomon Islands",
          "Somalia",
          "South Africa",
          "South Korea",
          "South Sudan",
          "Spain",
          "Sri Lanka",
          "Sudan",
          "Suriname",
          "Sweden",
          "Switzerland",
          "Syria",
          "Tajikistan",
          "Tanzania",
          "Thailand",
          "East Timor",
          "Togo",
          "Tonga",
          "Trinidad and Tobago",
          "Tunisia",
          "Turkey",
          "Turkmenistan",
          "Tuvalu",
          "Uganda",
          "Ukraine",
          "United Arab Emirates",
          "United Kingdom",
          "United States",
          "Uruguay",
          "Uzbekistan",
          "Vanuatu",
          "Venezuela",
          "Vietnam",
          "Yemen",
          "Zambia",
          "Zimbabwe"
         ],
         "locations": [
          "AFG",
          "ALB",
          "DZA",
          "AND",
          "AGO",
          "ATG",
          "ARG",
          "ARM",
          "AUS",
          "AUT",
          "AZE",
          "BHS",
          "BHR",
          "BGD",
          "BRB",
          "BLR",
          "BEL",
          "BLZ",
          "BEN",
          "BTN",
          "BOL",
          "BIH",
          "BWA",
          "BRA",
          "BRN",
          "BGR",
          "BFA",
          "BDI",
          null,
          "KHM",
          "KHM",
          "CMR",
          "CAN",
          "CAF",
          "TCD",
          "CHL",
          "CHN",
          "COL",
          "COM",
          "COG",
          "CRI",
          "HRV",
          "CUB",
          "CYP",
          "CZE",
          "COD",
          "DNK",
          "DJI",
          "DMA",
          "DOM",
          "ECU",
          "EGY",
          "SLV",
          "GNQ",
          "ERI",
          "EST",
          "SWZ",
          "ETH",
          "FJI",
          "FIN",
          "FRA",
          "GAB",
          "GMB",
          "GEO",
          "DEU",
          "GHA",
          "GRC",
          "GRD",
          "GTM",
          "GIN",
          "GNB",
          "GUY",
          "HTI",
          null,
          "HND",
          "HUN",
          "ISL",
          "IND",
          "IDN",
          "IRN",
          "IRQ",
          "IRL",
          "ISR",
          "ITA",
          "JAM",
          "JPN",
          "JOR",
          "KAZ",
          "KEN",
          "KIR",
          "KWT",
          "KGZ",
          "4.796",
          "LVA",
          "LBN",
          "LSO",
          "LBR",
          "LBY",
          "LIE",
          "LTU",
          "LUX",
          "MDG",
          "MWI",
          "MYS",
          "MDV",
          "MLI",
          "MLT",
          "MHL",
          "MRT",
          "MUS",
          "MEX",
          "FSM",
          "MDA",
          "MCO",
          "MNG",
          "MNE",
          "MAR",
          "MOZ",
          "MMR",
          "NAM",
          "NRU",
          "NPL",
          "NLD",
          "NZL",
          "NIC",
          "NER",
          "NGA",
          null,
          "MKD",
          "NOR",
          "OMN",
          "PAK",
          "PLW",
          "PAN",
          "PNG",
          "PRY",
          "PER",
          "PHL",
          "POL",
          "PRT",
          "QAT",
          "ROU",
          "RUS",
          "RWA",
          "KNA",
          "LCA",
          "VCT",
          "WSM",
          "SMR",
          "SAU",
          "SEN",
          "SRB",
          "SYC",
          "SLE",
          "SGP",
          "SVK",
          "SVN",
          "SLB",
          "SOM",
          "ZAF",
          "5.895",
          "SSD",
          "ESP",
          "LKA",
          "SDN",
          "SUR",
          "SWE",
          "CHE",
          "SYR",
          "TJK",
          "TZA",
          "THA",
          "TLS",
          "TGO",
          "TON",
          "TTO",
          "TUN",
          "TUR",
          "TKM",
          "TUV",
          "UGA",
          "UKR",
          "ARE",
          "GBR",
          "USA",
          "URY",
          "UZB",
          "VUT",
          "VEN",
          "VNM",
          "YEM",
          "ZMB",
          "ZWE"
         ],
         "name": "",
         "type": "choropleth",
         "z": [
          7.462860584,
          9.417930603,
          9.537964821,
          null,
          7.500389576,
          null,
          9.810955048,
          9.100476265,
          10.72059631,
          10.7428236,
          9.687726974,
          null,
          10.67638016,
          8.287063599,
          null,
          9.779945374,
          10.6736393,
          null,
          7.674319744,
          null,
          8.851115227,
          9.455817223,
          9.711203575,
          9.56643486,
          null,
          9.869318962,
          7.46854496,
          6.492642403,
          8.225561142,
          null,
          8.249890327,
          8.118647575,
          10.69236851,
          6.625160217,
          7.467963696,
          10.0320549,
          9.688568115,
          9.500369072,
          7.833630085,
          7.467963696,
          9.658156395,
          10.07087517,
          9.664880753,
          10.40570259,
          10.40416336,
          7.500389576,
          10.77400112,
          null,
          null,
          9.664880753,
          9.246058464,
          9.316541672,
          8.909075737,
          null,
          7.509385586,
          10.34001732,
          null,
          7.509385586,
          null,
          10.63926697,
          10.58422279,
          9.680537224,
          null,
          9.226100922,
          10.7328186,
          8.350645065,
          10.13232613,
          null,
          8.924805641,
          7.750990391,
          null,
          9.56643486,
          7.411329269,
          null,
          8.424534798,
          10.24924374,
          10.77255917,
          8.849823952,
          9.36975193,
          9.813719749,
          9.661095619,
          11.16097832,
          10.41752529,
          10.48183632,
          9.006250381,
          10.57968903,
          9.025999069,
          10.11465836,
          8.02977562,
          null,
          11.08982468,
          8.148405075,
          8.79858017,
          10.17531967,
          9.3617239,
          7.960488319,
          7.054380417,
          9.789815903,
          null,
          10.34362602,
          11.45068073,
          7.281685829,
          7.062226295,
          10.26251888,
          9.518632889,
          7.629852295,
          10.53383827,
          null,
          8.233919144,
          9.956786156,
          9.797797203,
          null,
          8.776714325,
          null,
          9.412186623,
          9.751860619,
          8.940313339,
          7.069345951,
          8.680481911,
          9.203141212,
          null,
          7.925357342,
          10.81271172,
          10.50094318,
          8.493160248,
          6.842166901,
          8.57662487,
          null,
          null,
          11.08780384,
          8.467963696,
          8.482727051,
          null,
          10.03423405,
          9.36975193,
          9.389982224,
          9.456313133,
          8.993545532,
          10.26512432,
          10.26374245,
          null,
          10.107584,
          10.12887192,
          7.600104332,
          null,
          null,
          null,
          null,
          null,
          10.79781246,
          8.118982315,
          9.680980682,
          null,
          7.26880312,
          11.39552116,
          10.34774971,
          10.39232254,
          null,
          7.467963696,
          9.403370857,
          10.51056671,
          7.425359726,
          10.46292686,
          9.389969826,
          7.467963696,
          9.56643486,
          10.75879383,
          10.97993279,
          null,
          8.024810791,
          7.967665195,
          9.741791725,
          null,
          7.357711315,
          null,
          10.26000214,
          9.314972878,
          10.12941933,
          9.74803257,
          null,
          7.500389576,
          9.010690689,
          11.1099987,
          10.60013485,
          10.92576885,
          9.948192596,
          8.740371704,
          null,
          8.977793694,
          8.809545517,
          7.759682655,
          8.224720001,
          7.865711689
         ]
        }
       ],
       "layout": {
        "coloraxis": {
         "colorbar": {
          "title": {
           "text": "Logged GDP per capita"
          }
         },
         "colorscale": [
          [
           0,
           "#0d0887"
          ],
          [
           0.1111111111111111,
           "#46039f"
          ],
          [
           0.2222222222222222,
           "#7201a8"
          ],
          [
           0.3333333333333333,
           "#9c179e"
          ],
          [
           0.4444444444444444,
           "#bd3786"
          ],
          [
           0.5555555555555556,
           "#d8576b"
          ],
          [
           0.6666666666666666,
           "#ed7953"
          ],
          [
           0.7777777777777778,
           "#fb9f3a"
          ],
          [
           0.8888888888888888,
           "#fdca26"
          ],
          [
           1,
           "#f0f921"
          ]
         ]
        },
        "geo": {
         "center": {},
         "domain": {
          "x": [
           0,
           1
          ],
          "y": [
           0,
           1
          ]
         }
        },
        "legend": {
         "tracegroupgap": 0
        },
        "template": {
         "data": {
          "bar": [
           {
            "error_x": {
             "color": "#2a3f5f"
            },
            "error_y": {
             "color": "#2a3f5f"
            },
            "marker": {
             "line": {
              "color": "#E5ECF6",
              "width": 0.5
             },
             "pattern": {
              "fillmode": "overlay",
              "size": 10,
              "solidity": 0.2
             }
            },
            "type": "bar"
           }
          ],
          "barpolar": [
           {
            "marker": {
             "line": {
              "color": "#E5ECF6",
              "width": 0.5
             },
             "pattern": {
              "fillmode": "overlay",
              "size": 10,
              "solidity": 0.2
             }
            },
            "type": "barpolar"
           }
          ],
          "carpet": [
           {
            "aaxis": {
             "endlinecolor": "#2a3f5f",
             "gridcolor": "white",
             "linecolor": "white",
             "minorgridcolor": "white",
             "startlinecolor": "#2a3f5f"
            },
            "baxis": {
             "endlinecolor": "#2a3f5f",
             "gridcolor": "white",
             "linecolor": "white",
             "minorgridcolor": "white",
             "startlinecolor": "#2a3f5f"
            },
            "type": "carpet"
           }
          ],
          "choropleth": [
           {
            "colorbar": {
             "outlinewidth": 0,
             "ticks": ""
            },
            "type": "choropleth"
           }
          ],
          "contour": [
           {
            "colorbar": {
             "outlinewidth": 0,
             "ticks": ""
            },
            "colorscale": [
             [
              0,
              "#0d0887"
             ],
             [
              0.1111111111111111,
              "#46039f"
             ],
             [
              0.2222222222222222,
              "#7201a8"
             ],
             [
              0.3333333333333333,
              "#9c179e"
             ],
             [
              0.4444444444444444,
              "#bd3786"
             ],
             [
              0.5555555555555556,
              "#d8576b"
             ],
             [
              0.6666666666666666,
              "#ed7953"
             ],
             [
              0.7777777777777778,
              "#fb9f3a"
             ],
             [
              0.8888888888888888,
              "#fdca26"
             ],
             [
              1,
              "#f0f921"
             ]
            ],
            "type": "contour"
           }
          ],
          "contourcarpet": [
           {
            "colorbar": {
             "outlinewidth": 0,
             "ticks": ""
            },
            "type": "contourcarpet"
           }
          ],
          "heatmap": [
           {
            "colorbar": {
             "outlinewidth": 0,
             "ticks": ""
            },
            "colorscale": [
             [
              0,
              "#0d0887"
             ],
             [
              0.1111111111111111,
              "#46039f"
             ],
             [
              0.2222222222222222,
              "#7201a8"
             ],
             [
              0.3333333333333333,
              "#9c179e"
             ],
             [
              0.4444444444444444,
              "#bd3786"
             ],
             [
              0.5555555555555556,
              "#d8576b"
             ],
             [
              0.6666666666666666,
              "#ed7953"
             ],
             [
              0.7777777777777778,
              "#fb9f3a"
             ],
             [
              0.8888888888888888,
              "#fdca26"
             ],
             [
              1,
              "#f0f921"
             ]
            ],
            "type": "heatmap"
           }
          ],
          "heatmapgl": [
           {
            "colorbar": {
             "outlinewidth": 0,
             "ticks": ""
            },
            "colorscale": [
             [
              0,
              "#0d0887"
             ],
             [
              0.1111111111111111,
              "#46039f"
             ],
             [
              0.2222222222222222,
              "#7201a8"
             ],
             [
              0.3333333333333333,
              "#9c179e"
             ],
             [
              0.4444444444444444,
              "#bd3786"
             ],
             [
              0.5555555555555556,
              "#d8576b"
             ],
             [
              0.6666666666666666,
              "#ed7953"
             ],
             [
              0.7777777777777778,
              "#fb9f3a"
             ],
             [
              0.8888888888888888,
              "#fdca26"
             ],
             [
              1,
              "#f0f921"
             ]
            ],
            "type": "heatmapgl"
           }
          ],
          "histogram": [
           {
            "marker": {
             "pattern": {
              "fillmode": "overlay",
              "size": 10,
              "solidity": 0.2
             }
            },
            "type": "histogram"
           }
          ],
          "histogram2d": [
           {
            "colorbar": {
             "outlinewidth": 0,
             "ticks": ""
            },
            "colorscale": [
             [
              0,
              "#0d0887"
             ],
             [
              0.1111111111111111,
              "#46039f"
             ],
             [
              0.2222222222222222,
              "#7201a8"
             ],
             [
              0.3333333333333333,
              "#9c179e"
             ],
             [
              0.4444444444444444,
              "#bd3786"
             ],
             [
              0.5555555555555556,
              "#d8576b"
             ],
             [
              0.6666666666666666,
              "#ed7953"
             ],
             [
              0.7777777777777778,
              "#fb9f3a"
             ],
             [
              0.8888888888888888,
              "#fdca26"
             ],
             [
              1,
              "#f0f921"
             ]
            ],
            "type": "histogram2d"
           }
          ],
          "histogram2dcontour": [
           {
            "colorbar": {
             "outlinewidth": 0,
             "ticks": ""
            },
            "colorscale": [
             [
              0,
              "#0d0887"
             ],
             [
              0.1111111111111111,
              "#46039f"
             ],
             [
              0.2222222222222222,
              "#7201a8"
             ],
             [
              0.3333333333333333,
              "#9c179e"
             ],
             [
              0.4444444444444444,
              "#bd3786"
             ],
             [
              0.5555555555555556,
              "#d8576b"
             ],
             [
              0.6666666666666666,
              "#ed7953"
             ],
             [
              0.7777777777777778,
              "#fb9f3a"
             ],
             [
              0.8888888888888888,
              "#fdca26"
             ],
             [
              1,
              "#f0f921"
             ]
            ],
            "type": "histogram2dcontour"
           }
          ],
          "mesh3d": [
           {
            "colorbar": {
             "outlinewidth": 0,
             "ticks": ""
            },
            "type": "mesh3d"
           }
          ],
          "parcoords": [
           {
            "line": {
             "colorbar": {
              "outlinewidth": 0,
              "ticks": ""
             }
            },
            "type": "parcoords"
           }
          ],
          "pie": [
           {
            "automargin": true,
            "type": "pie"
           }
          ],
          "scatter": [
           {
            "fillpattern": {
             "fillmode": "overlay",
             "size": 10,
             "solidity": 0.2
            },
            "type": "scatter"
           }
          ],
          "scatter3d": [
           {
            "line": {
             "colorbar": {
              "outlinewidth": 0,
              "ticks": ""
             }
            },
            "marker": {
             "colorbar": {
              "outlinewidth": 0,
              "ticks": ""
             }
            },
            "type": "scatter3d"
           }
          ],
          "scattercarpet": [
           {
            "marker": {
             "colorbar": {
              "outlinewidth": 0,
              "ticks": ""
             }
            },
            "type": "scattercarpet"
           }
          ],
          "scattergeo": [
           {
            "marker": {
             "colorbar": {
              "outlinewidth": 0,
              "ticks": ""
             }
            },
            "type": "scattergeo"
           }
          ],
          "scattergl": [
           {
            "marker": {
             "colorbar": {
              "outlinewidth": 0,
              "ticks": ""
             }
            },
            "type": "scattergl"
           }
          ],
          "scattermapbox": [
           {
            "marker": {
             "colorbar": {
              "outlinewidth": 0,
              "ticks": ""
             }
            },
            "type": "scattermapbox"
           }
          ],
          "scatterpolar": [
           {
            "marker": {
             "colorbar": {
              "outlinewidth": 0,
              "ticks": ""
             }
            },
            "type": "scatterpolar"
           }
          ],
          "scatterpolargl": [
           {
            "marker": {
             "colorbar": {
              "outlinewidth": 0,
              "ticks": ""
             }
            },
            "type": "scatterpolargl"
           }
          ],
          "scatterternary": [
           {
            "marker": {
             "colorbar": {
              "outlinewidth": 0,
              "ticks": ""
             }
            },
            "type": "scatterternary"
           }
          ],
          "surface": [
           {
            "colorbar": {
             "outlinewidth": 0,
             "ticks": ""
            },
            "colorscale": [
             [
              0,
              "#0d0887"
             ],
             [
              0.1111111111111111,
              "#46039f"
             ],
             [
              0.2222222222222222,
              "#7201a8"
             ],
             [
              0.3333333333333333,
              "#9c179e"
             ],
             [
              0.4444444444444444,
              "#bd3786"
             ],
             [
              0.5555555555555556,
              "#d8576b"
             ],
             [
              0.6666666666666666,
              "#ed7953"
             ],
             [
              0.7777777777777778,
              "#fb9f3a"
             ],
             [
              0.8888888888888888,
              "#fdca26"
             ],
             [
              1,
              "#f0f921"
             ]
            ],
            "type": "surface"
           }
          ],
          "table": [
           {
            "cells": {
             "fill": {
              "color": "#EBF0F8"
             },
             "line": {
              "color": "white"
             }
            },
            "header": {
             "fill": {
              "color": "#C8D4E3"
             },
             "line": {
              "color": "white"
             }
            },
            "type": "table"
           }
          ]
         },
         "layout": {
          "annotationdefaults": {
           "arrowcolor": "#2a3f5f",
           "arrowhead": 0,
           "arrowwidth": 1
          },
          "autotypenumbers": "strict",
          "coloraxis": {
           "colorbar": {
            "outlinewidth": 0,
            "ticks": ""
           }
          },
          "colorscale": {
           "diverging": [
            [
             0,
             "#8e0152"
            ],
            [
             0.1,
             "#c51b7d"
            ],
            [
             0.2,
             "#de77ae"
            ],
            [
             0.3,
             "#f1b6da"
            ],
            [
             0.4,
             "#fde0ef"
            ],
            [
             0.5,
             "#f7f7f7"
            ],
            [
             0.6,
             "#e6f5d0"
            ],
            [
             0.7,
             "#b8e186"
            ],
            [
             0.8,
             "#7fbc41"
            ],
            [
             0.9,
             "#4d9221"
            ],
            [
             1,
             "#276419"
            ]
           ],
           "sequential": [
            [
             0,
             "#0d0887"
            ],
            [
             0.1111111111111111,
             "#46039f"
            ],
            [
             0.2222222222222222,
             "#7201a8"
            ],
            [
             0.3333333333333333,
             "#9c179e"
            ],
            [
             0.4444444444444444,
             "#bd3786"
            ],
            [
             0.5555555555555556,
             "#d8576b"
            ],
            [
             0.6666666666666666,
             "#ed7953"
            ],
            [
             0.7777777777777778,
             "#fb9f3a"
            ],
            [
             0.8888888888888888,
             "#fdca26"
            ],
            [
             1,
             "#f0f921"
            ]
           ],
           "sequentialminus": [
            [
             0,
             "#0d0887"
            ],
            [
             0.1111111111111111,
             "#46039f"
            ],
            [
             0.2222222222222222,
             "#7201a8"
            ],
            [
             0.3333333333333333,
             "#9c179e"
            ],
            [
             0.4444444444444444,
             "#bd3786"
            ],
            [
             0.5555555555555556,
             "#d8576b"
            ],
            [
             0.6666666666666666,
             "#ed7953"
            ],
            [
             0.7777777777777778,
             "#fb9f3a"
            ],
            [
             0.8888888888888888,
             "#fdca26"
            ],
            [
             1,
             "#f0f921"
            ]
           ]
          },
          "colorway": [
           "#636efa",
           "#EF553B",
           "#00cc96",
           "#ab63fa",
           "#FFA15A",
           "#19d3f3",
           "#FF6692",
           "#B6E880",
           "#FF97FF",
           "#FECB52"
          ],
          "font": {
           "color": "#2a3f5f"
          },
          "geo": {
           "bgcolor": "white",
           "lakecolor": "white",
           "landcolor": "#E5ECF6",
           "showlakes": true,
           "showland": true,
           "subunitcolor": "white"
          },
          "hoverlabel": {
           "align": "left"
          },
          "hovermode": "closest",
          "mapbox": {
           "style": "light"
          },
          "paper_bgcolor": "white",
          "plot_bgcolor": "#E5ECF6",
          "polar": {
           "angularaxis": {
            "gridcolor": "white",
            "linecolor": "white",
            "ticks": ""
           },
           "bgcolor": "#E5ECF6",
           "radialaxis": {
            "gridcolor": "white",
            "linecolor": "white",
            "ticks": ""
           }
          },
          "scene": {
           "xaxis": {
            "backgroundcolor": "#E5ECF6",
            "gridcolor": "white",
            "gridwidth": 2,
            "linecolor": "white",
            "showbackground": true,
            "ticks": "",
            "zerolinecolor": "white"
           },
           "yaxis": {
            "backgroundcolor": "#E5ECF6",
            "gridcolor": "white",
            "gridwidth": 2,
            "linecolor": "white",
            "showbackground": true,
            "ticks": "",
            "zerolinecolor": "white"
           },
           "zaxis": {
            "backgroundcolor": "#E5ECF6",
            "gridcolor": "white",
            "gridwidth": 2,
            "linecolor": "white",
            "showbackground": true,
            "ticks": "",
            "zerolinecolor": "white"
           }
          },
          "shapedefaults": {
           "line": {
            "color": "#2a3f5f"
           }
          },
          "ternary": {
           "aaxis": {
            "gridcolor": "white",
            "linecolor": "white",
            "ticks": ""
           },
           "baxis": {
            "gridcolor": "white",
            "linecolor": "white",
            "ticks": ""
           },
           "bgcolor": "#E5ECF6",
           "caxis": {
            "gridcolor": "white",
            "linecolor": "white",
            "ticks": ""
           }
          },
          "title": {
           "x": 0.05
          },
          "xaxis": {
           "automargin": true,
           "gridcolor": "white",
           "linecolor": "white",
           "ticks": "",
           "title": {
            "standoff": 15
           },
           "zerolinecolor": "white",
           "zerolinewidth": 2
          },
          "yaxis": {
           "automargin": true,
           "gridcolor": "white",
           "linecolor": "white",
           "ticks": "",
           "title": {
            "standoff": 15
           },
           "zerolinecolor": "white",
           "zerolinewidth": 2
          }
         }
        },
        "title": {
         "text": "Scaled Logarithmic GDP per capita Around the World"
        }
       }
      }
     },
     "metadata": {},
     "output_type": "display_data"
    }
   ],
   "source": [
    "import plotly.express as px\n",
    "import pandas as pd\n",
    "import numpy as np\n",
    "\n",
    "# Laad de dataset\n",
    "data = pd.read_csv('databases/merged_dataset2_updated.csv')\n",
    "\n",
    "# Verwijder speciale tekens en converteer de GDP kolom naar numerieke waarden\n",
    "data['Logged GDP per capita'] = data['Logged GDP per capita'].replace('[\\$,]', '', regex=True).astype(float)\n",
    "\n",
    "# Maak een choropleth-kaart voor de geschaalde logaritmische GDP\n",
    "fig = px.choropleth(\n",
    "    data,\n",
    "    locations='iso_a3',  # Gebruik de kolom met ISO 3166-1 alpha-3 landcodes\n",
    "    color='Logged GDP per capita',  # Gebruik de geschaalde logaritmische 'GDP' kolom om kleuren te bepalen\n",
    "    hover_name='Country',  # Toon de landnamen bij hover\n",
    "    color_continuous_scale=px.colors.sequential.Plasma,  # Kleurschaal\n",
    "    title='Scaled Logarithmic GDP per capita Around the World'\n",
    ")\n",
    "\n",
    "\n",
    "\n",
    "fig.show()"
   ]
  },
  {
   "cell_type": "markdown",
   "id": "8bdf8a8b",
   "metadata": {},
   "source": [
    "> *Figure 2: Scaled Logarithmic GDP per capita Around the World.*"
   ]
  },
  {
   "cell_type": "markdown",
   "id": "be2e96b5-34b9-4070-a924-b2e275d53293",
   "metadata": {},
   "source": [
    "On the first map-graph we can see the happiness in most countries from 2020 till 2015, where the more yellow a country is, the more happy the people in the country are. On the second map-graph we can see how wealthy a country is divided by how many people live in that country. If you compare both maps you will see that most often, the more wealthy per person a country is, that more happiness is perceived in that country."
   ]
  },
  {
   "cell_type": "code",
   "execution_count": 12,
   "id": "7de76f3d",
   "metadata": {
    "tags": [
     "hide-input"
    ]
   },
   "outputs": [
    {
     "data": {
      "application/vnd.plotly.v1+json": {
       "config": {
        "plotlyServerURL": "https://plot.ly"
       },
       "data": [
        {
         "type": "bar",
         "x": [
          "Logged GDP per capita",
          "Social support",
          "Life expectancy",
          "Birth Rate",
          "Infant mortality",
          "Minimum wage",
          "Gross tertiary education enrollment (%)",
          "Fertility Rate",
          "Maternal mortality ratio",
          "Physicians per thousand",
          "Out of pocket health expenditure",
          "Latitude",
          "Gasoline Price",
          "Tax revenue (%)",
          "Agricultural Land( %)",
          "CPI",
          "CPI Change (%)",
          "Unemployment rate",
          "Longitude",
          "Forested Area (%)",
          "GDP"
         ],
         "y": [
          0.7777887768666973,
          0.7693001309343666,
          0.755155482863095,
          -0.6750528656136844,
          -0.6735897287643485,
          0.6633154642324909,
          0.6464598039753907,
          -0.6317771256710646,
          -0.6091743080278359,
          0.6037550494372603,
          -0.4548795045860384,
          0.3952252111510222,
          0.2884705438914292,
          0.2860505407606939,
          -0.2494480987164078,
          -0.2441685565579435,
          -0.219436806563895,
          -0.2165982223851087,
          -0.2011181706054996,
          0.1600627359083908,
          0.1441715289076664
         ]
        }
       ],
       "layout": {
        "template": {
         "data": {
          "bar": [
           {
            "error_x": {
             "color": "#2a3f5f"
            },
            "error_y": {
             "color": "#2a3f5f"
            },
            "marker": {
             "line": {
              "color": "#E5ECF6",
              "width": 0.5
             },
             "pattern": {
              "fillmode": "overlay",
              "size": 10,
              "solidity": 0.2
             }
            },
            "type": "bar"
           }
          ],
          "barpolar": [
           {
            "marker": {
             "line": {
              "color": "#E5ECF6",
              "width": 0.5
             },
             "pattern": {
              "fillmode": "overlay",
              "size": 10,
              "solidity": 0.2
             }
            },
            "type": "barpolar"
           }
          ],
          "carpet": [
           {
            "aaxis": {
             "endlinecolor": "#2a3f5f",
             "gridcolor": "white",
             "linecolor": "white",
             "minorgridcolor": "white",
             "startlinecolor": "#2a3f5f"
            },
            "baxis": {
             "endlinecolor": "#2a3f5f",
             "gridcolor": "white",
             "linecolor": "white",
             "minorgridcolor": "white",
             "startlinecolor": "#2a3f5f"
            },
            "type": "carpet"
           }
          ],
          "choropleth": [
           {
            "colorbar": {
             "outlinewidth": 0,
             "ticks": ""
            },
            "type": "choropleth"
           }
          ],
          "contour": [
           {
            "colorbar": {
             "outlinewidth": 0,
             "ticks": ""
            },
            "colorscale": [
             [
              0,
              "#0d0887"
             ],
             [
              0.1111111111111111,
              "#46039f"
             ],
             [
              0.2222222222222222,
              "#7201a8"
             ],
             [
              0.3333333333333333,
              "#9c179e"
             ],
             [
              0.4444444444444444,
              "#bd3786"
             ],
             [
              0.5555555555555556,
              "#d8576b"
             ],
             [
              0.6666666666666666,
              "#ed7953"
             ],
             [
              0.7777777777777778,
              "#fb9f3a"
             ],
             [
              0.8888888888888888,
              "#fdca26"
             ],
             [
              1,
              "#f0f921"
             ]
            ],
            "type": "contour"
           }
          ],
          "contourcarpet": [
           {
            "colorbar": {
             "outlinewidth": 0,
             "ticks": ""
            },
            "type": "contourcarpet"
           }
          ],
          "heatmap": [
           {
            "colorbar": {
             "outlinewidth": 0,
             "ticks": ""
            },
            "colorscale": [
             [
              0,
              "#0d0887"
             ],
             [
              0.1111111111111111,
              "#46039f"
             ],
             [
              0.2222222222222222,
              "#7201a8"
             ],
             [
              0.3333333333333333,
              "#9c179e"
             ],
             [
              0.4444444444444444,
              "#bd3786"
             ],
             [
              0.5555555555555556,
              "#d8576b"
             ],
             [
              0.6666666666666666,
              "#ed7953"
             ],
             [
              0.7777777777777778,
              "#fb9f3a"
             ],
             [
              0.8888888888888888,
              "#fdca26"
             ],
             [
              1,
              "#f0f921"
             ]
            ],
            "type": "heatmap"
           }
          ],
          "heatmapgl": [
           {
            "colorbar": {
             "outlinewidth": 0,
             "ticks": ""
            },
            "colorscale": [
             [
              0,
              "#0d0887"
             ],
             [
              0.1111111111111111,
              "#46039f"
             ],
             [
              0.2222222222222222,
              "#7201a8"
             ],
             [
              0.3333333333333333,
              "#9c179e"
             ],
             [
              0.4444444444444444,
              "#bd3786"
             ],
             [
              0.5555555555555556,
              "#d8576b"
             ],
             [
              0.6666666666666666,
              "#ed7953"
             ],
             [
              0.7777777777777778,
              "#fb9f3a"
             ],
             [
              0.8888888888888888,
              "#fdca26"
             ],
             [
              1,
              "#f0f921"
             ]
            ],
            "type": "heatmapgl"
           }
          ],
          "histogram": [
           {
            "marker": {
             "pattern": {
              "fillmode": "overlay",
              "size": 10,
              "solidity": 0.2
             }
            },
            "type": "histogram"
           }
          ],
          "histogram2d": [
           {
            "colorbar": {
             "outlinewidth": 0,
             "ticks": ""
            },
            "colorscale": [
             [
              0,
              "#0d0887"
             ],
             [
              0.1111111111111111,
              "#46039f"
             ],
             [
              0.2222222222222222,
              "#7201a8"
             ],
             [
              0.3333333333333333,
              "#9c179e"
             ],
             [
              0.4444444444444444,
              "#bd3786"
             ],
             [
              0.5555555555555556,
              "#d8576b"
             ],
             [
              0.6666666666666666,
              "#ed7953"
             ],
             [
              0.7777777777777778,
              "#fb9f3a"
             ],
             [
              0.8888888888888888,
              "#fdca26"
             ],
             [
              1,
              "#f0f921"
             ]
            ],
            "type": "histogram2d"
           }
          ],
          "histogram2dcontour": [
           {
            "colorbar": {
             "outlinewidth": 0,
             "ticks": ""
            },
            "colorscale": [
             [
              0,
              "#0d0887"
             ],
             [
              0.1111111111111111,
              "#46039f"
             ],
             [
              0.2222222222222222,
              "#7201a8"
             ],
             [
              0.3333333333333333,
              "#9c179e"
             ],
             [
              0.4444444444444444,
              "#bd3786"
             ],
             [
              0.5555555555555556,
              "#d8576b"
             ],
             [
              0.6666666666666666,
              "#ed7953"
             ],
             [
              0.7777777777777778,
              "#fb9f3a"
             ],
             [
              0.8888888888888888,
              "#fdca26"
             ],
             [
              1,
              "#f0f921"
             ]
            ],
            "type": "histogram2dcontour"
           }
          ],
          "mesh3d": [
           {
            "colorbar": {
             "outlinewidth": 0,
             "ticks": ""
            },
            "type": "mesh3d"
           }
          ],
          "parcoords": [
           {
            "line": {
             "colorbar": {
              "outlinewidth": 0,
              "ticks": ""
             }
            },
            "type": "parcoords"
           }
          ],
          "pie": [
           {
            "automargin": true,
            "type": "pie"
           }
          ],
          "scatter": [
           {
            "fillpattern": {
             "fillmode": "overlay",
             "size": 10,
             "solidity": 0.2
            },
            "type": "scatter"
           }
          ],
          "scatter3d": [
           {
            "line": {
             "colorbar": {
              "outlinewidth": 0,
              "ticks": ""
             }
            },
            "marker": {
             "colorbar": {
              "outlinewidth": 0,
              "ticks": ""
             }
            },
            "type": "scatter3d"
           }
          ],
          "scattercarpet": [
           {
            "marker": {
             "colorbar": {
              "outlinewidth": 0,
              "ticks": ""
             }
            },
            "type": "scattercarpet"
           }
          ],
          "scattergeo": [
           {
            "marker": {
             "colorbar": {
              "outlinewidth": 0,
              "ticks": ""
             }
            },
            "type": "scattergeo"
           }
          ],
          "scattergl": [
           {
            "marker": {
             "colorbar": {
              "outlinewidth": 0,
              "ticks": ""
             }
            },
            "type": "scattergl"
           }
          ],
          "scattermapbox": [
           {
            "marker": {
             "colorbar": {
              "outlinewidth": 0,
              "ticks": ""
             }
            },
            "type": "scattermapbox"
           }
          ],
          "scatterpolar": [
           {
            "marker": {
             "colorbar": {
              "outlinewidth": 0,
              "ticks": ""
             }
            },
            "type": "scatterpolar"
           }
          ],
          "scatterpolargl": [
           {
            "marker": {
             "colorbar": {
              "outlinewidth": 0,
              "ticks": ""
             }
            },
            "type": "scatterpolargl"
           }
          ],
          "scatterternary": [
           {
            "marker": {
             "colorbar": {
              "outlinewidth": 0,
              "ticks": ""
             }
            },
            "type": "scatterternary"
           }
          ],
          "surface": [
           {
            "colorbar": {
             "outlinewidth": 0,
             "ticks": ""
            },
            "colorscale": [
             [
              0,
              "#0d0887"
             ],
             [
              0.1111111111111111,
              "#46039f"
             ],
             [
              0.2222222222222222,
              "#7201a8"
             ],
             [
              0.3333333333333333,
              "#9c179e"
             ],
             [
              0.4444444444444444,
              "#bd3786"
             ],
             [
              0.5555555555555556,
              "#d8576b"
             ],
             [
              0.6666666666666666,
              "#ed7953"
             ],
             [
              0.7777777777777778,
              "#fb9f3a"
             ],
             [
              0.8888888888888888,
              "#fdca26"
             ],
             [
              1,
              "#f0f921"
             ]
            ],
            "type": "surface"
           }
          ],
          "table": [
           {
            "cells": {
             "fill": {
              "color": "#EBF0F8"
             },
             "line": {
              "color": "white"
             }
            },
            "header": {
             "fill": {
              "color": "#C8D4E3"
             },
             "line": {
              "color": "white"
             }
            },
            "type": "table"
           }
          ]
         },
         "layout": {
          "annotationdefaults": {
           "arrowcolor": "#2a3f5f",
           "arrowhead": 0,
           "arrowwidth": 1
          },
          "autotypenumbers": "strict",
          "coloraxis": {
           "colorbar": {
            "outlinewidth": 0,
            "ticks": ""
           }
          },
          "colorscale": {
           "diverging": [
            [
             0,
             "#8e0152"
            ],
            [
             0.1,
             "#c51b7d"
            ],
            [
             0.2,
             "#de77ae"
            ],
            [
             0.3,
             "#f1b6da"
            ],
            [
             0.4,
             "#fde0ef"
            ],
            [
             0.5,
             "#f7f7f7"
            ],
            [
             0.6,
             "#e6f5d0"
            ],
            [
             0.7,
             "#b8e186"
            ],
            [
             0.8,
             "#7fbc41"
            ],
            [
             0.9,
             "#4d9221"
            ],
            [
             1,
             "#276419"
            ]
           ],
           "sequential": [
            [
             0,
             "#0d0887"
            ],
            [
             0.1111111111111111,
             "#46039f"
            ],
            [
             0.2222222222222222,
             "#7201a8"
            ],
            [
             0.3333333333333333,
             "#9c179e"
            ],
            [
             0.4444444444444444,
             "#bd3786"
            ],
            [
             0.5555555555555556,
             "#d8576b"
            ],
            [
             0.6666666666666666,
             "#ed7953"
            ],
            [
             0.7777777777777778,
             "#fb9f3a"
            ],
            [
             0.8888888888888888,
             "#fdca26"
            ],
            [
             1,
             "#f0f921"
            ]
           ],
           "sequentialminus": [
            [
             0,
             "#0d0887"
            ],
            [
             0.1111111111111111,
             "#46039f"
            ],
            [
             0.2222222222222222,
             "#7201a8"
            ],
            [
             0.3333333333333333,
             "#9c179e"
            ],
            [
             0.4444444444444444,
             "#bd3786"
            ],
            [
             0.5555555555555556,
             "#d8576b"
            ],
            [
             0.6666666666666666,
             "#ed7953"
            ],
            [
             0.7777777777777778,
             "#fb9f3a"
            ],
            [
             0.8888888888888888,
             "#fdca26"
            ],
            [
             1,
             "#f0f921"
            ]
           ]
          },
          "colorway": [
           "#636efa",
           "#EF553B",
           "#00cc96",
           "#ab63fa",
           "#FFA15A",
           "#19d3f3",
           "#FF6692",
           "#B6E880",
           "#FF97FF",
           "#FECB52"
          ],
          "font": {
           "color": "#2a3f5f"
          },
          "geo": {
           "bgcolor": "white",
           "lakecolor": "white",
           "landcolor": "#E5ECF6",
           "showlakes": true,
           "showland": true,
           "subunitcolor": "white"
          },
          "hoverlabel": {
           "align": "left"
          },
          "hovermode": "closest",
          "mapbox": {
           "style": "light"
          },
          "paper_bgcolor": "white",
          "plot_bgcolor": "#E5ECF6",
          "polar": {
           "angularaxis": {
            "gridcolor": "white",
            "linecolor": "white",
            "ticks": ""
           },
           "bgcolor": "#E5ECF6",
           "radialaxis": {
            "gridcolor": "white",
            "linecolor": "white",
            "ticks": ""
           }
          },
          "scene": {
           "xaxis": {
            "backgroundcolor": "#E5ECF6",
            "gridcolor": "white",
            "gridwidth": 2,
            "linecolor": "white",
            "showbackground": true,
            "ticks": "",
            "zerolinecolor": "white"
           },
           "yaxis": {
            "backgroundcolor": "#E5ECF6",
            "gridcolor": "white",
            "gridwidth": 2,
            "linecolor": "white",
            "showbackground": true,
            "ticks": "",
            "zerolinecolor": "white"
           },
           "zaxis": {
            "backgroundcolor": "#E5ECF6",
            "gridcolor": "white",
            "gridwidth": 2,
            "linecolor": "white",
            "showbackground": true,
            "ticks": "",
            "zerolinecolor": "white"
           }
          },
          "shapedefaults": {
           "line": {
            "color": "#2a3f5f"
           }
          },
          "ternary": {
           "aaxis": {
            "gridcolor": "white",
            "linecolor": "white",
            "ticks": ""
           },
           "baxis": {
            "gridcolor": "white",
            "linecolor": "white",
            "ticks": ""
           },
           "bgcolor": "#E5ECF6",
           "caxis": {
            "gridcolor": "white",
            "linecolor": "white",
            "ticks": ""
           }
          },
          "title": {
           "x": 0.05
          },
          "xaxis": {
           "automargin": true,
           "gridcolor": "white",
           "linecolor": "white",
           "ticks": "",
           "title": {
            "standoff": 15
           },
           "zerolinecolor": "white",
           "zerolinewidth": 2
          },
          "yaxis": {
           "automargin": true,
           "gridcolor": "white",
           "linecolor": "white",
           "ticks": "",
           "title": {
            "standoff": 15
           },
           "zerolinecolor": "white",
           "zerolinewidth": 2
          }
         }
        },
        "title": {
         "text": "Correlations with Happiness in a country in 2020"
        },
        "xaxis": {
         "gridcolor": "LightGrey",
         "gridwidth": 1,
         "showgrid": true,
         "title": {
          "text": "Different properties of a country"
         }
        },
        "yaxis": {
         "gridcolor": "LightGrey",
         "gridwidth": 1,
         "showgrid": true,
         "title": {
          "text": "Correlation with Happiness"
         }
        }
       }
      }
     },
     "metadata": {},
     "output_type": "display_data"
    }
   ],
   "source": [
    "import plotly.graph_objs as go\n",
    "import pandas as pd\n",
    "\n",
    "# Load the correlation data\n",
    "df = pd.read_csv('databases/score_correlations.csv')\n",
    "\n",
    "# Create the bar trace\n",
    "trace = go.Bar(\n",
    "    x = df['Variable1'],\n",
    "    y = df['Correlation']\n",
    ")\n",
    "\n",
    "# Create the figure and update layout with titles\n",
    "fig = go.Figure(trace)\n",
    "fig.update_layout(\n",
    "    title='Correlations with Happiness in a country in 2020',\n",
    "    yaxis_title='Correlation with Happiness',\n",
    "    xaxis_title='Different properties of a country',\n",
    "        xaxis=dict(\n",
    "        showgrid=True,  # Add grid lines to x-axis\n",
    "        gridwidth=1,\n",
    "        gridcolor='LightGrey'\n",
    "    ),\n",
    "    yaxis=dict(\n",
    "        showgrid=True,  # Add grid lines to y-axis\n",
    "        gridwidth=1,\n",
    "        gridcolor='LightGrey'\n",
    "    ),\n",
    "\n",
    ")\n",
    "\n",
    "# Display the figure\n",
    "fig.show()\n"
   ]
  },
  {
   "cell_type": "markdown",
   "id": "8e147d2f",
   "metadata": {},
   "source": [
    "> *Figure 3: Correlations with Happiness in a country in 2020.*"
   ]
  },
  {
   "cell_type": "markdown",
   "id": "3e1abc0f",
   "metadata": {},
   "source": [
    "This graph shows the correlations between different statistics of a country and how happy people are in that country. As you can see in this graph: logged GDP per capita, has the highest correlation with happiness. Which leads to a conclusion that wealth does give the most happiness. "
   ]
  },
  {
   "cell_type": "code",
   "execution_count": 5,
   "id": "8bfe0798",
   "metadata": {},
   "outputs": [
    {
     "data": {
      "application/vnd.plotly.v1+json": {
       "config": {
        "plotlyServerURL": "https://plot.ly"
       },
       "data": [
        {
         "hovertemplate": "<b>%{hovertext}</b><br><br>Logged GDP per capita=%{x}<br>Happiness Score 2020=%{y}<extra></extra>",
         "hovertext": [
          "Afghanistan",
          "Albania",
          "Algeria",
          "Andorra",
          "Angola",
          "Antigua and Barbuda",
          "Argentina",
          "Armenia",
          "Australia",
          "Austria",
          "Azerbaijan",
          "The Bahamas",
          "Bahrain",
          "Bangladesh",
          "Barbados",
          "Belarus",
          "Belgium",
          "Belize",
          "Benin",
          "Bhutan",
          "Bolivia",
          "Bosnia and Herzegovina",
          "Botswana",
          "Brazil",
          "Brunei",
          "Bulgaria",
          "Burkina Faso",
          "Burundi",
          "Ivory Coast",
          "Cape Verde",
          "Cambodia",
          "Cameroon",
          "Canada",
          "Central African Republic",
          "Chad",
          "Chile",
          "China",
          "Colombia",
          "Comoros",
          "Republic of the Congo",
          "Costa Rica",
          "Croatia",
          "Cuba",
          "Cyprus",
          "Czech Republic",
          "Democratic Republic of the Congo",
          "Denmark",
          "Djibouti",
          "Dominica",
          "Dominican Republic",
          "Ecuador",
          "Egypt",
          "El Salvador",
          "Equatorial Guinea",
          "Eritrea",
          "Estonia",
          "Eswatini",
          "Ethiopia",
          "Fiji",
          "Finland",
          "France",
          "Gabon",
          "The Gambia",
          "Georgia",
          "Germany",
          "Ghana",
          "Greece",
          "Grenada",
          "Guatemala",
          "Guinea",
          "Guinea-Bissau",
          "Guyana",
          "Haiti",
          "Vatican City",
          "Honduras",
          "Hungary",
          "Iceland",
          "India",
          "Indonesia",
          "Iran",
          "Iraq",
          "Ireland",
          "Israel",
          "Italy",
          "Jamaica",
          "Japan",
          "Jordan",
          "Kazakhstan",
          "Kenya",
          "Kiribati",
          "Kuwait",
          "Kyrgyzstan",
          "Laos",
          "Latvia",
          "Lebanon",
          "Lesotho",
          "Liberia",
          "Libya",
          "Liechtenstein",
          "Lithuania",
          "Luxembourg",
          "Madagascar",
          "Malawi",
          "Malaysia",
          "Maldives",
          "Mali",
          "Malta",
          "Marshall Islands",
          "Mauritania",
          "Mauritius",
          "Mexico",
          "Federated States of Micronesia",
          "Moldova",
          "Monaco",
          "Mongolia",
          "Montenegro",
          "Morocco",
          "Mozambique",
          "Myanmar",
          "Namibia",
          "Nauru",
          "Nepal",
          "Netherlands",
          "New Zealand",
          "Nicaragua",
          "Niger",
          "Nigeria",
          "North Korea",
          "North Macedonia",
          "Norway",
          "Oman",
          "Pakistan",
          "Palau",
          "Panama",
          "Papua New Guinea",
          "Paraguay",
          "Peru",
          "Philippines",
          "Poland",
          "Portugal",
          "Qatar",
          "Romania",
          "Russia",
          "Rwanda",
          "Saint Kitts and Nevis",
          "Saint Lucia",
          "Saint Vincent and the Grenadines",
          "Samoa",
          "San Marino",
          "Saudi Arabia",
          "Senegal",
          "Serbia",
          "Seychelles",
          "Sierra Leone",
          "Singapore",
          "Slovakia",
          "Slovenia",
          "Solomon Islands",
          "Somalia",
          "South Africa",
          "South Korea",
          "South Sudan",
          "Spain",
          "Sri Lanka",
          "Sudan",
          "Suriname",
          "Sweden",
          "Switzerland",
          "Syria",
          "Tajikistan",
          "Tanzania",
          "Thailand",
          "East Timor",
          "Togo",
          "Tonga",
          "Trinidad and Tobago",
          "Tunisia",
          "Turkey",
          "Turkmenistan",
          "Tuvalu",
          "Uganda",
          "Ukraine",
          "United Arab Emirates",
          "United Kingdom",
          "United States",
          "Uruguay",
          "Uzbekistan",
          "Vanuatu",
          "Venezuela",
          "Vietnam",
          "Yemen",
          "Zambia",
          "Zimbabwe"
         ],
         "legendgroup": "",
         "marker": {
          "color": "#636efa",
          "symbol": "circle"
         },
         "mode": "markers",
         "name": "",
         "orientation": "v",
         "showlegend": false,
         "type": "scatter",
         "x": [
          7.462860584,
          9.417930603,
          9.537964821,
          null,
          7.500389576,
          null,
          9.810955048,
          9.100476265,
          10.72059631,
          10.7428236,
          9.687726974,
          null,
          10.67638016,
          8.287063599,
          null,
          9.779945374,
          10.6736393,
          null,
          7.674319744,
          null,
          8.851115227,
          9.455817223,
          9.711203575,
          9.56643486,
          null,
          9.869318962,
          7.46854496,
          6.492642403,
          8.225561142,
          null,
          8.249890327,
          8.118647575,
          10.69236851,
          6.625160217,
          7.467963696,
          10.0320549,
          9.688568115,
          9.500369072,
          7.833630085,
          7.467963696,
          9.658156395,
          10.07087517,
          9.664880753,
          10.40570259,
          10.40416336,
          7.500389576,
          10.77400112,
          null,
          null,
          9.664880753,
          9.246058464,
          9.316541672,
          8.909075737,
          null,
          7.509385586,
          10.34001732,
          null,
          7.509385586,
          null,
          10.63926697,
          10.58422279,
          9.680537224,
          null,
          9.226100922,
          10.7328186,
          8.350645065,
          10.13232613,
          null,
          8.924805641,
          7.750990391,
          null,
          9.56643486,
          7.411329269,
          null,
          8.424534798,
          10.24924374,
          10.77255917,
          8.849823952,
          9.36975193,
          9.813719749,
          9.661095619,
          11.16097832,
          10.41752529,
          10.48183632,
          9.006250381,
          10.57968903,
          9.025999069,
          10.11465836,
          8.02977562,
          null,
          11.08982468,
          8.148405075,
          8.79858017,
          10.17531967,
          9.3617239,
          7.960488319,
          7.054380417,
          9.789815903,
          null,
          10.34362602,
          11.45068073,
          7.281685829,
          7.062226295,
          10.26251888,
          9.518632889,
          7.629852295,
          10.53383827,
          null,
          8.233919144,
          9.956786156,
          9.797797203,
          null,
          8.776714325,
          null,
          9.412186623,
          9.751860619,
          8.940313339,
          7.069345951,
          8.680481911,
          9.203141212,
          null,
          7.925357342,
          10.81271172,
          10.50094318,
          8.493160248,
          6.842166901,
          8.57662487,
          null,
          null,
          11.08780384,
          8.467963696,
          8.482727051,
          null,
          10.03423405,
          9.36975193,
          9.389982224,
          9.456313133,
          8.993545532,
          10.26512432,
          10.26374245,
          null,
          10.107584,
          10.12887192,
          7.600104332,
          null,
          null,
          null,
          null,
          null,
          10.79781246,
          8.118982315,
          9.680980682,
          null,
          7.26880312,
          11.39552116,
          10.34774971,
          10.39232254,
          null,
          7.467963696,
          9.403370857,
          10.51056671,
          7.425359726,
          10.46292686,
          9.389969826,
          7.467963696,
          9.56643486,
          10.75879383,
          10.97993279,
          null,
          8.024810791,
          7.967665195,
          9.741791725,
          null,
          7.357711315,
          null,
          10.26000214,
          9.314972878,
          10.12941933,
          9.74803257,
          null,
          7.500389576,
          9.010690689,
          11.1099987,
          10.60013485,
          10.92576885,
          9.948192596,
          8.740371704,
          null,
          8.977793694,
          8.809545517,
          7.759682655,
          8.224720001,
          7.865711689
         ],
         "xaxis": "x",
         "y": [
          2.566900015,
          4.882699966,
          5.005099773,
          null,
          3.795,
          null,
          5.974699974,
          4.676799774,
          7.222799778,
          7.294199944,
          5.164800167,
          null,
          6.227300167,
          4.832799911,
          null,
          5.539899826,
          6.863500118,
          null,
          5.21600008,
          null,
          5.747499943,
          5.674099922,
          3.478899956,
          6.375599861,
          null,
          5.101500034,
          4.768700123,
          3.775300026,
          5.233300209,
          null,
          4.848400116,
          5.084899902,
          7.23210001,
          3.475899935,
          4.422699928,
          6.228499889,
          5.123899937,
          6.163400173,
          4.288599968,
          4.812,
          7.121399879,
          5.504700184,
          5.425,
          6.15899992,
          6.910900116,
          4.812,
          7.645599842,
          null,
          null,
          5.689199924,
          5.925199986,
          4.151400089,
          6.34829998,
          null,
          4.668,
          6.021800041,
          null,
          4.186200142,
          null,
          7.808700085,
          6.663799763,
          4.829299927,
          null,
          4.672599792,
          7.075799942,
          5.147999763,
          5.514999866,
          null,
          6.398900032,
          4.949299812,
          null,
          6.269,
          3.720799923,
          null,
          5.953199863,
          6.000400066,
          7.504499912,
          3.573299885,
          5.285600185,
          4.672399998,
          4.784800053,
          7.093699932,
          7.128600121,
          6.38740015,
          5.889800072,
          5.870800018,
          4.633399963,
          6.057899952,
          4.583000183,
          null,
          6.102099895,
          5.541500092,
          4.888599873,
          5.949999809,
          4.771500111,
          3.652800083,
          4.557899952,
          5.488800049,
          null,
          6.215499878,
          7.237500191,
          4.165599823,
          3.538000107,
          5.384300232,
          5.197599888,
          4.729300022,
          6.772799969,
          null,
          4.374599934,
          6.101299763,
          6.465000153,
          null,
          5.607500076,
          null,
          5.456200123,
          5.54610014,
          5.094799995,
          4.623600006,
          4.308000088,
          4.571100235,
          null,
          5.137199879,
          7.448900223,
          7.299600124,
          6.13710022,
          4.909599781,
          4.724100113,
          null,
          null,
          7.487999916,
          6.853,
          5.69329977,
          null,
          6.304800034,
          5.192,
          5.692100048,
          5.796800137,
          6.006000042,
          6.186299801,
          5.910900116,
          null,
          6.123700142,
          5.546000004,
          3.312299967,
          null,
          null,
          null,
          null,
          null,
          6.406499863,
          4.980800152,
          5.77820015,
          null,
          3.926399946,
          6.377099991,
          6.280600071,
          6.363399982,
          null,
          4.668,
          4.814099789,
          5.872399807,
          2.816600084,
          6.400899887,
          4.327000141,
          4.139,
          6.269,
          7.353499889,
          7.559899807,
          3.462,
          5.555699825,
          3.476200104,
          5.998799801,
          null,
          4.187200069,
          null,
          6.191899776,
          4.392199993,
          5.131800175,
          5.119100094,
          null,
          4.43200016,
          4.56069994,
          6.790800095,
          7.164500237,
          6.939599991,
          6.440100193,
          6.257599831,
          null,
          5.053199768,
          5.353499889,
          3.527400017,
          3.759399891,
          3.299200058
         ],
         "yaxis": "y"
        },
        {
         "hovertemplate": "<b>OLS trendline</b><br>Happiness Score 2020 = 0.724586 * Logged GDP per capita + -1.22583<br>R<sup>2</sup>=0.604955<br><br>Logged GDP per capita=%{x}<br>Happiness Score 2020=%{y} <b>(trend)</b><extra></extra>",
         "legendgroup": "",
         "marker": {
          "color": "#636efa",
          "symbol": "circle"
         },
         "mode": "lines",
         "name": "",
         "showlegend": false,
         "type": "scatter",
         "x": [
          6.492642403,
          6.625160217,
          6.842166901,
          7.054380417,
          7.062226295,
          7.069345951,
          7.26880312,
          7.281685829,
          7.357711315,
          7.411329269,
          7.425359726,
          7.462860584,
          7.467963696,
          7.467963696,
          7.467963696,
          7.467963696,
          7.46854496,
          7.500389576,
          7.500389576,
          7.500389576,
          7.509385586,
          7.509385586,
          7.600104332,
          7.629852295,
          7.674319744,
          7.750990391,
          7.759682655,
          7.833630085,
          7.865711689,
          7.925357342,
          7.960488319,
          7.967665195,
          8.024810791,
          8.02977562,
          8.118647575,
          8.118982315,
          8.148405075,
          8.224720001,
          8.225561142,
          8.233919144,
          8.249890327,
          8.287063599,
          8.350645065,
          8.424534798,
          8.467963696,
          8.482727051,
          8.493160248,
          8.57662487,
          8.680481911,
          8.740371704,
          8.776714325,
          8.79858017,
          8.809545517,
          8.849823952,
          8.851115227,
          8.909075737,
          8.924805641,
          8.940313339,
          8.977793694,
          8.993545532,
          9.006250381,
          9.010690689,
          9.025999069,
          9.100476265,
          9.203141212,
          9.226100922,
          9.246058464,
          9.314972878,
          9.316541672,
          9.3617239,
          9.36975193,
          9.36975193,
          9.389969826,
          9.389982224,
          9.403370857,
          9.412186623,
          9.417930603,
          9.455817223,
          9.456313133,
          9.500369072,
          9.518632889,
          9.537964821,
          9.56643486,
          9.56643486,
          9.56643486,
          9.658156395,
          9.661095619,
          9.664880753,
          9.664880753,
          9.680537224,
          9.680980682,
          9.687726974,
          9.688568115,
          9.711203575,
          9.741791725,
          9.74803257,
          9.751860619,
          9.779945374,
          9.789815903,
          9.797797203,
          9.810955048,
          9.813719749,
          9.869318962,
          9.948192596,
          9.956786156,
          10.0320549,
          10.03423405,
          10.07087517,
          10.107584,
          10.11465836,
          10.12887192,
          10.12941933,
          10.13232613,
          10.17531967,
          10.24924374,
          10.26000214,
          10.26251888,
          10.26374245,
          10.26512432,
          10.34001732,
          10.34362602,
          10.34774971,
          10.39232254,
          10.40416336,
          10.40570259,
          10.41752529,
          10.46292686,
          10.48183632,
          10.50094318,
          10.51056671,
          10.53383827,
          10.57968903,
          10.58422279,
          10.60013485,
          10.63926697,
          10.6736393,
          10.67638016,
          10.69236851,
          10.72059631,
          10.7328186,
          10.7428236,
          10.75879383,
          10.77255917,
          10.77400112,
          10.79781246,
          10.81271172,
          10.92576885,
          10.97993279,
          11.08780384,
          11.08982468,
          11.1099987,
          11.16097832,
          11.39552116,
          11.45068073
         ],
         "xaxis": "x",
         "y": [
          3.478650892528266,
          3.5746714314622356,
          3.7319114139294496,
          3.8856783344688464,
          3.8913633470058797,
          3.8965221493246713,
          4.041046000749082,
          4.050380629987002,
          4.105467624845195,
          4.144318438062026,
          4.154484709312394,
          4.181657302090345,
          4.185354945068974,
          4.185354945068974,
          4.185354945068974,
          4.185354945068974,
          4.185776120764967,
          4.208850280367882,
          4.208850280367882,
          4.208850280367882,
          4.215368662330139,
          4.215368662330139,
          4.281102186144031,
          4.302657140555276,
          4.334877626911915,
          4.39043209633107,
          4.396730388225896,
          4.450311653016319,
          4.473557530781449,
          4.516775929676321,
          4.5422313401075325,
          4.547431603231267,
          4.588838496085861,
          4.592435941153095,
          4.656831306256352,
          4.65707385413903,
          4.6783931710432825,
          4.733689890043085,
          4.734299368947855,
          4.740355459312063,
          4.751927953249165,
          4.778863181831936,
          4.824933415314144,
          4.87847287367215,
          4.909940840622378,
          4.920638159426426,
          4.928197906818156,
          4.988675194697052,
          5.063928541759564,
          5.107323841054976,
          5.133657191639021,
          5.149500874520376,
          5.157446210296426,
          5.186631396192389,
          5.187567035844671,
          5.2295644038897535,
          5.240962070466562,
          5.252198729709864,
          5.279356466303199,
          5.29077002594704,
          5.299975780337576,
          5.30319316488629,
          5.31428540111806,
          5.368250526880027,
          5.442640099443965,
          5.459276381475961,
          5.473737334919077,
          5.523671747303805,
          5.524808473309232,
          5.55754687844771,
          5.56336387575479,
          5.56336387575479,
          5.578013478034157,
          5.5780224614500895,
          5.58772367608263,
          5.594111455784729,
          5.598273462677071,
          5.6257255731592615,
          5.626084902550726,
          5.658007214565487,
          5.6712409187626545,
          5.685248564023652,
          5.705877552728907,
          5.705877552728907,
          5.705877552728907,
          5.772337683308416,
          5.774467403562687,
          5.7772100582718675,
          5.7772100582718675,
          5.788554516332608,
          5.788875839744678,
          5.793764107775164,
          5.794373586679935,
          5.810774921735298,
          5.832938663796371,
          5.837460692059704,
          5.8402344423725925,
          5.860584259725666,
          5.867736305820715,
          5.873519443228897,
          5.883053432131774,
          5.885056695481797,
          5.925343101025465,
          5.9824938237529075,
          5.9887205961214995,
          6.04325926639992,
          6.044838247754214,
          6.071387886503494,
          6.097986586963762,
          6.10311256843983,
          6.113411513541431,
          6.113808159106515,
          6.115914385387709,
          6.147066898071621,
          6.200631236535525,
          6.208426621434246,
          6.210250215741022,
          6.211136797305244,
          6.212138080816732,
          6.266404492292413,
          6.269019305413696,
          6.272007273025331,
          6.304304116968231,
          6.3128838081320175,
          6.31399911248003,
          6.3225656741473895,
          6.355463011405369,
          6.3691645394139,
          6.383009100678214,
          6.38998217478165,
          6.406844418925175,
          6.44006723292158,
          6.443352331471402,
          6.454881985716602,
          6.483236567931705,
          6.508142273447012,
          6.510128261944699,
          6.5217131948478695,
          6.542166660590372,
          6.551022759535735,
          6.558272241420747,
          6.569844044827493,
          6.579818216038989,
          6.580863032671081,
          6.598116393789308,
          6.608912187439492,
          6.6908317892292395,
          6.730078216200839,
          6.808240057569375,
          6.809704329730545,
          6.824322140079158,
          6.861261253691829,
          7.031207687458869,
          7.0711755338856594
         ],
         "yaxis": "y"
        }
       ],
       "layout": {
        "legend": {
         "tracegroupgap": 0
        },
        "showlegend": false,
        "template": {
         "data": {
          "bar": [
           {
            "error_x": {
             "color": "#2a3f5f"
            },
            "error_y": {
             "color": "#2a3f5f"
            },
            "marker": {
             "line": {
              "color": "#E5ECF6",
              "width": 0.5
             },
             "pattern": {
              "fillmode": "overlay",
              "size": 10,
              "solidity": 0.2
             }
            },
            "type": "bar"
           }
          ],
          "barpolar": [
           {
            "marker": {
             "line": {
              "color": "#E5ECF6",
              "width": 0.5
             },
             "pattern": {
              "fillmode": "overlay",
              "size": 10,
              "solidity": 0.2
             }
            },
            "type": "barpolar"
           }
          ],
          "carpet": [
           {
            "aaxis": {
             "endlinecolor": "#2a3f5f",
             "gridcolor": "white",
             "linecolor": "white",
             "minorgridcolor": "white",
             "startlinecolor": "#2a3f5f"
            },
            "baxis": {
             "endlinecolor": "#2a3f5f",
             "gridcolor": "white",
             "linecolor": "white",
             "minorgridcolor": "white",
             "startlinecolor": "#2a3f5f"
            },
            "type": "carpet"
           }
          ],
          "choropleth": [
           {
            "colorbar": {
             "outlinewidth": 0,
             "ticks": ""
            },
            "type": "choropleth"
           }
          ],
          "contour": [
           {
            "colorbar": {
             "outlinewidth": 0,
             "ticks": ""
            },
            "colorscale": [
             [
              0,
              "#0d0887"
             ],
             [
              0.1111111111111111,
              "#46039f"
             ],
             [
              0.2222222222222222,
              "#7201a8"
             ],
             [
              0.3333333333333333,
              "#9c179e"
             ],
             [
              0.4444444444444444,
              "#bd3786"
             ],
             [
              0.5555555555555556,
              "#d8576b"
             ],
             [
              0.6666666666666666,
              "#ed7953"
             ],
             [
              0.7777777777777778,
              "#fb9f3a"
             ],
             [
              0.8888888888888888,
              "#fdca26"
             ],
             [
              1,
              "#f0f921"
             ]
            ],
            "type": "contour"
           }
          ],
          "contourcarpet": [
           {
            "colorbar": {
             "outlinewidth": 0,
             "ticks": ""
            },
            "type": "contourcarpet"
           }
          ],
          "heatmap": [
           {
            "colorbar": {
             "outlinewidth": 0,
             "ticks": ""
            },
            "colorscale": [
             [
              0,
              "#0d0887"
             ],
             [
              0.1111111111111111,
              "#46039f"
             ],
             [
              0.2222222222222222,
              "#7201a8"
             ],
             [
              0.3333333333333333,
              "#9c179e"
             ],
             [
              0.4444444444444444,
              "#bd3786"
             ],
             [
              0.5555555555555556,
              "#d8576b"
             ],
             [
              0.6666666666666666,
              "#ed7953"
             ],
             [
              0.7777777777777778,
              "#fb9f3a"
             ],
             [
              0.8888888888888888,
              "#fdca26"
             ],
             [
              1,
              "#f0f921"
             ]
            ],
            "type": "heatmap"
           }
          ],
          "heatmapgl": [
           {
            "colorbar": {
             "outlinewidth": 0,
             "ticks": ""
            },
            "colorscale": [
             [
              0,
              "#0d0887"
             ],
             [
              0.1111111111111111,
              "#46039f"
             ],
             [
              0.2222222222222222,
              "#7201a8"
             ],
             [
              0.3333333333333333,
              "#9c179e"
             ],
             [
              0.4444444444444444,
              "#bd3786"
             ],
             [
              0.5555555555555556,
              "#d8576b"
             ],
             [
              0.6666666666666666,
              "#ed7953"
             ],
             [
              0.7777777777777778,
              "#fb9f3a"
             ],
             [
              0.8888888888888888,
              "#fdca26"
             ],
             [
              1,
              "#f0f921"
             ]
            ],
            "type": "heatmapgl"
           }
          ],
          "histogram": [
           {
            "marker": {
             "pattern": {
              "fillmode": "overlay",
              "size": 10,
              "solidity": 0.2
             }
            },
            "type": "histogram"
           }
          ],
          "histogram2d": [
           {
            "colorbar": {
             "outlinewidth": 0,
             "ticks": ""
            },
            "colorscale": [
             [
              0,
              "#0d0887"
             ],
             [
              0.1111111111111111,
              "#46039f"
             ],
             [
              0.2222222222222222,
              "#7201a8"
             ],
             [
              0.3333333333333333,
              "#9c179e"
             ],
             [
              0.4444444444444444,
              "#bd3786"
             ],
             [
              0.5555555555555556,
              "#d8576b"
             ],
             [
              0.6666666666666666,
              "#ed7953"
             ],
             [
              0.7777777777777778,
              "#fb9f3a"
             ],
             [
              0.8888888888888888,
              "#fdca26"
             ],
             [
              1,
              "#f0f921"
             ]
            ],
            "type": "histogram2d"
           }
          ],
          "histogram2dcontour": [
           {
            "colorbar": {
             "outlinewidth": 0,
             "ticks": ""
            },
            "colorscale": [
             [
              0,
              "#0d0887"
             ],
             [
              0.1111111111111111,
              "#46039f"
             ],
             [
              0.2222222222222222,
              "#7201a8"
             ],
             [
              0.3333333333333333,
              "#9c179e"
             ],
             [
              0.4444444444444444,
              "#bd3786"
             ],
             [
              0.5555555555555556,
              "#d8576b"
             ],
             [
              0.6666666666666666,
              "#ed7953"
             ],
             [
              0.7777777777777778,
              "#fb9f3a"
             ],
             [
              0.8888888888888888,
              "#fdca26"
             ],
             [
              1,
              "#f0f921"
             ]
            ],
            "type": "histogram2dcontour"
           }
          ],
          "mesh3d": [
           {
            "colorbar": {
             "outlinewidth": 0,
             "ticks": ""
            },
            "type": "mesh3d"
           }
          ],
          "parcoords": [
           {
            "line": {
             "colorbar": {
              "outlinewidth": 0,
              "ticks": ""
             }
            },
            "type": "parcoords"
           }
          ],
          "pie": [
           {
            "automargin": true,
            "type": "pie"
           }
          ],
          "scatter": [
           {
            "fillpattern": {
             "fillmode": "overlay",
             "size": 10,
             "solidity": 0.2
            },
            "type": "scatter"
           }
          ],
          "scatter3d": [
           {
            "line": {
             "colorbar": {
              "outlinewidth": 0,
              "ticks": ""
             }
            },
            "marker": {
             "colorbar": {
              "outlinewidth": 0,
              "ticks": ""
             }
            },
            "type": "scatter3d"
           }
          ],
          "scattercarpet": [
           {
            "marker": {
             "colorbar": {
              "outlinewidth": 0,
              "ticks": ""
             }
            },
            "type": "scattercarpet"
           }
          ],
          "scattergeo": [
           {
            "marker": {
             "colorbar": {
              "outlinewidth": 0,
              "ticks": ""
             }
            },
            "type": "scattergeo"
           }
          ],
          "scattergl": [
           {
            "marker": {
             "colorbar": {
              "outlinewidth": 0,
              "ticks": ""
             }
            },
            "type": "scattergl"
           }
          ],
          "scattermapbox": [
           {
            "marker": {
             "colorbar": {
              "outlinewidth": 0,
              "ticks": ""
             }
            },
            "type": "scattermapbox"
           }
          ],
          "scatterpolar": [
           {
            "marker": {
             "colorbar": {
              "outlinewidth": 0,
              "ticks": ""
             }
            },
            "type": "scatterpolar"
           }
          ],
          "scatterpolargl": [
           {
            "marker": {
             "colorbar": {
              "outlinewidth": 0,
              "ticks": ""
             }
            },
            "type": "scatterpolargl"
           }
          ],
          "scatterternary": [
           {
            "marker": {
             "colorbar": {
              "outlinewidth": 0,
              "ticks": ""
             }
            },
            "type": "scatterternary"
           }
          ],
          "surface": [
           {
            "colorbar": {
             "outlinewidth": 0,
             "ticks": ""
            },
            "colorscale": [
             [
              0,
              "#0d0887"
             ],
             [
              0.1111111111111111,
              "#46039f"
             ],
             [
              0.2222222222222222,
              "#7201a8"
             ],
             [
              0.3333333333333333,
              "#9c179e"
             ],
             [
              0.4444444444444444,
              "#bd3786"
             ],
             [
              0.5555555555555556,
              "#d8576b"
             ],
             [
              0.6666666666666666,
              "#ed7953"
             ],
             [
              0.7777777777777778,
              "#fb9f3a"
             ],
             [
              0.8888888888888888,
              "#fdca26"
             ],
             [
              1,
              "#f0f921"
             ]
            ],
            "type": "surface"
           }
          ],
          "table": [
           {
            "cells": {
             "fill": {
              "color": "#EBF0F8"
             },
             "line": {
              "color": "white"
             }
            },
            "header": {
             "fill": {
              "color": "#C8D4E3"
             },
             "line": {
              "color": "white"
             }
            },
            "type": "table"
           }
          ]
         },
         "layout": {
          "annotationdefaults": {
           "arrowcolor": "#2a3f5f",
           "arrowhead": 0,
           "arrowwidth": 1
          },
          "autotypenumbers": "strict",
          "coloraxis": {
           "colorbar": {
            "outlinewidth": 0,
            "ticks": ""
           }
          },
          "colorscale": {
           "diverging": [
            [
             0,
             "#8e0152"
            ],
            [
             0.1,
             "#c51b7d"
            ],
            [
             0.2,
             "#de77ae"
            ],
            [
             0.3,
             "#f1b6da"
            ],
            [
             0.4,
             "#fde0ef"
            ],
            [
             0.5,
             "#f7f7f7"
            ],
            [
             0.6,
             "#e6f5d0"
            ],
            [
             0.7,
             "#b8e186"
            ],
            [
             0.8,
             "#7fbc41"
            ],
            [
             0.9,
             "#4d9221"
            ],
            [
             1,
             "#276419"
            ]
           ],
           "sequential": [
            [
             0,
             "#0d0887"
            ],
            [
             0.1111111111111111,
             "#46039f"
            ],
            [
             0.2222222222222222,
             "#7201a8"
            ],
            [
             0.3333333333333333,
             "#9c179e"
            ],
            [
             0.4444444444444444,
             "#bd3786"
            ],
            [
             0.5555555555555556,
             "#d8576b"
            ],
            [
             0.6666666666666666,
             "#ed7953"
            ],
            [
             0.7777777777777778,
             "#fb9f3a"
            ],
            [
             0.8888888888888888,
             "#fdca26"
            ],
            [
             1,
             "#f0f921"
            ]
           ],
           "sequentialminus": [
            [
             0,
             "#0d0887"
            ],
            [
             0.1111111111111111,
             "#46039f"
            ],
            [
             0.2222222222222222,
             "#7201a8"
            ],
            [
             0.3333333333333333,
             "#9c179e"
            ],
            [
             0.4444444444444444,
             "#bd3786"
            ],
            [
             0.5555555555555556,
             "#d8576b"
            ],
            [
             0.6666666666666666,
             "#ed7953"
            ],
            [
             0.7777777777777778,
             "#fb9f3a"
            ],
            [
             0.8888888888888888,
             "#fdca26"
            ],
            [
             1,
             "#f0f921"
            ]
           ]
          },
          "colorway": [
           "#636efa",
           "#EF553B",
           "#00cc96",
           "#ab63fa",
           "#FFA15A",
           "#19d3f3",
           "#FF6692",
           "#B6E880",
           "#FF97FF",
           "#FECB52"
          ],
          "font": {
           "color": "#2a3f5f"
          },
          "geo": {
           "bgcolor": "white",
           "lakecolor": "white",
           "landcolor": "#E5ECF6",
           "showlakes": true,
           "showland": true,
           "subunitcolor": "white"
          },
          "hoverlabel": {
           "align": "left"
          },
          "hovermode": "closest",
          "mapbox": {
           "style": "light"
          },
          "paper_bgcolor": "white",
          "plot_bgcolor": "#E5ECF6",
          "polar": {
           "angularaxis": {
            "gridcolor": "white",
            "linecolor": "white",
            "ticks": ""
           },
           "bgcolor": "#E5ECF6",
           "radialaxis": {
            "gridcolor": "white",
            "linecolor": "white",
            "ticks": ""
           }
          },
          "scene": {
           "xaxis": {
            "backgroundcolor": "#E5ECF6",
            "gridcolor": "white",
            "gridwidth": 2,
            "linecolor": "white",
            "showbackground": true,
            "ticks": "",
            "zerolinecolor": "white"
           },
           "yaxis": {
            "backgroundcolor": "#E5ECF6",
            "gridcolor": "white",
            "gridwidth": 2,
            "linecolor": "white",
            "showbackground": true,
            "ticks": "",
            "zerolinecolor": "white"
           },
           "zaxis": {
            "backgroundcolor": "#E5ECF6",
            "gridcolor": "white",
            "gridwidth": 2,
            "linecolor": "white",
            "showbackground": true,
            "ticks": "",
            "zerolinecolor": "white"
           }
          },
          "shapedefaults": {
           "line": {
            "color": "#2a3f5f"
           }
          },
          "ternary": {
           "aaxis": {
            "gridcolor": "white",
            "linecolor": "white",
            "ticks": ""
           },
           "baxis": {
            "gridcolor": "white",
            "linecolor": "white",
            "ticks": ""
           },
           "bgcolor": "#E5ECF6",
           "caxis": {
            "gridcolor": "white",
            "linecolor": "white",
            "ticks": ""
           }
          },
          "title": {
           "x": 0.05
          },
          "xaxis": {
           "automargin": true,
           "gridcolor": "white",
           "linecolor": "white",
           "ticks": "",
           "title": {
            "standoff": 15
           },
           "zerolinecolor": "white",
           "zerolinewidth": 2
          },
          "yaxis": {
           "automargin": true,
           "gridcolor": "white",
           "linecolor": "white",
           "ticks": "",
           "title": {
            "standoff": 15
           },
           "zerolinecolor": "white",
           "zerolinewidth": 2
          }
         }
        },
        "title": {
         "font": {
          "size": 18
         },
         "text": "<b>Correlation between GDP per capita and Happiness Score</b> (Correlation: 0.78)",
         "x": 0.5
        },
        "xaxis": {
         "anchor": "y",
         "domain": [
          0,
          1
         ],
         "title": {
          "text": "Logged GDP per capita"
         }
        },
        "yaxis": {
         "anchor": "x",
         "domain": [
          0,
          1
         ],
         "title": {
          "text": "Happiness Score"
         }
        }
       }
      }
     },
     "metadata": {},
     "output_type": "display_data"
    }
   ],
   "source": [
    "import pandas as pd\n",
    "import plotly.express as px\n",
    "import numpy as np\n",
    "\n",
    "# Load the dataset\n",
    "file_path = 'databases/merged_dataset2_updated.csv'\n",
    "data = pd.read_csv(file_path)\n",
    "\n",
    "# Calculate the correlation between Ladder score and Logged GDP per capita\n",
    "correlation = data['Happiness Score 2020'].corr(data['Logged GDP per capita'])\n",
    "\n",
    "# Calculate the mean GDP per capita and happiness score\n",
    "mean_gdp = np.mean(data['Logged GDP per capita'])\n",
    "mean_score = np.mean(data['Happiness Score 2020'])\n",
    "\n",
    "# Create a scatter plot with tooltips and a mean line\n",
    "fig = px.scatter(data, x='Logged GDP per capita', y='Happiness Score 2020', hover_name='Country',\n",
    "                 title=f'<b>Correlation between GDP per capita and Happiness Score</b> (Correlation: {correlation:.2f})',\n",
    "                 trendline='ols')  # Ordinary Least Squares (OLS) trendline for mean\n",
    "\n",
    "# Update layout for aesthetics\n",
    "fig.update_layout(\n",
    "    title_x=0.5,  # Center title\n",
    "    title_font_size=18,  # Increase title font size\n",
    "    yaxis_title='Happiness Score',  # Label y-axis\n",
    "    showlegend=False  # Hide legend for cleaner look\n",
    ")\n",
    "\n",
    "# Show the plot\n",
    "fig.show()"
   ]
  },
  {
   "cell_type": "markdown",
   "id": "49f7f16c",
   "metadata": {},
   "source": [
    "> *Figure 4: Correlation between GDP per capita and Happiness Score.*"
   ]
  },
  {
   "cell_type": "markdown",
   "id": "c0bcecf9-e17c-477a-a229-55277d48fe64",
   "metadata": {},
   "source": [
    "In this graph the correlation between GDP per capita and Happiness is shown in more detail. The data points, representing countries, show a consistent trend along the upward sloping line. This consistency suggests that the relationship between GDP per capita and happiness is relatively stable across different countries. Most countries follow the general trend, with fewer outliers, which highlights that higher GDP per capita is generally associated with higher happiness scores.\n"
   ]
  },
  {
   "cell_type": "markdown",
   "id": "e1ec4c90-ccd9-4940-9a0e-18799c438ef5",
   "metadata": {},
   "source": [
    "## Second Perspective"
   ]
  },
  {
   "cell_type": "markdown",
   "id": "005e94a9",
   "metadata": {},
   "source": [
    "Economic welfare is not the most important for the overall happiness of a country and its citizens. To experience happiness, you need to be socially satisfied."
   ]
  },
  {
   "cell_type": "markdown",
   "id": "53fd6625",
   "metadata": {},
   "source": [
    "To find out if there is a big correlation between social factors and happiness, we compared it with the correlation between GDP per capita and happiness. This is important to show the relevence of this second perspective."
   ]
  },
  {
   "cell_type": "code",
   "execution_count": 6,
   "id": "73ecca93",
   "metadata": {},
   "outputs": [
    {
     "data": {
      "application/vnd.plotly.v1+json": {
       "config": {
        "plotlyServerURL": "https://plot.ly"
       },
       "data": [
        {
         "hovertemplate": "<b>%{hovertext}</b><br><br>Social support=%{x:.2f}<br>Happiness Score 2020=%{y:.2f}<extra></extra>",
         "hovertext": [
          "Afghanistan",
          "Albania",
          "Algeria",
          "Argentina",
          "Armenia",
          "Australia",
          "Austria",
          "Azerbaijan",
          "Bahrain",
          "Bangladesh",
          "Belarus",
          "Belgium",
          "Benin",
          "Bolivia",
          "Bosnia and Herzegovina",
          "Botswana",
          "Brazil",
          "Bulgaria",
          "Burkina Faso",
          "Burundi",
          "Ivory Coast",
          "Cambodia",
          "Cameroon",
          "Canada",
          "Central African Republic",
          "Chad",
          "Chile",
          "China",
          "Colombia",
          "Comoros",
          "Costa Rica",
          "Croatia",
          "Cyprus",
          "Czech Republic",
          "Denmark",
          "Dominican Republic",
          "Ecuador",
          "Egypt",
          "El Salvador",
          "Estonia",
          "Ethiopia",
          "Finland",
          "France",
          "Gabon",
          "Georgia",
          "Germany",
          "Ghana",
          "Greece",
          "Guatemala",
          "Guinea",
          "Haiti",
          "Honduras",
          "Hungary",
          "Iceland",
          "India",
          "Indonesia",
          "Iran",
          "Iraq",
          "Ireland",
          "Israel",
          "Italy",
          "Jamaica",
          "Japan",
          "Jordan",
          "Kazakhstan",
          "Kenya",
          "Kuwait",
          "Kyrgyzstan",
          "Laos",
          "Latvia",
          "Lebanon",
          "Lesotho",
          "Liberia",
          "Libya",
          "Lithuania",
          "Luxembourg",
          "Madagascar",
          "Malawi",
          "Malaysia",
          "Maldives",
          "Mali",
          "Malta",
          "Mauritania",
          "Mauritius",
          "Mexico",
          "Moldova",
          "Mongolia",
          "Montenegro",
          "Morocco",
          "Mozambique",
          "Myanmar",
          "Namibia",
          "Nepal",
          "Netherlands",
          "New Zealand",
          "Nicaragua",
          "Niger",
          "Nigeria",
          "Norway",
          "Pakistan",
          "Panama",
          "Paraguay",
          "Peru",
          "Philippines",
          "Poland",
          "Portugal",
          "Romania",
          "Russia",
          "Rwanda",
          "Saudi Arabia",
          "Senegal",
          "Serbia",
          "Sierra Leone",
          "Singapore",
          "Slovakia",
          "Slovenia",
          "South Africa",
          "South Korea",
          "South Sudan",
          "Spain",
          "Sri Lanka",
          "Sweden",
          "Switzerland",
          "Tajikistan",
          "Tanzania",
          "Thailand",
          "Togo",
          "Trinidad and Tobago",
          "Tunisia",
          "Turkey",
          "Turkmenistan",
          "Uganda",
          "Ukraine",
          "United Arab Emirates",
          "United Kingdom",
          "United States",
          "Uruguay",
          "Uzbekistan",
          "Venezuela",
          "Vietnam",
          "Yemen",
          "Zambia",
          "Zimbabwe"
         ],
         "legendgroup": "",
         "marker": {
          "color": "blue",
          "symbol": "circle"
         },
         "mode": "markers",
         "name": "",
         "orientation": "v",
         "showlegend": false,
         "type": "scatter",
         "x": [
          0.470366955,
          0.671070457,
          0.803385139,
          0.900567949,
          0.757479429,
          0.944854617,
          0.928045869,
          0.819308281,
          0.876342118,
          0.687292993,
          0.90674746,
          0.911632538,
          0.468671143,
          0.803108692,
          0.829204142,
          0.779121757,
          0.896723807,
          0.937840343,
          0.712943614,
          0.490325719,
          0.658048689,
          0.773080647,
          0.700386405,
          0.927176654,
          0.319459856,
          0.632388055,
          0.879713595,
          0.798760593,
          0.884440243,
          0.625662446,
          0.901545942,
          0.874623716,
          0.805996239,
          0.914430678,
          0.955990791,
          0.882085383,
          0.836418986,
          0.735447824,
          0.806092262,
          0.934729993,
          0.743307352,
          0.954329729,
          0.937103748,
          0.787886858,
          0.629033029,
          0.898874462,
          0.728601098,
          0.814380348,
          0.816621482,
          0.637573481,
          0.593247831,
          0.821870148,
          0.921934128,
          0.974669576,
          0.592200935,
          0.808379889,
          0.694689691,
          0.747694969,
          0.942081571,
          0.913571239,
          0.889878571,
          0.915701866,
          0.883545935,
          0.80216372,
          0.934744895,
          0.702652037,
          0.846475244,
          0.887228489,
          0.737502217,
          0.918288589,
          0.824338138,
          0.780495703,
          0.70928055,
          0.825942934,
          0.926107109,
          0.906912208,
          0.668195903,
          0.544007301,
          0.816509426,
          0.91316092,
          0.731468976,
          0.93037951,
          0.790819228,
          0.910357833,
          0.838665426,
          0.843313575,
          0.937142491,
          0.855314612,
          0.592628479,
          0.723874032,
          0.78440702,
          0.846880972,
          0.785512447,
          0.93913883,
          0.949118972,
          0.857497036,
          0.617435038,
          0.73721689,
          0.952486575,
          0.689062297,
          0.902094483,
          0.898727894,
          0.831075251,
          0.846730053,
          0.874257445,
          0.886590719,
          0.825161517,
          0.903150737,
          0.54083544,
          0.874067068,
          0.723616004,
          0.881475747,
          0.636142015,
          0.910268962,
          0.922493756,
          0.939575672,
          0.852532268,
          0.799387157,
          0.553707123,
          0.921125412,
          0.825374067,
          0.926311195,
          0.942846596,
          0.835297108,
          0.688933194,
          0.889973223,
          0.551312625,
          0.91529417,
          0.688718557,
          0.826313555,
          0.958966196,
          0.764994621,
          0.878879368,
          0.849181116,
          0.93668282,
          0.914219022,
          0.92281127,
          0.926595807,
          0.890408158,
          0.849987149,
          0.817980587,
          0.698824465,
          0.763092756
         ],
         "xaxis": "x",
         "y": [
          2.566900015,
          4.882699966,
          5.005099773,
          5.974699974,
          4.676799774,
          7.222799778,
          7.294199944,
          5.164800167,
          6.227300167,
          4.832799911,
          5.539899826,
          6.863500118,
          5.21600008,
          5.747499943,
          5.674099922,
          3.478899956,
          6.375599861,
          5.101500034,
          4.768700123,
          3.775300026,
          5.233300209,
          4.848400116,
          5.084899902,
          7.23210001,
          3.475899935,
          4.422699928,
          6.228499889,
          5.123899937,
          6.163400173,
          4.288599968,
          7.121399879,
          5.504700184,
          6.15899992,
          6.910900116,
          7.645599842,
          5.689199924,
          5.925199986,
          4.151400089,
          6.34829998,
          6.021800041,
          4.186200142,
          7.808700085,
          6.663799763,
          4.829299927,
          4.672599792,
          7.075799942,
          5.147999763,
          5.514999866,
          6.398900032,
          4.949299812,
          3.720799923,
          5.953199863,
          6.000400066,
          7.504499912,
          3.573299885,
          5.285600185,
          4.672399998,
          4.784800053,
          7.093699932,
          7.128600121,
          6.38740015,
          5.889800072,
          5.870800018,
          4.633399963,
          6.057899952,
          4.583000183,
          6.102099895,
          5.541500092,
          4.888599873,
          5.949999809,
          4.771500111,
          3.652800083,
          4.557899952,
          5.488800049,
          6.215499878,
          7.237500191,
          4.165599823,
          3.538000107,
          5.384300232,
          5.197599888,
          4.729300022,
          6.772799969,
          4.374599934,
          6.101299763,
          6.465000153,
          5.607500076,
          5.456200123,
          5.54610014,
          5.094799995,
          4.623600006,
          4.308000088,
          4.571100235,
          5.137199879,
          7.448900223,
          7.299600124,
          6.13710022,
          4.909599781,
          4.724100113,
          7.487999916,
          5.69329977,
          6.304800034,
          5.692100048,
          5.796800137,
          6.006000042,
          6.186299801,
          5.910900116,
          6.123700142,
          5.546000004,
          3.312299967,
          6.406499863,
          4.980800152,
          5.77820015,
          3.926399946,
          6.377099991,
          6.280600071,
          6.363399982,
          4.814099789,
          5.872399807,
          2.816600084,
          6.400899887,
          4.327000141,
          7.353499889,
          7.559899807,
          5.555699825,
          3.476200104,
          5.998799801,
          4.187200069,
          6.191899776,
          4.392199993,
          5.131800175,
          5.119100094,
          4.43200016,
          4.56069994,
          6.790800095,
          7.164500237,
          6.939599991,
          6.440100193,
          6.257599831,
          5.053199768,
          5.353499889,
          3.527400017,
          3.759399891,
          3.299200058
         ],
         "yaxis": "y"
        },
        {
         "hovertemplate": "<b>%{hovertext}</b><br><br>Logged GDP per capita=%{x:.2f}<br>Happiness Score 2020=%{y:.2f}<extra></extra>",
         "hovertext": [
          "Afghanistan",
          "Albania",
          "Algeria",
          "Argentina",
          "Armenia",
          "Australia",
          "Austria",
          "Azerbaijan",
          "Bahrain",
          "Bangladesh",
          "Belarus",
          "Belgium",
          "Benin",
          "Bolivia",
          "Bosnia and Herzegovina",
          "Botswana",
          "Brazil",
          "Bulgaria",
          "Burkina Faso",
          "Burundi",
          "Ivory Coast",
          "Cambodia",
          "Cameroon",
          "Canada",
          "Central African Republic",
          "Chad",
          "Chile",
          "China",
          "Colombia",
          "Comoros",
          "Costa Rica",
          "Croatia",
          "Cyprus",
          "Czech Republic",
          "Denmark",
          "Dominican Republic",
          "Ecuador",
          "Egypt",
          "El Salvador",
          "Estonia",
          "Ethiopia",
          "Finland",
          "France",
          "Gabon",
          "Georgia",
          "Germany",
          "Ghana",
          "Greece",
          "Guatemala",
          "Guinea",
          "Haiti",
          "Honduras",
          "Hungary",
          "Iceland",
          "India",
          "Indonesia",
          "Iran",
          "Iraq",
          "Ireland",
          "Israel",
          "Italy",
          "Jamaica",
          "Japan",
          "Jordan",
          "Kazakhstan",
          "Kenya",
          "Kuwait",
          "Kyrgyzstan",
          "Laos",
          "Latvia",
          "Lebanon",
          "Lesotho",
          "Liberia",
          "Libya",
          "Lithuania",
          "Luxembourg",
          "Madagascar",
          "Malawi",
          "Malaysia",
          "Maldives",
          "Mali",
          "Malta",
          "Mauritania",
          "Mauritius",
          "Mexico",
          "Moldova",
          "Mongolia",
          "Montenegro",
          "Morocco",
          "Mozambique",
          "Myanmar",
          "Namibia",
          "Nepal",
          "Netherlands",
          "New Zealand",
          "Nicaragua",
          "Niger",
          "Nigeria",
          "Norway",
          "Pakistan",
          "Panama",
          "Paraguay",
          "Peru",
          "Philippines",
          "Poland",
          "Portugal",
          "Romania",
          "Russia",
          "Rwanda",
          "Saudi Arabia",
          "Senegal",
          "Serbia",
          "Sierra Leone",
          "Singapore",
          "Slovakia",
          "Slovenia",
          "South Africa",
          "South Korea",
          "South Sudan",
          "Spain",
          "Sri Lanka",
          "Sweden",
          "Switzerland",
          "Tajikistan",
          "Tanzania",
          "Thailand",
          "Togo",
          "Trinidad and Tobago",
          "Tunisia",
          "Turkey",
          "Turkmenistan",
          "Uganda",
          "Ukraine",
          "United Arab Emirates",
          "United Kingdom",
          "United States",
          "Uruguay",
          "Uzbekistan",
          "Venezuela",
          "Vietnam",
          "Yemen",
          "Zambia",
          "Zimbabwe"
         ],
         "legendgroup": "",
         "marker": {
          "color": "green",
          "symbol": "circle"
         },
         "mode": "markers",
         "name": "",
         "orientation": "v",
         "showlegend": false,
         "type": "scatter",
         "x": [
          7.462860584,
          9.417930603,
          9.537964821,
          9.810955048,
          9.100476265,
          10.72059631,
          10.7428236,
          9.687726974,
          10.67638016,
          8.287063599,
          9.779945374,
          10.6736393,
          7.674319744,
          8.851115227,
          9.455817223,
          9.711203575,
          9.56643486,
          9.869318962,
          7.46854496,
          6.492642403,
          8.225561142,
          8.249890327,
          8.118647575,
          10.69236851,
          6.625160217,
          7.467963696,
          10.0320549,
          9.688568115,
          9.500369072,
          7.833630085,
          9.658156395,
          10.07087517,
          10.40570259,
          10.40416336,
          10.77400112,
          9.664880753,
          9.246058464,
          9.316541672,
          8.909075737,
          10.34001732,
          7.509385586,
          10.63926697,
          10.58422279,
          9.680537224,
          9.226100922,
          10.7328186,
          8.350645065,
          10.13232613,
          8.924805641,
          7.750990391,
          7.411329269,
          8.424534798,
          10.24924374,
          10.77255917,
          8.849823952,
          9.36975193,
          9.813719749,
          9.661095619,
          11.16097832,
          10.41752529,
          10.48183632,
          9.006250381,
          10.57968903,
          9.025999069,
          10.11465836,
          8.02977562,
          11.08982468,
          8.148405075,
          8.79858017,
          10.17531967,
          9.3617239,
          7.960488319,
          7.054380417,
          9.789815903,
          10.34362602,
          11.45068073,
          7.281685829,
          7.062226295,
          10.26251888,
          9.518632889,
          7.629852295,
          10.53383827,
          8.233919144,
          9.956786156,
          9.797797203,
          8.776714325,
          9.412186623,
          9.751860619,
          8.940313339,
          7.069345951,
          8.680481911,
          9.203141212,
          7.925357342,
          10.81271172,
          10.50094318,
          8.493160248,
          6.842166901,
          8.57662487,
          11.08780384,
          8.482727051,
          10.03423405,
          9.389982224,
          9.456313133,
          8.993545532,
          10.26512432,
          10.26374245,
          10.107584,
          10.12887192,
          7.600104332,
          10.79781246,
          8.118982315,
          9.680980682,
          7.26880312,
          11.39552116,
          10.34774971,
          10.39232254,
          9.403370857,
          10.51056671,
          7.425359726,
          10.46292686,
          9.389969826,
          10.75879383,
          10.97993279,
          8.024810791,
          7.967665195,
          9.741791725,
          7.357711315,
          10.26000214,
          9.314972878,
          10.12941933,
          9.74803257,
          7.500389576,
          9.010690689,
          11.1099987,
          10.60013485,
          10.92576885,
          9.948192596,
          8.740371704,
          8.977793694,
          8.809545517,
          7.759682655,
          8.224720001,
          7.865711689
         ],
         "xaxis": "x2",
         "y": [
          2.566900015,
          4.882699966,
          5.005099773,
          5.974699974,
          4.676799774,
          7.222799778,
          7.294199944,
          5.164800167,
          6.227300167,
          4.832799911,
          5.539899826,
          6.863500118,
          5.21600008,
          5.747499943,
          5.674099922,
          3.478899956,
          6.375599861,
          5.101500034,
          4.768700123,
          3.775300026,
          5.233300209,
          4.848400116,
          5.084899902,
          7.23210001,
          3.475899935,
          4.422699928,
          6.228499889,
          5.123899937,
          6.163400173,
          4.288599968,
          7.121399879,
          5.504700184,
          6.15899992,
          6.910900116,
          7.645599842,
          5.689199924,
          5.925199986,
          4.151400089,
          6.34829998,
          6.021800041,
          4.186200142,
          7.808700085,
          6.663799763,
          4.829299927,
          4.672599792,
          7.075799942,
          5.147999763,
          5.514999866,
          6.398900032,
          4.949299812,
          3.720799923,
          5.953199863,
          6.000400066,
          7.504499912,
          3.573299885,
          5.285600185,
          4.672399998,
          4.784800053,
          7.093699932,
          7.128600121,
          6.38740015,
          5.889800072,
          5.870800018,
          4.633399963,
          6.057899952,
          4.583000183,
          6.102099895,
          5.541500092,
          4.888599873,
          5.949999809,
          4.771500111,
          3.652800083,
          4.557899952,
          5.488800049,
          6.215499878,
          7.237500191,
          4.165599823,
          3.538000107,
          5.384300232,
          5.197599888,
          4.729300022,
          6.772799969,
          4.374599934,
          6.101299763,
          6.465000153,
          5.607500076,
          5.456200123,
          5.54610014,
          5.094799995,
          4.623600006,
          4.308000088,
          4.571100235,
          5.137199879,
          7.448900223,
          7.299600124,
          6.13710022,
          4.909599781,
          4.724100113,
          7.487999916,
          5.69329977,
          6.304800034,
          5.692100048,
          5.796800137,
          6.006000042,
          6.186299801,
          5.910900116,
          6.123700142,
          5.546000004,
          3.312299967,
          6.406499863,
          4.980800152,
          5.77820015,
          3.926399946,
          6.377099991,
          6.280600071,
          6.363399982,
          4.814099789,
          5.872399807,
          2.816600084,
          6.400899887,
          4.327000141,
          7.353499889,
          7.559899807,
          5.555699825,
          3.476200104,
          5.998799801,
          4.187200069,
          6.191899776,
          4.392199993,
          5.131800175,
          5.119100094,
          4.43200016,
          4.56069994,
          6.790800095,
          7.164500237,
          6.939599991,
          6.440100193,
          6.257599831,
          5.053199768,
          5.353499889,
          3.527400017,
          3.759399891,
          3.299200058
         ],
         "yaxis": "y2"
        }
       ],
       "layout": {
        "annotations": [
         {
          "font": {
           "size": 16
          },
          "showarrow": false,
          "text": "Social Support vs Happiness Score",
          "x": 0.225,
          "xanchor": "center",
          "xref": "paper",
          "y": 1,
          "yanchor": "bottom",
          "yref": "paper"
         },
         {
          "font": {
           "size": 16
          },
          "showarrow": false,
          "text": "GDP per capita vs Happiness Score",
          "x": 0.775,
          "xanchor": "center",
          "xref": "paper",
          "y": 1,
          "yanchor": "bottom",
          "yref": "paper"
         },
         {
          "align": "left",
          "bgcolor": "rgba(255, 255, 255, 0.5)",
          "font": {
           "color": "black",
           "size": 20
          },
          "showarrow": false,
          "text": "Correlation: 0.77",
          "x": 0.95,
          "xref": "x",
          "y": 1.05,
          "yref": "y"
         },
         {
          "align": "left",
          "bgcolor": "rgba(255, 255, 255, 0.5)",
          "font": {
           "color": "black",
           "size": 20
          },
          "showarrow": false,
          "text": "Correlation: 0.79",
          "x": 11.3,
          "xref": "x2",
          "y": 1.05,
          "yref": "y2"
         }
        ],
        "showlegend": false,
        "template": {
         "data": {
          "bar": [
           {
            "error_x": {
             "color": "#2a3f5f"
            },
            "error_y": {
             "color": "#2a3f5f"
            },
            "marker": {
             "line": {
              "color": "#E5ECF6",
              "width": 0.5
             },
             "pattern": {
              "fillmode": "overlay",
              "size": 10,
              "solidity": 0.2
             }
            },
            "type": "bar"
           }
          ],
          "barpolar": [
           {
            "marker": {
             "line": {
              "color": "#E5ECF6",
              "width": 0.5
             },
             "pattern": {
              "fillmode": "overlay",
              "size": 10,
              "solidity": 0.2
             }
            },
            "type": "barpolar"
           }
          ],
          "carpet": [
           {
            "aaxis": {
             "endlinecolor": "#2a3f5f",
             "gridcolor": "white",
             "linecolor": "white",
             "minorgridcolor": "white",
             "startlinecolor": "#2a3f5f"
            },
            "baxis": {
             "endlinecolor": "#2a3f5f",
             "gridcolor": "white",
             "linecolor": "white",
             "minorgridcolor": "white",
             "startlinecolor": "#2a3f5f"
            },
            "type": "carpet"
           }
          ],
          "choropleth": [
           {
            "colorbar": {
             "outlinewidth": 0,
             "ticks": ""
            },
            "type": "choropleth"
           }
          ],
          "contour": [
           {
            "colorbar": {
             "outlinewidth": 0,
             "ticks": ""
            },
            "colorscale": [
             [
              0,
              "#0d0887"
             ],
             [
              0.1111111111111111,
              "#46039f"
             ],
             [
              0.2222222222222222,
              "#7201a8"
             ],
             [
              0.3333333333333333,
              "#9c179e"
             ],
             [
              0.4444444444444444,
              "#bd3786"
             ],
             [
              0.5555555555555556,
              "#d8576b"
             ],
             [
              0.6666666666666666,
              "#ed7953"
             ],
             [
              0.7777777777777778,
              "#fb9f3a"
             ],
             [
              0.8888888888888888,
              "#fdca26"
             ],
             [
              1,
              "#f0f921"
             ]
            ],
            "type": "contour"
           }
          ],
          "contourcarpet": [
           {
            "colorbar": {
             "outlinewidth": 0,
             "ticks": ""
            },
            "type": "contourcarpet"
           }
          ],
          "heatmap": [
           {
            "colorbar": {
             "outlinewidth": 0,
             "ticks": ""
            },
            "colorscale": [
             [
              0,
              "#0d0887"
             ],
             [
              0.1111111111111111,
              "#46039f"
             ],
             [
              0.2222222222222222,
              "#7201a8"
             ],
             [
              0.3333333333333333,
              "#9c179e"
             ],
             [
              0.4444444444444444,
              "#bd3786"
             ],
             [
              0.5555555555555556,
              "#d8576b"
             ],
             [
              0.6666666666666666,
              "#ed7953"
             ],
             [
              0.7777777777777778,
              "#fb9f3a"
             ],
             [
              0.8888888888888888,
              "#fdca26"
             ],
             [
              1,
              "#f0f921"
             ]
            ],
            "type": "heatmap"
           }
          ],
          "heatmapgl": [
           {
            "colorbar": {
             "outlinewidth": 0,
             "ticks": ""
            },
            "colorscale": [
             [
              0,
              "#0d0887"
             ],
             [
              0.1111111111111111,
              "#46039f"
             ],
             [
              0.2222222222222222,
              "#7201a8"
             ],
             [
              0.3333333333333333,
              "#9c179e"
             ],
             [
              0.4444444444444444,
              "#bd3786"
             ],
             [
              0.5555555555555556,
              "#d8576b"
             ],
             [
              0.6666666666666666,
              "#ed7953"
             ],
             [
              0.7777777777777778,
              "#fb9f3a"
             ],
             [
              0.8888888888888888,
              "#fdca26"
             ],
             [
              1,
              "#f0f921"
             ]
            ],
            "type": "heatmapgl"
           }
          ],
          "histogram": [
           {
            "marker": {
             "pattern": {
              "fillmode": "overlay",
              "size": 10,
              "solidity": 0.2
             }
            },
            "type": "histogram"
           }
          ],
          "histogram2d": [
           {
            "colorbar": {
             "outlinewidth": 0,
             "ticks": ""
            },
            "colorscale": [
             [
              0,
              "#0d0887"
             ],
             [
              0.1111111111111111,
              "#46039f"
             ],
             [
              0.2222222222222222,
              "#7201a8"
             ],
             [
              0.3333333333333333,
              "#9c179e"
             ],
             [
              0.4444444444444444,
              "#bd3786"
             ],
             [
              0.5555555555555556,
              "#d8576b"
             ],
             [
              0.6666666666666666,
              "#ed7953"
             ],
             [
              0.7777777777777778,
              "#fb9f3a"
             ],
             [
              0.8888888888888888,
              "#fdca26"
             ],
             [
              1,
              "#f0f921"
             ]
            ],
            "type": "histogram2d"
           }
          ],
          "histogram2dcontour": [
           {
            "colorbar": {
             "outlinewidth": 0,
             "ticks": ""
            },
            "colorscale": [
             [
              0,
              "#0d0887"
             ],
             [
              0.1111111111111111,
              "#46039f"
             ],
             [
              0.2222222222222222,
              "#7201a8"
             ],
             [
              0.3333333333333333,
              "#9c179e"
             ],
             [
              0.4444444444444444,
              "#bd3786"
             ],
             [
              0.5555555555555556,
              "#d8576b"
             ],
             [
              0.6666666666666666,
              "#ed7953"
             ],
             [
              0.7777777777777778,
              "#fb9f3a"
             ],
             [
              0.8888888888888888,
              "#fdca26"
             ],
             [
              1,
              "#f0f921"
             ]
            ],
            "type": "histogram2dcontour"
           }
          ],
          "mesh3d": [
           {
            "colorbar": {
             "outlinewidth": 0,
             "ticks": ""
            },
            "type": "mesh3d"
           }
          ],
          "parcoords": [
           {
            "line": {
             "colorbar": {
              "outlinewidth": 0,
              "ticks": ""
             }
            },
            "type": "parcoords"
           }
          ],
          "pie": [
           {
            "automargin": true,
            "type": "pie"
           }
          ],
          "scatter": [
           {
            "fillpattern": {
             "fillmode": "overlay",
             "size": 10,
             "solidity": 0.2
            },
            "type": "scatter"
           }
          ],
          "scatter3d": [
           {
            "line": {
             "colorbar": {
              "outlinewidth": 0,
              "ticks": ""
             }
            },
            "marker": {
             "colorbar": {
              "outlinewidth": 0,
              "ticks": ""
             }
            },
            "type": "scatter3d"
           }
          ],
          "scattercarpet": [
           {
            "marker": {
             "colorbar": {
              "outlinewidth": 0,
              "ticks": ""
             }
            },
            "type": "scattercarpet"
           }
          ],
          "scattergeo": [
           {
            "marker": {
             "colorbar": {
              "outlinewidth": 0,
              "ticks": ""
             }
            },
            "type": "scattergeo"
           }
          ],
          "scattergl": [
           {
            "marker": {
             "colorbar": {
              "outlinewidth": 0,
              "ticks": ""
             }
            },
            "type": "scattergl"
           }
          ],
          "scattermapbox": [
           {
            "marker": {
             "colorbar": {
              "outlinewidth": 0,
              "ticks": ""
             }
            },
            "type": "scattermapbox"
           }
          ],
          "scatterpolar": [
           {
            "marker": {
             "colorbar": {
              "outlinewidth": 0,
              "ticks": ""
             }
            },
            "type": "scatterpolar"
           }
          ],
          "scatterpolargl": [
           {
            "marker": {
             "colorbar": {
              "outlinewidth": 0,
              "ticks": ""
             }
            },
            "type": "scatterpolargl"
           }
          ],
          "scatterternary": [
           {
            "marker": {
             "colorbar": {
              "outlinewidth": 0,
              "ticks": ""
             }
            },
            "type": "scatterternary"
           }
          ],
          "surface": [
           {
            "colorbar": {
             "outlinewidth": 0,
             "ticks": ""
            },
            "colorscale": [
             [
              0,
              "#0d0887"
             ],
             [
              0.1111111111111111,
              "#46039f"
             ],
             [
              0.2222222222222222,
              "#7201a8"
             ],
             [
              0.3333333333333333,
              "#9c179e"
             ],
             [
              0.4444444444444444,
              "#bd3786"
             ],
             [
              0.5555555555555556,
              "#d8576b"
             ],
             [
              0.6666666666666666,
              "#ed7953"
             ],
             [
              0.7777777777777778,
              "#fb9f3a"
             ],
             [
              0.8888888888888888,
              "#fdca26"
             ],
             [
              1,
              "#f0f921"
             ]
            ],
            "type": "surface"
           }
          ],
          "table": [
           {
            "cells": {
             "fill": {
              "color": "#EBF0F8"
             },
             "line": {
              "color": "white"
             }
            },
            "header": {
             "fill": {
              "color": "#C8D4E3"
             },
             "line": {
              "color": "white"
             }
            },
            "type": "table"
           }
          ]
         },
         "layout": {
          "annotationdefaults": {
           "arrowcolor": "#2a3f5f",
           "arrowhead": 0,
           "arrowwidth": 1
          },
          "autotypenumbers": "strict",
          "coloraxis": {
           "colorbar": {
            "outlinewidth": 0,
            "ticks": ""
           }
          },
          "colorscale": {
           "diverging": [
            [
             0,
             "#8e0152"
            ],
            [
             0.1,
             "#c51b7d"
            ],
            [
             0.2,
             "#de77ae"
            ],
            [
             0.3,
             "#f1b6da"
            ],
            [
             0.4,
             "#fde0ef"
            ],
            [
             0.5,
             "#f7f7f7"
            ],
            [
             0.6,
             "#e6f5d0"
            ],
            [
             0.7,
             "#b8e186"
            ],
            [
             0.8,
             "#7fbc41"
            ],
            [
             0.9,
             "#4d9221"
            ],
            [
             1,
             "#276419"
            ]
           ],
           "sequential": [
            [
             0,
             "#0d0887"
            ],
            [
             0.1111111111111111,
             "#46039f"
            ],
            [
             0.2222222222222222,
             "#7201a8"
            ],
            [
             0.3333333333333333,
             "#9c179e"
            ],
            [
             0.4444444444444444,
             "#bd3786"
            ],
            [
             0.5555555555555556,
             "#d8576b"
            ],
            [
             0.6666666666666666,
             "#ed7953"
            ],
            [
             0.7777777777777778,
             "#fb9f3a"
            ],
            [
             0.8888888888888888,
             "#fdca26"
            ],
            [
             1,
             "#f0f921"
            ]
           ],
           "sequentialminus": [
            [
             0,
             "#0d0887"
            ],
            [
             0.1111111111111111,
             "#46039f"
            ],
            [
             0.2222222222222222,
             "#7201a8"
            ],
            [
             0.3333333333333333,
             "#9c179e"
            ],
            [
             0.4444444444444444,
             "#bd3786"
            ],
            [
             0.5555555555555556,
             "#d8576b"
            ],
            [
             0.6666666666666666,
             "#ed7953"
            ],
            [
             0.7777777777777778,
             "#fb9f3a"
            ],
            [
             0.8888888888888888,
             "#fdca26"
            ],
            [
             1,
             "#f0f921"
            ]
           ]
          },
          "colorway": [
           "#636efa",
           "#EF553B",
           "#00cc96",
           "#ab63fa",
           "#FFA15A",
           "#19d3f3",
           "#FF6692",
           "#B6E880",
           "#FF97FF",
           "#FECB52"
          ],
          "font": {
           "color": "#2a3f5f"
          },
          "geo": {
           "bgcolor": "white",
           "lakecolor": "white",
           "landcolor": "#E5ECF6",
           "showlakes": true,
           "showland": true,
           "subunitcolor": "white"
          },
          "hoverlabel": {
           "align": "left"
          },
          "hovermode": "closest",
          "mapbox": {
           "style": "light"
          },
          "paper_bgcolor": "white",
          "plot_bgcolor": "#E5ECF6",
          "polar": {
           "angularaxis": {
            "gridcolor": "white",
            "linecolor": "white",
            "ticks": ""
           },
           "bgcolor": "#E5ECF6",
           "radialaxis": {
            "gridcolor": "white",
            "linecolor": "white",
            "ticks": ""
           }
          },
          "scene": {
           "xaxis": {
            "backgroundcolor": "#E5ECF6",
            "gridcolor": "white",
            "gridwidth": 2,
            "linecolor": "white",
            "showbackground": true,
            "ticks": "",
            "zerolinecolor": "white"
           },
           "yaxis": {
            "backgroundcolor": "#E5ECF6",
            "gridcolor": "white",
            "gridwidth": 2,
            "linecolor": "white",
            "showbackground": true,
            "ticks": "",
            "zerolinecolor": "white"
           },
           "zaxis": {
            "backgroundcolor": "#E5ECF6",
            "gridcolor": "white",
            "gridwidth": 2,
            "linecolor": "white",
            "showbackground": true,
            "ticks": "",
            "zerolinecolor": "white"
           }
          },
          "shapedefaults": {
           "line": {
            "color": "#2a3f5f"
           }
          },
          "ternary": {
           "aaxis": {
            "gridcolor": "white",
            "linecolor": "white",
            "ticks": ""
           },
           "baxis": {
            "gridcolor": "white",
            "linecolor": "white",
            "ticks": ""
           },
           "bgcolor": "#E5ECF6",
           "caxis": {
            "gridcolor": "white",
            "linecolor": "white",
            "ticks": ""
           }
          },
          "title": {
           "x": 0.05
          },
          "xaxis": {
           "automargin": true,
           "gridcolor": "white",
           "linecolor": "white",
           "ticks": "",
           "title": {
            "standoff": 15
           },
           "zerolinecolor": "white",
           "zerolinewidth": 2
          },
          "yaxis": {
           "automargin": true,
           "gridcolor": "white",
           "linecolor": "white",
           "ticks": "",
           "title": {
            "standoff": 15
           },
           "zerolinecolor": "white",
           "zerolinewidth": 2
          }
         }
        },
        "title": {
         "font": {
          "size": 20
         },
         "text": "Impact of Social Support and GDP per capita on Happiness in 2020",
         "x": 0.5,
         "y": 0.95
        },
        "xaxis": {
         "anchor": "y",
         "domain": [
          0,
          0.45
         ],
         "title": {
          "text": "Social Support"
         }
        },
        "xaxis2": {
         "anchor": "y2",
         "domain": [
          0.55,
          1
         ],
         "title": {
          "text": "GDP per capita"
         }
        },
        "yaxis": {
         "anchor": "x",
         "domain": [
          0,
          1
         ],
         "title": {
          "text": "Happiness Score"
         }
        },
        "yaxis2": {
         "anchor": "x2",
         "domain": [
          0,
          1
         ],
         "title": {
          "text": "Happiness Score"
         }
        }
       }
      }
     },
     "metadata": {},
     "output_type": "display_data"
    }
   ],
   "source": [
    "import pandas as pd\n",
    "import plotly.express as px\n",
    "from scipy.stats import pearsonr\n",
    "from plotly.subplots import make_subplots\n",
    "\n",
    "# Load the dataset\n",
    "df = pd.read_csv('databases/merged_dataset2_updated.csv')\n",
    "\n",
    "# Extract relevant columns\n",
    "df = df[['Country', 'Logged GDP per capita', 'Social support', 'Happiness Score 2020']]\n",
    "\n",
    "# Convert to numeric, handling errors if any\n",
    "df['Logged GDP per capita'] = pd.to_numeric(df['Logged GDP per capita'], errors='coerce')\n",
    "df['Social support'] = pd.to_numeric(df['Social support'], errors='coerce')\n",
    "df['Happiness Score 2020'] = pd.to_numeric(df['Happiness Score 2020'], errors='coerce')\n",
    "\n",
    "# Drop rows with missing values\n",
    "df = df.dropna()\n",
    "\n",
    "# Compute correlation coefficients\n",
    "corr_social_support, _ = pearsonr(df['Social support'], df['Happiness Score 2020'])\n",
    "corr_gdp, _ = pearsonr(df['Logged GDP per capita'], df['Happiness Score 2020'])\n",
    "\n",
    "# Create interactive scatter plot for Social Support vs Happiness Score\n",
    "fig1 = px.scatter(df, x='Social support', y='Happiness Score 2020', \n",
    "                  title='Social Support vs Happiness Score 2020',\n",
    "                  labels={'Social support': 'Social support', 'Happiness Score 2020': 'Happiness Score 2020'},\n",
    "                  hover_name='Country', hover_data={'Happiness Score 2020': ':.2f', 'Social support': ':.2f'})\n",
    "\n",
    "fig1.update_traces(marker=dict(color='blue'))\n",
    "\n",
    "\n",
    "# Create interactive scatter plot for Logged GDP per capita vs Happiness Score\n",
    "fig2 = px.scatter(df, x='Logged GDP per capita', y='Happiness Score 2020', \n",
    "                  title='Logged GDP per capita vs Happiness Score 2020',\n",
    "                  labels={'Logged GDP per capita': 'Logged GDP per capita', 'Happiness Score 2020': 'Happiness Score 2020'},\n",
    "                  hover_name='Country', hover_data={'Happiness Score 2020': ':.2f', 'Logged GDP per capita': ':.2f'})\n",
    "\n",
    "fig2.update_traces(marker=dict(color='green'))\n",
    "\n",
    "\n",
    "# Combine the two figures into a single plot\n",
    "combined_fig = make_subplots(rows=1, cols=2, subplot_titles=(\"Social Support vs Happiness Score\", \"GDP per capita vs Happiness Score\"))\n",
    "for trace in fig1.data:\n",
    "    combined_fig.add_trace(trace, row=1, col=1)\n",
    "for trace in fig2.data:\n",
    "    combined_fig.add_trace(trace, row=1, col=2)\n",
    "\n",
    "# Update x-axis and y-axis titles for each subplot\n",
    "combined_fig.update_xaxes(title_text=\"Social Support\", row=1, col=1)\n",
    "combined_fig.update_yaxes(title_text=\"Happiness Score\", row=1, col=1)\n",
    "combined_fig.update_xaxes(title_text=\"GDP per capita\", row=1, col=2)\n",
    "combined_fig.update_yaxes(title_text=\"Happiness Score\", row=1, col=2)\n",
    "\n",
    "# Calculate relative position for annotations\n",
    "x_annotation1 = 0.95 # Adjust as needed\n",
    "x_annotation2 = 11.3  # Adjust as needed\n",
    "y_annotation = 1.05   # Adjust as needed\n",
    "\n",
    "# Calculate relative font size\n",
    "font_size = 20  # Adjust as needed\n",
    "\n",
    "# Add textbox annotations at the top center of each subplot\n",
    "combined_fig.add_annotation(\n",
    "    text=f'Correlation: {corr_social_support:.2f}',\n",
    "    xref='paper', yref='paper',\n",
    "    x=x_annotation1, y=y_annotation,\n",
    "    showarrow=False,\n",
    "    font=dict(size=font_size, color='black'),\n",
    "    align='left', bgcolor='rgba(255, 255, 255, 0.5)',\n",
    "    row=1, col=1\n",
    ")\n",
    "\n",
    "combined_fig.add_annotation(\n",
    "    text=f'Correlation: {corr_gdp:.2f}',\n",
    "    xref='paper', yref='paper',\n",
    "    x=x_annotation2, y=y_annotation,\n",
    "    showarrow=False,\n",
    "    font=dict(size=font_size, color='black'),\n",
    "    align='left', bgcolor='rgba(255, 255, 255, 0.5)',\n",
    "    row=1, col=2\n",
    ")\n",
    "\n",
    "\n",
    "# Update layout with centered and larger title\n",
    "combined_fig.update_layout(\n",
    "    title_text='Impact of Social Support and GDP per capita on Happiness in 2020',\n",
    "    title_x=0.5,  # Center title horizontally\n",
    "    title_y=0.95,  # Position title slightly above the plots\n",
    "    title_font=dict(size=20),  # Increase font size\n",
    "    showlegend=False\n",
    ")\n",
    "# Show the combined figure\n",
    "combined_fig.show()\n"
   ]
  },
  {
   "cell_type": "markdown",
   "id": "03f41f63",
   "metadata": {},
   "source": [
    "> *Figure 5: The impact of social support and GDP per capita on the happiness score in 2020.*"
   ]
  },
  {
   "cell_type": "markdown",
   "id": "92bc84e2",
   "metadata": {},
   "source": [
    "This graph presents a detailed comparison of the two most highly correlated statistics with happiness. The first plot displays all the data points (countries) between social support and happiness score, while the second plot shows the data points between GDP per capita and happiness score. The visibility of all data points allows us to observe the trends clearly.\n",
    "In the comparison, we notice that the data points between social support and happiness score cluster closely together at the top right, illustrating an exponential trend. This indicates that as social support increases, happiness scores rise significantly, highlighting the profound impact of strong social networks on well-being.\n",
    "On the other hand, the data points between GDP per capita and happiness score exhibit more consistency and a linear trend. GDP per capita reflects material wealth and access to resources, which undoubtedly contribute to overall life satisfaction. However, the linear trend suggests that while economic wealth is important, it does not fully capture the complexity of happiness. Economic gains may lead to improvements in living standards, healthcare, and education, but these gains tend to follow a more uniform pattern, lacking the exponential impact observed with social support.\n"
   ]
  },
  {
   "cell_type": "markdown",
   "id": "4a3eacb4-4812-474a-9900-71e2ac33cb5f",
   "metadata": {},
   "source": [
    "### Argument 1"
   ]
  },
  {
   "cell_type": "markdown",
   "id": "62b3848e-5c37-482c-a584-c7c2a02a1e95",
   "metadata": {},
   "source": [
    "GDP per capita represents an average of the economic output per person within a country. However, it provides little insight into how this prosperity is distributed across the population. High GDP per capita can coexist with significant income inequality, where a small elite earns considerably more than the majority of the population. This disparity can lead to social tensions, feelings of injustice, and a reduced sense of well-being among a large segment of the population, despite a high average income. Consequently, this scenario often results in lower levels of happiness."
   ]
  },
  {
   "cell_type": "code",
   "execution_count": 7,
   "id": "982ff45f",
   "metadata": {
    "tags": [
     "hide-input"
    ]
   },
   "outputs": [
    {
     "data": {
      "image/png": "[encoded data removed]",
      "text/plain": [
       "<Figure size 1800x600 with 6 Axes>"
      ]
     },
     "metadata": {},
     "output_type": "display_data"
    }
   ],
   "source": [
    "import pandas as pd\n",
    "import matplotlib.pyplot as plt\n",
    "import numpy as np\n",
    "\n",
    "# Load the dataset\n",
    "file_path = 'databases/merged_dataset2_updated.csv'\n",
    "df = pd.read_csv(file_path)\n",
    "\n",
    "# Define thresholds for GDP per capita to classify countries into three groups\n",
    "gdp_thresholds = [8, 10]\n",
    "\n",
    "# Define group labels\n",
    "poor_group = 'Poor: GDP per capita < {}'.format(gdp_thresholds[0])\n",
    "middle_group = 'Middle: {} <= GDP per capita < {}'.format(gdp_thresholds[0], gdp_thresholds[1])\n",
    "rich_group = 'Rich: GDP per capita >= {}'.format(gdp_thresholds[1])\n",
    "\n",
    "# Function to categorize GDP per capita into three groups\n",
    "def categorize_gdp(gdp):\n",
    "    if gdp < gdp_thresholds[0]:\n",
    "        return poor_group\n",
    "    elif gdp < gdp_thresholds[1]:\n",
    "        return middle_group\n",
    "    else:\n",
    "        return rich_group\n",
    "\n",
    "# Apply categorization to create a new column 'GDP Group'\n",
    "df['GDP Group'] = df['Logged GDP per capita'].apply(categorize_gdp)\n",
    "\n",
    "# Filter out rows where 'Logged GDP per capita' or 'Gini coefficient' are NaN or Inf\n",
    "df = df.replace([np.inf, -np.inf], np.nan).dropna(subset=['Logged GDP per capita', 'Gini coefficient'])\n",
    "\n",
    "# Split data into three groups based on GDP Group\n",
    "group_poor = df[df['GDP Group'] == poor_group]\n",
    "group_middle = df[df['GDP Group'] == middle_group]\n",
    "group_rich = df[df['GDP Group'] == rich_group]\n",
    "\n",
    "# Calculate the range of happiness scores and Gini coefficients for consistent scaling\n",
    "min_happiness = df['Happiness Score 2020'].min()\n",
    "max_happiness = df['Happiness Score 2020'].max()\n",
    "\n",
    "# Create a function to plot each group with average Gini annotation\n",
    "def plot_group(ax, df, title):\n",
    "    # Define bubble sizes based on happiness score (multiplied for better visualization)\n",
    "    bubble_sizes = df['Happiness Score 2020'] * 1000\n",
    "\n",
    "    # Scatter plot with bubble size encoding\n",
    "    scatter = ax.scatter(df['Logged GDP per capita'], \n",
    "                         df['Gini coefficient'], \n",
    "                         s=bubble_sizes,\n",
    "                         alpha=0.5,  # transparency\n",
    "                         c=df['Happiness Score 2020'],  # color map based on happiness score\n",
    "                         cmap='viridis',  # colormap\n",
    "                         edgecolors='w',  # edge color of bubbles\n",
    "                         linewidths=0.5,  # linewidth of bubble edge\n",
    "                         vmin=min_happiness,  # set minimum of color scale\n",
    "                         vmax=max_happiness)  # set maximum of color scale\n",
    "\n",
    "    # Add labels with adjusted size and centered in the bubbles\n",
    "    for i, (country, x, y) in enumerate(zip(df['Country'], df['Logged GDP per capita'], df['Gini coefficient'])):\n",
    "        ax.text(x, y, country, fontsize=6, ha='center', va='center')\n",
    "\n",
    "    # Add average Gini coefficient annotation\n",
    "    avg_gini = df['Gini coefficient'].mean()\n",
    "    ax.annotate(f\"Avg. Gini coefficient: {avg_gini:.2f}\", \n",
    "                xy=(0.05, 0.9),\n",
    "                xycoords='axes fraction',\n",
    "                fontsize=10,\n",
    "                bbox=dict(facecolor='white', edgecolor='black', boxstyle='round,pad=0.5'))\n",
    "\n",
    "    # Add colorbar\n",
    "    ax.figure.colorbar(scatter, ax=ax, label='Happiness Score 2020')\n",
    "\n",
    "    # Set y-axis limits for Gini coefficient\n",
    "    ax.set_ylim(0.15, 0.8)\n",
    "\n",
    "    # Add labels and title\n",
    "    ax.set_title(title)\n",
    "    ax.set_xlabel('Logged GDP per capita')\n",
    "    ax.set_ylabel('GDP per capita inequality (Gini) coefficient')\n",
    "\n",
    "# Create a figure with three subplots in a row\n",
    "fig, axs = plt.subplots(1, 3, figsize=(18, 6))\n",
    "\n",
    "# Plot each group in its own subplot\n",
    "plot_group(axs[0], group_poor, title='Poor country group')\n",
    "plot_group(axs[1], group_middle, title='Middle poor country group')\n",
    "plot_group(axs[2], group_rich, title='Rich country group')\n",
    "\n",
    "# Adjust layout and show plot\n",
    "plt.tight_layout()\n",
    "plt.show()\n"
   ]
  },
  {
   "cell_type": "markdown",
   "id": "c3857f81-dcad-489c-a608-3f7f86e6a58e",
   "metadata": {},
   "source": [
    "> *Figure 6: The comparison of inequality with logged GDP per capita and their happiness for each country.*"
   ]
  },
  {
   "cell_type": "markdown",
   "id": "52d494f5",
   "metadata": {},
   "source": [
    "This graph shows through a distribution of bubbels the correlation between GDP per capita and Happiness, and the effect the inequality (Gini) coefficient has on both. The Gini coefficient tells us how uneven wealth is distributed in a country. This graph is also split into three plots, poor, middle and rich groups, because of this we can clearly see that countries that are more poor are less happy and also have a higher uneven wealth distribution.\n"
   ]
  },
  {
   "cell_type": "markdown",
   "id": "bf522e30-74ba-4774-a6a0-a94f3d827123",
   "metadata": {},
   "source": [
    "### Argument 2"
   ]
  },
  {
   "cell_type": "markdown",
   "id": "51f7128d-2dd5-42ff-a178-bd7d6457d749",
   "metadata": {},
   "source": [
    "Strong social connections, a sense of purpose, and positive emotions are key ingredients for happiness, especially for some GDP groups. Material wealth can't replace these intrinsic factors."
   ]
  },
  {
   "cell_type": "code",
   "execution_count": 8,
   "id": "e6372635",
   "metadata": {
    "tags": [
     "hide-input"
    ]
   },
   "outputs": [
    {
     "data": {
      "image/png": "[encoded data removed]",
      "text/plain": [
       "<Figure size 1200x800 with 1 Axes>"
      ]
     },
     "metadata": {},
     "output_type": "display_data"
    }
   ],
   "source": [
    "import pandas as pd\n",
    "import matplotlib.pyplot as plt\n",
    "import seaborn as sns\n",
    "\n",
    "# Load the merged dataset\n",
    "merged_data = pd.read_csv('databases/merged_dataset2_updated.csv')\n",
    "\n",
    "# Define variables of interest for correlation analysis\n",
    "variables = ['Density(P/Km2)', 'Agricultural Land( %)', 'Land Area(Km2)', 'Armed Forces size', \n",
    "             'Birth Rate', 'Co2-Emissions', \n",
    "             'Fertility Rate', 'Forested Area (%)', 'Gasoline Price', \n",
    "             'Gross primary education enrollment (%)', 'Gross tertiary education enrollment (%)', \n",
    "             'Infant mortality', 'Life expectancy', 'Maternal mortality ratio', 'Minimum wage', \n",
    "             'Logged GDP per capita', 'Social support']\n",
    "\n",
    "# Function to preprocess columns with special characters and percentages\n",
    "def preprocess_column(col):\n",
    "    if merged_data[col].dtype == 'object':  # Only process columns with object dtype\n",
    "        if '$' in merged_data[col].iloc[0]:  # Check if column contains '$'\n",
    "            merged_data[col] = merged_data[col].replace('[\\$,]', '', regex=True).astype(float)\n",
    "        elif '%' in merged_data[col].iloc[0]:  # Check if column contains '%'\n",
    "            merged_data[col] = merged_data[col].replace('%', '', regex=True).astype(float)\n",
    "        else:\n",
    "            merged_data[col] = pd.to_numeric(merged_data[col], errors='coerce')\n",
    "\n",
    "# Preprocess columns with special characters and percentages\n",
    "for var in variables:\n",
    "    preprocess_column(var)\n",
    "\n",
    "# Filter out rows where Logged GDP per capita is NaN or missing\n",
    "merged_data = merged_data.dropna(subset=['Logged GDP per capita'])\n",
    "\n",
    "# Define thresholds for GDP per capita to classify countries into three groups\n",
    "gdp_thresholds = [8, 10]  # Define your thresholds based on your criteria\n",
    "\n",
    "poor_group = f'Ultra Poor: GDP per capita < {gdp_thresholds[0]}'\n",
    "middle_group = f'Middle Poor: {gdp_thresholds[0]} <= GDP per capita < {gdp_thresholds[1]}'\n",
    "rich_group = f'Ultra Rich: GDP per capita >= {gdp_thresholds[1]}'\n",
    "\n",
    "# Function to categorize GDP per capita into three groups\n",
    "def categorize_gdp(gdp):\n",
    "    if gdp < gdp_thresholds[0]:\n",
    "        return poor_group\n",
    "    elif gdp < gdp_thresholds[1]:\n",
    "        return middle_group\n",
    "    else:\n",
    "        return rich_group\n",
    "\n",
    "# Apply the categorization function to create a new column 'GDP Group'\n",
    "merged_data['GDP Group'] = merged_data['Logged GDP per capita'].apply(categorize_gdp)\n",
    "\n",
    "# Compute correlations for each group and each variable\n",
    "correlations = []\n",
    "\n",
    "for group in [poor_group, middle_group, rich_group]:\n",
    "    group_data = merged_data[merged_data['GDP Group'] == group]\n",
    "    group_corr = []\n",
    "    for var in variables:\n",
    "        if var in group_data.columns:\n",
    "            correlation = group_data['Happiness Score 2020'].corr(group_data[var])\n",
    "            group_corr.append({'Variable': var, 'Correlation': correlation, 'Group': group})\n",
    "    correlations.extend(group_corr)\n",
    "\n",
    "# Convert correlations list to DataFrame\n",
    "correlations_df = pd.DataFrame(correlations)\n",
    "\n",
    "# Plotting the bar chart\n",
    "plt.figure(figsize=(12, 8))\n",
    "sns.barplot(x='Correlation', y='Variable', hue='Group', data=correlations_df, palette='Set2')\n",
    "plt.title('Correlation of Variables with Happiness Score by grouped GDP countries')\n",
    "plt.xlabel('Correlation with happiness')\n",
    "plt.ylabel('Variable')\n",
    "plt.grid(True)\n",
    "plt.legend(title='GDP grouped countries', loc='upper right')\n",
    "plt.tight_layout()\n",
    "plt.show()\n"
   ]
  },
  {
   "cell_type": "markdown",
   "id": "84271e8b-3cdf-4cad-b78e-f536ff980cba",
   "metadata": {},
   "source": [
    "> *Figure 7: Correlates all kinds of variables with the happiness score for 3 different kind of GDP country groups.*"
   ]
  },
  {
   "cell_type": "markdown",
   "id": "9bb2eaaf",
   "metadata": {},
   "source": [
    "In this graph just like the barchart are correlations between different statistics of a country and happiness shown, but now the statistics  are also grouped between poor, medium and rich countries. If you look carefully at this graph, you can see that economic statistics have a high correlation with happiness in rich countries, but in poor countries statistics like birth rate, social support and fertility rate have the highest correlation with happiness. This shows that money doesn't give the most happiness in every situation."
   ]
  },
  {
   "cell_type": "markdown",
   "id": "8a61224c",
   "metadata": {},
   "source": [
    "## References\n",
    "\n",
    "- Aknin, L. B., Norton, M. I., & Dunn, E. W. (2009). Happiness by design: Interaction effects of valence and framing on gift-giving. Journal of Experimental Social Psychology, 45(4), 739-743. \n",
    "https://www.tandfonline.com/doi/full/10.1080/08870446.2019.1609677\n",
    "\n",
    "- Diener, E., & Biswas-Diener, R. (2002). Subjective well-being: The science of happiness and a proposal for a national index. American Psychologist, 57(3), 227. \n",
    "https://psycnet.apa.org/record/2000-13324-004 \n",
    "\n",
    "- Frey, B. S., & Stutzer, A. (2000). Happiness, economy and institutions. The Economic Journal, 110(466), 919-939. \n",
    "https://warwick.ac.uk/research/ref/stories/search-for-happiness/ "
   ]
  }
 ],
 "metadata": {
  "celltoolbar": "Tags",
  "kernelspec": {
   "display_name": "Python 3 (ipykernel)",
   "language": "python",
   "name": "python3"
  },
  "language_info": {
   "codemirror_mode": {
    "name": "ipython",
    "version": 3
   },
   "file_extension": ".py",
   "mimetype": "text/x-python",
   "name": "python",
   "nbconvert_exporter": "python",
   "pygments_lexer": "ipython3",
   "version": "3.10.14"
  }
 },
 "nbformat": 4,
 "nbformat_minor": 5
}
