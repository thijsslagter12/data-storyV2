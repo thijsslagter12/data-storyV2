{
 "cells": [
  {
   "cell_type": "markdown",
   "id": "3b46ee32",
   "metadata": {},
   "source": [
    "## Dataset and Preprocessing"
   ]
  },
  {
   "cell_type": "markdown",
   "id": "54582175-0319-458b-b3f9-b6c8ef415196",
   "metadata": {},
   "source": [
    "Before the first meeting took place, all participants of our group looked for an interesting subject for this project and at least two corresponding, adequate datasets that could help build two opposite perspectives on their found topic. \n",
    "After some debate about what topic would be most suiting to inspect, we ultimately ended up with a dataset called [World Happiness Report](https://www.kaggle.com/datasets/unsdsn/world-happiness) and [Global Country Information Dataset 2023](https://www.kaggle.com/datasets/nelgiriyewithana/countries-of-the-world-2023 ) which were found on Kaggle.com. The be more specific, the World Happiness Report dataset was a collection of databases from 2015 up to 2020. \n",
    "After some research on Kaggle.com, we also found [datasets](https://www.kaggle.com/datasets/ajaypalsinghlo/world-happiness-report-2023) containing the World Happiness Scores from later years and we aggregated these all into one dataset, that we fittinly named [merged_dataset.csv](/Documents/InfVis/Draft/data-storyV2/docs/databases/merged_dataset2.csv). \n",
    "\n",
    "The Global Country Information Dataset offers detailed information about countries worldwide. It includes demographic statistics, economic metrics, environmental data, healthcare figures, education statistics, and more. With a representation from every country, the dataset provides a comprehensive global view, allowing for in-depth analyses and comparisons across nations. The data has been obtained from multiple sources.\n",
    "\n",
    "The datasets on World Happiness Scores all contained reported World Happiness Scores per country and possible, contributing factors to these happiness scores, such as life expectancy, birthrate and GDP per capita. With the possible correlations between these factors and happiness scores in both the Global Country Information Dataset and the World Happiness Report Datasets, we thought it would be interesting to discover what factors most influenced the happiness of a people and with analyzing these factors we tried to answer the ageold question: 'Does money buy happiness?'."
   ]
  },
  {
   "cell_type": "markdown",
   "id": "5777878e-d240-4c5e-81f2-b0431f20fa22",
   "metadata": {},
   "source": [
    "## Data cleaning"
   ]
  },
  {
   "cell_type": "markdown",
   "id": "67bfa8eb",
   "metadata": {},
   "source": [
    "Since we wanted to aggregate the datasets from the years 2015 to 2020 into the Global Country Information Database 2023, based on country name, we had to ensure all columns containing the countries had the same name. We also had to correct a small discrepancy between country names in the different datasets, so they would be equal in every dataset and aggregation would be possible. \n",
    "\n",
    "To be able to differentiate between the multiple happiness score-columns, we labeled each column with the correct year.\n",
    "\n",
    "5 Rows had inefficient or too little data have on Happiness scores, so those rows were deleted. We eventually ended up with 189 countries still remaining.\n"
   ]
  },
  {
   "cell_type": "markdown",
   "id": "7c1632f7",
   "metadata": {},
   "source": [
    "## Variable Desprictions"
   ]
  },
  {
   "cell_type": "markdown",
   "id": "ff10b086",
   "metadata": {},
   "source": [
    "Merged_dataset2_updated.csv is a rather big dataset, so we will show you and classify only the important variables:\n",
    "\n",
    "- Categorical/Nominal: Country names\n",
    "- Continuous/Ratio: Life expectancy, Birthrate, Infant mortality, Minimum wage, Gross tertiary education enrollment (%), Fertility rate, Maternal mortality ratio, Physicians per thousand, Out-of-pocket health expenditure, Latitude, Gasoline price, Tax revenue (%), Agricultural land, CPI (Consumer Price Index), CPI change, Unemployment rate, Longitude, Forested area (%), GDP, GDP per capita, Social support, Inequality (gini) coefficient\n",
    "- Ordinal: World Happiness Score"
   ]
  }
 ],
 "metadata": {
  "celltoolbar": "Tags",
  "kernelspec": {
   "display_name": "Python 3 (ipykernel)",
   "language": "python",
   "name": "python3"
  },
  "language_info": {
   "codemirror_mode": {
    "name": "ipython",
    "version": 3
   },
   "file_extension": ".py",
   "mimetype": "text/x-python",
   "name": "python",
   "nbconvert_exporter": "python",
   "pygments_lexer": "ipython3",
   "version": "3.10.14"
  }
 },
 "nbformat": 4,
 "nbformat_minor": 5
}
